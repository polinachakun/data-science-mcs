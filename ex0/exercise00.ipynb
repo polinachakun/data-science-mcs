{
 "cells": [
  {
   "metadata": {},
   "cell_type": "markdown",
   "source": "# Exercise 0\n"
  },
  {
   "metadata": {},
   "cell_type": "markdown",
   "source": [
    "Welcome to the Data Science Exercise!\n",
    "Since this is the first week, and the first exercise group takes place immediately after the first lecture, we will go over basic `pandas` in this first Exercise.\n",
    "\n",
    "If there is something from the first lecture that you want to hear more about, please tell us! We will prioritize these topics and then move on to this `pandas` notebook. Of course you can still ask questions about the lecture while we are doing the `pandas` notebook!"
   ]
  },
  {
   "metadata": {
    "ExecuteTime": {
     "end_time": "2024-09-21T09:44:14.734805Z",
     "start_time": "2024-09-21T09:44:13.784247Z"
    }
   },
   "cell_type": "code",
   "source": "!pip install -r requirements.txt",
   "outputs": [
    {
     "name": "stdout",
     "output_type": "stream",
     "text": [
      "\u001B[31mERROR: Ignored the following versions that require a different python version: 2.1.0 Requires-Python >=3.10; 2.1.0rc1 Requires-Python >=3.10; 2.1.1 Requires-Python >=3.10\u001B[0m\u001B[31m\r\n",
      "\u001B[0m\u001B[31mERROR: Could not find a version that satisfies the requirement numpy==2.1.1 (from versions: 1.3.0, 1.4.1, 1.5.0, 1.5.1, 1.6.0, 1.6.1, 1.6.2, 1.7.0, 1.7.1, 1.7.2, 1.8.0, 1.8.1, 1.8.2, 1.9.0, 1.9.1, 1.9.2, 1.9.3, 1.10.0.post2, 1.10.1, 1.10.2, 1.10.4, 1.11.0, 1.11.1, 1.11.2, 1.11.3, 1.12.0, 1.12.1, 1.13.0, 1.13.1, 1.13.3, 1.14.0, 1.14.1, 1.14.2, 1.14.3, 1.14.4, 1.14.5, 1.14.6, 1.15.0, 1.15.1, 1.15.2, 1.15.3, 1.15.4, 1.16.0, 1.16.1, 1.16.2, 1.16.3, 1.16.4, 1.16.5, 1.16.6, 1.17.0, 1.17.1, 1.17.2, 1.17.3, 1.17.4, 1.17.5, 1.18.0, 1.18.1, 1.18.2, 1.18.3, 1.18.4, 1.18.5, 1.19.0, 1.19.1, 1.19.2, 1.19.3, 1.19.4, 1.19.5, 1.20.0, 1.20.1, 1.20.2, 1.20.3, 1.21.0, 1.21.1, 1.21.2, 1.21.3, 1.21.4, 1.21.5, 1.21.6, 1.22.0, 1.22.1, 1.22.2, 1.22.3, 1.22.4, 1.23.0, 1.23.1, 1.23.2, 1.23.3, 1.23.4, 1.23.5, 1.24.0, 1.24.1, 1.24.2, 1.24.3, 1.24.4, 1.25.0, 1.25.1, 1.25.2, 1.26.0, 1.26.1, 1.26.2, 1.26.3, 1.26.4, 2.0.0, 2.0.1, 2.0.2)\u001B[0m\u001B[31m\r\n",
      "\u001B[0m\u001B[31mERROR: No matching distribution found for numpy==2.1.1\u001B[0m\u001B[31m\r\n",
      "\u001B[0m\r\n",
      "\u001B[1m[\u001B[0m\u001B[34;49mnotice\u001B[0m\u001B[1;39;49m]\u001B[0m\u001B[39;49m A new release of pip is available: \u001B[0m\u001B[31;49m23.2.1\u001B[0m\u001B[39;49m -> \u001B[0m\u001B[32;49m24.2\u001B[0m\r\n",
      "\u001B[1m[\u001B[0m\u001B[34;49mnotice\u001B[0m\u001B[1;39;49m]\u001B[0m\u001B[39;49m To update, run: \u001B[0m\u001B[32;49mpip install --upgrade pip\u001B[0m\r\n"
     ]
    }
   ],
   "execution_count": 1
  },
  {
   "cell_type": "markdown",
   "metadata": {
    "collapsed": false,
    "id": "aeoLWpxK-Hov"
   },
   "source": "# The Series Data Structure"
  },
  {
   "cell_type": "markdown",
   "metadata": {
    "collapsed": false,
    "id": "5uAJlRmz-Ho0"
   },
   "source": "The `Series` is one of the core data structures in `pandas`. You think of it a cross between a list and a dictionary. The items are all stored in an order and there's labels with which you can retrieve them."
  },
  {
   "cell_type": "code",
   "metadata": {
    "hidePrompt": true,
    "colab": {
     "base_uri": "https://localhost:8080/"
    },
    "id": "GT9UKHqO-Ho1",
    "outputId": "6020b526-5c0b-4b88-e5f6-f354eab18520",
    "ExecuteTime": {
     "end_time": "2024-09-22T14:45:58.045061Z",
     "start_time": "2024-09-22T14:45:58.041362Z"
    }
   },
   "source": [
    "import pandas as pd\n",
    "\n",
    "print(pd.__version__)"
   ],
   "outputs": [
    {
     "name": "stdout",
     "output_type": "stream",
     "text": [
      "2.2.3\n"
     ]
    }
   ],
   "execution_count": 5
  },
  {
   "cell_type": "markdown",
   "metadata": {
    "collapsed": false,
    "hidePrompt": true,
    "id": "559ivFTf-Ho3"
   },
   "source": [
    "Jupyter Notebook provides an extended help and show the documentation, using the question mark operator `?`\n",
    "\n",
    "**Note**: Depending on your IDE this may look different or appear in a different place. You can of course always use the official documentation as well. Especially for `pandas` it's very good and comprehensive."
   ]
  },
  {
   "cell_type": "code",
   "metadata": {
    "id": "xNqnqt49-Ho4",
    "ExecuteTime": {
     "end_time": "2024-09-22T14:45:59.970868Z",
     "start_time": "2024-09-22T14:45:59.968532Z"
    }
   },
   "source": "# pd.Series?",
   "outputs": [],
   "execution_count": 6
  },
  {
   "cell_type": "code",
   "metadata": {
    "colab": {
     "base_uri": "https://localhost:8080/"
    },
    "id": "69hyMB77-Ho5",
    "outputId": "da429d32-6a7d-4aaa-bc52-5274a6a82d9e",
    "ExecuteTime": {
     "end_time": "2024-09-22T14:46:01.528614Z",
     "start_time": "2024-09-22T14:46:01.524039Z"
    }
   },
   "source": [
    "animals = ['Tiger', 'Bear', 'Moose']\n",
    "animal_series = pd.Series(animals)\n",
    "animal_series"
   ],
   "outputs": [
    {
     "data": {
      "text/plain": [
       "0    Tiger\n",
       "1     Bear\n",
       "2    Moose\n",
       "dtype: object"
      ]
     },
     "execution_count": 7,
     "metadata": {},
     "output_type": "execute_result"
    }
   ],
   "execution_count": 7
  },
  {
   "cell_type": "code",
   "metadata": {
    "colab": {
     "base_uri": "https://localhost:8080/"
    },
    "id": "c0Gxdp_--Ho5",
    "outputId": "e62c330c-96a8-400d-ac8d-fe3c8bd688de",
    "ExecuteTime": {
     "end_time": "2024-09-22T14:46:04.995278Z",
     "start_time": "2024-09-22T14:46:04.992409Z"
    }
   },
   "source": [
    "numbers = [1, 2, 3]\n",
    "pd.Series(numbers)"
   ],
   "outputs": [
    {
     "data": {
      "text/plain": [
       "0    1\n",
       "1    2\n",
       "2    3\n",
       "dtype: int64"
      ]
     },
     "execution_count": 8,
     "metadata": {},
     "output_type": "execute_result"
    }
   ],
   "execution_count": 8
  },
  {
   "cell_type": "markdown",
   "metadata": {
    "collapsed": false,
    "id": "sjChcy1Q-Ho6"
   },
   "source": [
    "`pandas` stores series values in a typed array using the `NumPy` library. This offers significant speed-up when processing data versus traditional Python lists.\n",
    "\n",
    "There's some other typing details that exist for performance that are important to know. The most important is how `NumPy` and thus `pandas` handle missing data. In Python, we have the `None` type to indicate a lack of data. But what do we do if we want to have a typed list like we do in the series object?"
   ]
  },
  {
   "cell_type": "code",
   "metadata": {
    "colab": {
     "base_uri": "https://localhost:8080/"
    },
    "id": "zsaK3fKZ-Ho7",
    "outputId": "9ffe80d3-2b45-4d1d-a6b0-62635595ff97",
    "ExecuteTime": {
     "end_time": "2024-09-21T09:44:56.706315Z",
     "start_time": "2024-09-21T09:44:56.701016Z"
    }
   },
   "source": [
    "animals = ['Tiger', 'Bear', None]\n",
    "pd.Series(animals)"
   ],
   "outputs": [
    {
     "data": {
      "text/plain": [
       "0    Tiger\n",
       "1     Bear\n",
       "2     None\n",
       "dtype: object"
      ]
     },
     "execution_count": 7,
     "metadata": {},
     "output_type": "execute_result"
    }
   ],
   "execution_count": 7
  },
  {
   "cell_type": "markdown",
   "metadata": {
    "collapsed": false,
    "id": "s5ZnCC8l-Ho8"
   },
   "source": " If we create a list of numbers, integers or floats, and put in the `None` type, `pandas` automatically converts this to a special floating point value designated as `NaN`, which stands for 'not a number'."
  },
  {
   "cell_type": "code",
   "metadata": {
    "colab": {
     "base_uri": "https://localhost:8080/"
    },
    "id": "vQxxS7Qt-Ho9",
    "outputId": "928da178-f418-4aa5-cb3b-806480441cdc",
    "ExecuteTime": {
     "end_time": "2024-09-21T09:45:07.467513Z",
     "start_time": "2024-09-21T09:45:07.461020Z"
    }
   },
   "source": [
    "numbers = [1, 2, None]\n",
    "pd.Series(numbers)"
   ],
   "outputs": [
    {
     "data": {
      "text/plain": [
       "0    1.0\n",
       "1    2.0\n",
       "2    NaN\n",
       "dtype: float64"
      ]
     },
     "execution_count": 9,
     "metadata": {},
     "output_type": "execute_result"
    }
   ],
   "execution_count": 9
  },
  {
   "cell_type": "markdown",
   "metadata": {
    "collapsed": false,
    "id": "Qg3y27r4-Ho9"
   },
   "source": "`NaN` is not `None` and when we try the equality test, it evaluates to `False`."
  },
  {
   "cell_type": "code",
   "metadata": {
    "colab": {
     "base_uri": "https://localhost:8080/"
    },
    "id": "UaAfi3Z_-Ho9",
    "outputId": "2f2e9a1f-9865-4782-f552-3b88a070892e",
    "ExecuteTime": {
     "end_time": "2024-09-21T09:45:09.278703Z",
     "start_time": "2024-09-21T09:45:09.275471Z"
    }
   },
   "source": [
    "import numpy as np\n",
    "\n",
    "# noinspection PyComparisonWithNone\n",
    "np.nan == None"
   ],
   "outputs": [
    {
     "data": {
      "text/plain": [
       "False"
      ]
     },
     "execution_count": 10,
     "metadata": {},
     "output_type": "execute_result"
    }
   ],
   "execution_count": 10
  },
  {
   "cell_type": "markdown",
   "metadata": {
    "collapsed": false,
    "id": "5z8YAX8W-Ho-"
   },
   "source": [
    "It turns out that you also can't do an equality test of `NaN` to itself. When you do, the answer is always `False`.\n",
    "\n",
    "Why is explained [here](https://stackoverflow.com/questions/1565164/what-is-the-rationale-for-all-comparisons-returning-false-for-ieee754-nan-values/1573715)."
   ]
  },
  {
   "cell_type": "code",
   "metadata": {
    "colab": {
     "base_uri": "https://localhost:8080/"
    },
    "id": "b_0nK4cg-Ho-",
    "outputId": "2a438ffe-888b-4826-ee5c-2596007ec59d",
    "ExecuteTime": {
     "end_time": "2024-09-21T09:45:12.144361Z",
     "start_time": "2024-09-21T09:45:12.141367Z"
    }
   },
   "source": [
    "np.nan == np.nan"
   ],
   "outputs": [
    {
     "data": {
      "text/plain": [
       "False"
      ]
     },
     "execution_count": 11,
     "metadata": {},
     "output_type": "execute_result"
    }
   ],
   "execution_count": 11
  },
  {
   "cell_type": "markdown",
   "metadata": {
    "collapsed": false,
    "id": "HcqJOlTR-Ho-"
   },
   "source": [
    " You need to use special functions to test for the presence of not a number, such as the Numpy library `isnan()`."
   ]
  },
  {
   "cell_type": "code",
   "metadata": {
    "colab": {
     "base_uri": "https://localhost:8080/"
    },
    "id": "IrgXaE5v-Ho_",
    "outputId": "7f8e1d83-498a-45d0-e2a4-a951b33c3416",
    "ExecuteTime": {
     "end_time": "2024-09-21T09:45:13.615919Z",
     "start_time": "2024-09-21T09:45:13.612349Z"
    }
   },
   "source": [
    "np.isnan(np.nan)"
   ],
   "outputs": [
    {
     "data": {
      "text/plain": [
       "np.True_"
      ]
     },
     "execution_count": 12,
     "metadata": {},
     "output_type": "execute_result"
    }
   ],
   "execution_count": 12
  },
  {
   "cell_type": "markdown",
   "metadata": {
    "collapsed": false,
    "id": "iL68_K04-Ho_"
   },
   "source": [
    "A series can be created from dictionary data."
   ]
  },
  {
   "cell_type": "code",
   "source": [
    "sports = {\n",
    "    'Football': 'Germany',\n",
    "    'Golf': 'Scotland',\n",
    "    'Sumo': 'Japan',\n",
    "    'Taekwondo': 'South Korea'\n",
    "}\n",
    "sports[\"Golf\"]"
   ],
   "metadata": {
    "colab": {
     "base_uri": "https://localhost:8080/",
     "height": 35
    },
    "id": "IrEPDnuA5bvh",
    "outputId": "596ac2d8-9f6b-43a8-8178-a540c9e559dc",
    "ExecuteTime": {
     "end_time": "2024-09-21T09:45:17.007354Z",
     "start_time": "2024-09-21T09:45:17.003309Z"
    }
   },
   "outputs": [
    {
     "data": {
      "text/plain": [
       "'Scotland'"
      ]
     },
     "execution_count": 14,
     "metadata": {},
     "output_type": "execute_result"
    }
   ],
   "execution_count": 14
  },
  {
   "cell_type": "code",
   "metadata": {
    "colab": {
     "base_uri": "https://localhost:8080/"
    },
    "id": "CLx7H1eI-Ho_",
    "outputId": "9943c322-1677-4f0c-c4a6-bba7e5ef582f",
    "ExecuteTime": {
     "end_time": "2024-09-21T09:45:18.924103Z",
     "start_time": "2024-09-21T09:45:18.918969Z"
    }
   },
   "source": [
    "sports = {\n",
    "    'Football': 'Germany',\n",
    "    'Golf': 'Scotland',\n",
    "    'Sumo': 'Japan',\n",
    "    'Taekwondo': 'South Korea'\n",
    "}\n",
    "s = pd.Series(sports)\n",
    "s"
   ],
   "outputs": [
    {
     "data": {
      "text/plain": [
       "Football         Germany\n",
       "Golf            Scotland\n",
       "Sumo               Japan\n",
       "Taekwondo    South Korea\n",
       "dtype: object"
      ]
     },
     "execution_count": 15,
     "metadata": {},
     "output_type": "execute_result"
    }
   ],
   "execution_count": 15
  },
  {
   "cell_type": "code",
   "metadata": {
    "colab": {
     "base_uri": "https://localhost:8080/"
    },
    "id": "pkD4j1uL-HpA",
    "outputId": "aa12c98a-398b-4b66-e7ab-32a3bd4e4d7c",
    "ExecuteTime": {
     "end_time": "2024-09-21T09:45:21.176644Z",
     "start_time": "2024-09-21T09:45:21.171633Z"
    }
   },
   "source": [
    "s.index"
   ],
   "outputs": [
    {
     "data": {
      "text/plain": [
       "Index(['Football', 'Golf', 'Sumo', 'Taekwondo'], dtype='object')"
      ]
     },
     "execution_count": 16,
     "metadata": {},
     "output_type": "execute_result"
    }
   ],
   "execution_count": 16
  },
  {
   "cell_type": "markdown",
   "metadata": {
    "collapsed": false,
    "id": "KfxyZgts-HpB"
   },
   "source": [
    "You could also separate your index creation from the data by passing in the index as a list explicitly to the series."
   ]
  },
  {
   "cell_type": "code",
   "metadata": {
    "colab": {
     "base_uri": "https://localhost:8080/"
    },
    "id": "NtcLPHKI-HpB",
    "outputId": "32ef78c6-1687-4052-d975-9e902aae3412",
    "ExecuteTime": {
     "end_time": "2024-09-21T09:45:22.157402Z",
     "start_time": "2024-09-21T09:45:22.153215Z"
    }
   },
   "source": [
    "s = pd.Series(['Tiger', 'Bear', 'Moose'], index=['India', 'America', 'Canada'])\n",
    "s"
   ],
   "outputs": [
    {
     "data": {
      "text/plain": [
       "India      Tiger\n",
       "America     Bear\n",
       "Canada     Moose\n",
       "dtype: object"
      ]
     },
     "execution_count": 17,
     "metadata": {},
     "output_type": "execute_result"
    }
   ],
   "execution_count": 17
  },
  {
   "cell_type": "markdown",
   "metadata": {
    "collapsed": false,
    "id": "2bU3j2Qg-HpB"
   },
   "source": "In the following example, we pass in a dictionary of four items but only two are preserved in the `Series` object because of the `index` argument. We see that `\"Hockey\"` is included in the `index` argument, but because it does not exist in the dictionary, it has no value associated with it."
  },
  {
   "cell_type": "code",
   "metadata": {
    "colab": {
     "base_uri": "https://localhost:8080/"
    },
    "id": "SWfHF-UK-HpC",
    "outputId": "1ac599ac-4af1-4332-b501-6bf606bec537",
    "ExecuteTime": {
     "end_time": "2024-09-21T09:45:24.522959Z",
     "start_time": "2024-09-21T09:45:24.516971Z"
    }
   },
   "source": [
    "sports = {\n",
    "    'Football': 'Germany',\n",
    "    'Golf': 'Scotland',\n",
    "    'Sumo': 'Japan',\n",
    "    'Taekwondo': 'South Korea'\n",
    "}\n",
    "s = pd.Series(sports, index=['Golf', 'Sumo', 'Hockey'])\n",
    "s"
   ],
   "outputs": [
    {
     "data": {
      "text/plain": [
       "Golf      Scotland\n",
       "Sumo         Japan\n",
       "Hockey         NaN\n",
       "dtype: object"
      ]
     },
     "execution_count": 18,
     "metadata": {},
     "output_type": "execute_result"
    }
   ],
   "execution_count": 18
  },
  {
   "cell_type": "markdown",
   "metadata": {
    "collapsed": false,
    "id": "GweYg9Nm-HpC"
   },
   "source": [
    "# Querying a Series"
   ]
  },
  {
   "cell_type": "markdown",
   "metadata": {
    "collapsed": false,
    "id": "KRY8t8N4-HpD"
   },
   "source": "A `pandas` `Series` can be queried, either by the index position or the index label. As we saw, if you don't give an index to the series, the position and the label are effectively the same values. To query by numeric location, starting at zero, use the `iloc` attribute. To query by the index label, you can use the `loc` attribute."
  },
  {
   "cell_type": "code",
   "metadata": {
    "id": "pp5duIdX-HpD",
    "ExecuteTime": {
     "end_time": "2024-09-21T09:45:28.622308Z",
     "start_time": "2024-09-21T09:45:28.620475Z"
    }
   },
   "source": "import pandas as pd",
   "outputs": [],
   "execution_count": 19
  },
  {
   "cell_type": "code",
   "metadata": {
    "colab": {
     "base_uri": "https://localhost:8080/"
    },
    "id": "JPcKggkJ-HpD",
    "outputId": "6c8572a9-5384-4079-e780-903b317d0e51",
    "ExecuteTime": {
     "end_time": "2024-09-21T09:45:30.033106Z",
     "start_time": "2024-09-21T09:45:30.029452Z"
    }
   },
   "source": [
    "sports = {\n",
    "    'Football': 'Germany',\n",
    "    'Golf': 'Scotland',\n",
    "    'Sumo': 'Japan',\n",
    "    'Taekwondo': 'South Korea'\n",
    "}\n",
    "s = pd.Series(sports)\n",
    "s"
   ],
   "outputs": [
    {
     "data": {
      "text/plain": [
       "Football         Germany\n",
       "Golf            Scotland\n",
       "Sumo               Japan\n",
       "Taekwondo    South Korea\n",
       "dtype: object"
      ]
     },
     "execution_count": 20,
     "metadata": {},
     "output_type": "execute_result"
    }
   ],
   "execution_count": 20
  },
  {
   "cell_type": "markdown",
   "metadata": {
    "collapsed": false,
    "id": "G8_s0yPj-HpD"
   },
   "source": [
    "Access a row by integer index"
   ]
  },
  {
   "cell_type": "code",
   "metadata": {
    "colab": {
     "base_uri": "https://localhost:8080/",
     "height": 35
    },
    "id": "TU_qhHyh-HpE",
    "outputId": "85bbeabc-27a3-4436-956c-40ed4aaf6cfd",
    "ExecuteTime": {
     "end_time": "2024-09-21T09:45:32.050889Z",
     "start_time": "2024-09-21T09:45:32.048261Z"
    }
   },
   "source": [
    "s.iloc[3]"
   ],
   "outputs": [
    {
     "data": {
      "text/plain": [
       "'South Korea'"
      ]
     },
     "execution_count": 21,
     "metadata": {},
     "output_type": "execute_result"
    }
   ],
   "execution_count": 21
  },
  {
   "cell_type": "markdown",
   "metadata": {
    "collapsed": false,
    "id": "rSudrlFG-HpE"
   },
   "source": [
    "Access a row by label"
   ]
  },
  {
   "cell_type": "code",
   "metadata": {
    "colab": {
     "base_uri": "https://localhost:8080/",
     "height": 35
    },
    "id": "SmSQFE6F-HpE",
    "outputId": "356ddc94-9bc0-4367-db21-bc3d4f9e0145",
    "ExecuteTime": {
     "end_time": "2024-09-21T09:45:34.019590Z",
     "start_time": "2024-09-21T09:45:34.015587Z"
    }
   },
   "source": [
    "s.loc['Golf']"
   ],
   "outputs": [
    {
     "data": {
      "text/plain": [
       "'Scotland'"
      ]
     },
     "execution_count": 22,
     "metadata": {},
     "output_type": "execute_result"
    }
   ],
   "execution_count": 22
  },
  {
   "cell_type": "markdown",
   "metadata": {
    "collapsed": false,
    "id": "LLAgOXEZ-HpE"
   },
   "source": "Keep in mind that `iloc` and `loc` are not methods, they are attributes. So you don't use parentheses to query them, but square brackets instead, which we'll call the indexing operator."
  },
  {
   "cell_type": "markdown",
   "metadata": {
    "collapsed": false,
    "id": "eckfhpjw-HpE"
   },
   "source": [
    "If you pass in an integer parameter, the operator will behave as if you want it to query via the `iloc` attribute.\n",
    "\n",
    "If your `pandas` version is current enough, you should see a warning:\n",
    "\n",
    "`/tmp/ipykernel_144448/3028526611.py:1: FutureWarning: Series.__getitem__ treating keys as positions is deprecated. In a future version, integer keys will always be treated as labels (consistent with DataFrame behavior). To access a value by position, use ser.iloc[pos]`\n",
    "\n",
    "This means we can currently do it like this, but in a future `pandas` version the ability to do so will be removed and we should use `.iloc` instead."
   ]
  },
  {
   "cell_type": "code",
   "metadata": {
    "colab": {
     "base_uri": "https://localhost:8080/",
     "height": 35
    },
    "id": "oa4n9DUU-HpF",
    "outputId": "dd321428-6a75-4666-beab-edfa46629c23",
    "ExecuteTime": {
     "end_time": "2024-09-21T09:45:35.844881Z",
     "start_time": "2024-09-21T09:45:35.840550Z"
    }
   },
   "source": [
    "s[3]"
   ],
   "outputs": [
    {
     "name": "stderr",
     "output_type": "stream",
     "text": [
      "/var/folders/9j/1050b49n4kj_615mds_fqt2c0000gn/T/ipykernel_97578/3028526611.py:1: FutureWarning: Series.__getitem__ treating keys as positions is deprecated. In a future version, integer keys will always be treated as labels (consistent with DataFrame behavior). To access a value by position, use `ser.iloc[pos]`\n",
      "  s[3]\n"
     ]
    },
    {
     "data": {
      "text/plain": [
       "'South Korea'"
      ]
     },
     "execution_count": 23,
     "metadata": {},
     "output_type": "execute_result"
    }
   ],
   "execution_count": 23
  },
  {
   "cell_type": "markdown",
   "metadata": {
    "collapsed": false,
    "id": "b8o8uM6B-HpF"
   },
   "source": [
    "If you pass in an object, it will query as if you wanted to use the label based `loc` attribute."
   ]
  },
  {
   "cell_type": "code",
   "metadata": {
    "colab": {
     "base_uri": "https://localhost:8080/",
     "height": 35
    },
    "id": "1gXgZfJs-HpF",
    "outputId": "cf83492f-f034-47a3-c846-00ccea551025",
    "ExecuteTime": {
     "end_time": "2024-09-21T09:45:40.541091Z",
     "start_time": "2024-09-21T09:45:40.537628Z"
    }
   },
   "source": [
    "s['Golf']"
   ],
   "outputs": [
    {
     "data": {
      "text/plain": [
       "'Scotland'"
      ]
     },
     "execution_count": 24,
     "metadata": {},
     "output_type": "execute_result"
    }
   ],
   "execution_count": 24
  },
  {
   "cell_type": "markdown",
   "metadata": {
    "collapsed": false,
    "id": "Hw_1IkAl-HpF"
   },
   "source": [
    "Here's an example using some new sports data, where countries are indexed by integer."
   ]
  },
  {
   "cell_type": "code",
   "metadata": {
    "id": "826LiNUM-HpF",
    "ExecuteTime": {
     "end_time": "2024-09-22T14:45:38.450922Z",
     "start_time": "2024-09-22T14:45:38.443675Z"
    }
   },
   "source": [
    "sports = {\n",
    "    99: 'Germany',\n",
    "    100: 'Scotland',\n",
    "    101: 'Japan',\n",
    "    102: 'South Korea'\n",
    "}\n",
    "s = pd.Series(sports)"
   ],
   "outputs": [],
   "execution_count": 4
  },
  {
   "cell_type": "markdown",
   "metadata": {
    "collapsed": false,
    "id": "fZIketo2-HpG"
   },
   "source": "If we try and call `s[0]`, we get a `KeyError`."
  },
  {
   "cell_type": "code",
   "metadata": {
    "scrolled": true,
    "id": "paqAFpWG-HpG",
    "ExecuteTime": {
     "end_time": "2024-09-21T09:45:43.618741Z",
     "start_time": "2024-09-21T09:45:43.616467Z"
    }
   },
   "source": "# s[0]  # we get a key error, because there's no item in the sports list with an index of zero.",
   "outputs": [],
   "execution_count": 26
  },
  {
   "cell_type": "code",
   "metadata": {
    "colab": {
     "base_uri": "https://localhost:8080/",
     "height": 35
    },
    "id": "sYHpFnjT-HpG",
    "outputId": "9d0bb83e-6aed-4318-d08e-61e003b959dc",
    "ExecuteTime": {
     "end_time": "2024-09-21T09:45:45.277525Z",
     "start_time": "2024-09-21T09:45:45.273840Z"
    }
   },
   "source": "s.iloc[0]  # Instead we have to call iloc explicitly if we want the first item.",
   "outputs": [
    {
     "data": {
      "text/plain": [
       "'Germany'"
      ]
     },
     "execution_count": 27,
     "metadata": {},
     "output_type": "execute_result"
    }
   ],
   "execution_count": 27
  },
  {
   "metadata": {},
   "cell_type": "markdown",
   "source": [
    "The first entry has the index `99`. This may look confusing - we only have four elements, so how can the element have such a high index?\n",
    "\n",
    "That's because we have specified the index when we created the `Series` object: the keys in our `sports` dictionary! It works essentially the same way here as it does in a dictionary: we associate the index `99` with the value `'Germany'`."
   ]
  },
  {
   "cell_type": "code",
   "metadata": {
    "colab": {
     "base_uri": "https://localhost:8080/",
     "height": 35
    },
    "id": "EhFh4bGh-HpG",
    "outputId": "4c649649-7e9f-4aa2-d6eb-f53e9b4d0765",
    "ExecuteTime": {
     "end_time": "2024-09-21T09:45:47.500103Z",
     "start_time": "2024-09-21T09:45:47.495953Z"
    }
   },
   "source": "s[99]",
   "outputs": [
    {
     "data": {
      "text/plain": [
       "'Germany'"
      ]
     },
     "execution_count": 28,
     "metadata": {},
     "output_type": "execute_result"
    }
   ],
   "execution_count": 28
  },
  {
   "cell_type": "markdown",
   "metadata": {
    "collapsed": false,
    "id": "khyeSAtn-HpG"
   },
   "source": [
    "Let's talk about working with the data."
   ]
  },
  {
   "cell_type": "markdown",
   "metadata": {
    "collapsed": false,
    "id": "6sOKRRog-HpG"
   },
   "source": [
    "A data Series of floating point values."
   ]
  },
  {
   "cell_type": "code",
   "metadata": {
    "colab": {
     "base_uri": "https://localhost:8080/"
    },
    "id": "4VgERr5Q-HpH",
    "outputId": "62147289-866c-4126-b0d7-ad0c569becd1",
    "ExecuteTime": {
     "end_time": "2024-09-21T09:45:49.348285Z",
     "start_time": "2024-09-21T09:45:49.343999Z"
    }
   },
   "source": [
    "s = pd.Series([100.00, 120.00, 101.00, 3.00])\n",
    "s"
   ],
   "outputs": [
    {
     "data": {
      "text/plain": [
       "0    100.0\n",
       "1    120.0\n",
       "2    101.0\n",
       "3      3.0\n",
       "dtype: float64"
      ]
     },
     "execution_count": 29,
     "metadata": {},
     "output_type": "execute_result"
    }
   ],
   "execution_count": 29
  },
  {
   "cell_type": "markdown",
   "metadata": {
    "collapsed": false,
    "id": "-e8aBojK-HpH"
   },
   "source": "An iteration over all the items in the series and adds them together to get a total."
  },
  {
   "cell_type": "code",
   "metadata": {
    "colab": {
     "base_uri": "https://localhost:8080/"
    },
    "id": "b7cswZN0-HpH",
    "outputId": "de6aa054-1812-40c4-a61b-fbb6af4f44b1",
    "ExecuteTime": {
     "end_time": "2024-09-21T09:45:51.295651Z",
     "start_time": "2024-09-21T09:45:51.293120Z"
    }
   },
   "source": [
    "total = 0\n",
    "for item in s:\n",
    "    total += item\n",
    "print(total)"
   ],
   "outputs": [
    {
     "name": "stdout",
     "output_type": "stream",
     "text": [
      "324.0\n"
     ]
    }
   ],
   "execution_count": 30
  },
  {
   "cell_type": "markdown",
   "metadata": {
    "collapsed": false,
    "id": "kMqQMgN2-HpH"
   },
   "source": [
    "This works, but it's slow."
   ]
  },
  {
   "cell_type": "markdown",
   "metadata": {
    "collapsed": false,
    "id": "N1JUPVlL-HpH"
   },
   "source": "We can do it much faster by using `Numpy`'s `sum` method:"
  },
  {
   "cell_type": "code",
   "metadata": {
    "colab": {
     "base_uri": "https://localhost:8080/"
    },
    "id": "3DT2N3k0-HpH",
    "outputId": "95c2221e-f9e8-4fd6-9e31-9dca60102434",
    "ExecuteTime": {
     "end_time": "2024-09-21T09:45:52.888300Z",
     "start_time": "2024-09-21T09:45:52.885058Z"
    }
   },
   "source": [
    "import numpy as np\n",
    "\n",
    "total = np.sum(s)\n",
    "print(total)"
   ],
   "outputs": [
    {
     "name": "stdout",
     "output_type": "stream",
     "text": [
      "324.0\n"
     ]
    }
   ],
   "execution_count": 31
  },
  {
   "metadata": {},
   "cell_type": "markdown",
   "source": "This `Series` is a bit small. Let's try it with a bigger one. First we create a new `Series` object with a lot of (random) numbers:"
  },
  {
   "cell_type": "code",
   "metadata": {
    "colab": {
     "base_uri": "https://localhost:8080/"
    },
    "id": "xvpdzuKA-HpI",
    "outputId": "8c65f16a-ecca-4a08-e0d7-477bf4ff43bc",
    "ExecuteTime": {
     "end_time": "2024-09-21T09:45:54.550875Z",
     "start_time": "2024-09-21T09:45:54.544343Z"
    }
   },
   "source": [
    "s = pd.Series(np.random.randint(0, 1000, 10000))  # low=0, high=1000, size=10000\n",
    "s.head()"
   ],
   "outputs": [
    {
     "data": {
      "text/plain": [
       "0    539\n",
       "1    470\n",
       "2    228\n",
       "3    253\n",
       "4    356\n",
       "dtype: int64"
      ]
     },
     "execution_count": 32,
     "metadata": {},
     "output_type": "execute_result"
    }
   ],
   "execution_count": 32
  },
  {
   "cell_type": "code",
   "metadata": {
    "colab": {
     "base_uri": "https://localhost:8080/"
    },
    "id": "t0tmi40R-HpI",
    "outputId": "563a72a5-509a-44d4-b9a5-f827c7440ab6",
    "ExecuteTime": {
     "end_time": "2024-09-21T09:45:56.398258Z",
     "start_time": "2024-09-21T09:45:56.395231Z"
    }
   },
   "source": [
    "len(s)"
   ],
   "outputs": [
    {
     "data": {
      "text/plain": [
       "10000"
      ]
     },
     "execution_count": 33,
     "metadata": {},
     "output_type": "execute_result"
    }
   ],
   "execution_count": 33
  },
  {
   "cell_type": "markdown",
   "metadata": {
    "collapsed": false,
    "id": "kiNwJSUO-HpI"
   },
   "source": [
    "The function we're going to use is called `timeit`; this function will run our code a few times to determine, on average, how long it takes."
   ]
  },
  {
   "cell_type": "code",
   "metadata": {
    "colab": {
     "base_uri": "https://localhost:8080/"
    },
    "id": "iXWV0WAD-HpI",
    "outputId": "e01cb573-d630-464b-c601-cfb98a894413",
    "ExecuteTime": {
     "end_time": "2024-09-21T09:45:59.880363Z",
     "start_time": "2024-09-21T09:45:59.425126Z"
    }
   },
   "source": [
    "%%timeit -n 100\n",
    "summary = 0\n",
    "for item in s:\n",
    "    summary += item"
   ],
   "outputs": [
    {
     "name": "stdout",
     "output_type": "stream",
     "text": [
      "645 µs ± 24 µs per loop (mean ± std. dev. of 7 runs, 100 loops each)\n"
     ]
    }
   ],
   "execution_count": 34
  },
  {
   "cell_type": "markdown",
   "metadata": {
    "collapsed": false,
    "id": "lqi7ZWWL-HpI"
   },
   "source": "Now let's try again with the `sum` function from `NumPy`:"
  },
  {
   "cell_type": "code",
   "metadata": {
    "colab": {
     "base_uri": "https://localhost:8080/"
    },
    "id": "9R6kBrDK-HpJ",
    "outputId": "b5198d0a-6465-46d2-d46a-3c251fa9b363",
    "ExecuteTime": {
     "end_time": "2024-09-21T09:46:01.108779Z",
     "start_time": "2024-09-21T09:46:01.094809Z"
    }
   },
   "source": [
    "%%timeit -n 100\n",
    "summary = np.sum(s)"
   ],
   "outputs": [
    {
     "name": "stdout",
     "output_type": "stream",
     "text": [
      "15.7 µs ± 1.55 µs per loop (mean ± std. dev. of 7 runs, 100 loops each)\n"
     ]
    }
   ],
   "execution_count": 35
  },
  {
   "cell_type": "markdown",
   "metadata": {
    "collapsed": false,
    "id": "72xXunRM-HpJ"
   },
   "source": "This is much faster!"
  },
  {
   "cell_type": "markdown",
   "metadata": {
    "collapsed": false,
    "id": "hZ8T4yTy-HpJ"
   },
   "source": [
    "A related feature in Pandas and NumPy is called **broadcasting**. With broadcasting, you can apply an operation to every value in the series, changing the series."
   ]
  },
  {
   "metadata": {
    "ExecuteTime": {
     "end_time": "2024-09-21T09:46:02.840833Z",
     "start_time": "2024-09-21T09:46:02.836939Z"
    }
   },
   "cell_type": "code",
   "source": "s.head()",
   "outputs": [
    {
     "data": {
      "text/plain": [
       "0    539\n",
       "1    470\n",
       "2    228\n",
       "3    253\n",
       "4    356\n",
       "dtype: int64"
      ]
     },
     "execution_count": 36,
     "metadata": {},
     "output_type": "execute_result"
    }
   ],
   "execution_count": 36
  },
  {
   "cell_type": "code",
   "metadata": {
    "colab": {
     "base_uri": "https://localhost:8080/"
    },
    "id": "7o3EyrBn-HpJ",
    "outputId": "ed45727e-0de0-4808-81b5-77d6054e4fe7",
    "ExecuteTime": {
     "end_time": "2024-09-21T09:46:04.918720Z",
     "start_time": "2024-09-21T09:46:04.914051Z"
    }
   },
   "source": "s += 2  # adds two to each item in s using broadcasting",
   "outputs": [],
   "execution_count": 37
  },
  {
   "metadata": {
    "ExecuteTime": {
     "end_time": "2024-09-21T09:46:05.919612Z",
     "start_time": "2024-09-21T09:46:05.915629Z"
    }
   },
   "cell_type": "code",
   "source": "s.head()",
   "outputs": [
    {
     "data": {
      "text/plain": [
       "0    541\n",
       "1    472\n",
       "2    230\n",
       "3    255\n",
       "4    358\n",
       "dtype: int64"
      ]
     },
     "execution_count": 38,
     "metadata": {},
     "output_type": "execute_result"
    }
   ],
   "execution_count": 38
  },
  {
   "cell_type": "code",
   "metadata": {
    "colab": {
     "base_uri": "https://localhost:8080/"
    },
    "id": "m1-vKBWa-HpJ",
    "outputId": "0f60ee2b-f806-4ecc-a583-6dae0f9cd2f5",
    "ExecuteTime": {
     "end_time": "2024-09-21T09:46:08.963697Z",
     "start_time": "2024-09-21T09:46:08.863777Z"
    }
   },
   "source": [
    "for label, value in s.items():\n",
    "    s.at[label] = value + 2\n",
    "s.head()"
   ],
   "outputs": [
    {
     "data": {
      "text/plain": [
       "0    543\n",
       "1    474\n",
       "2    232\n",
       "3    257\n",
       "4    360\n",
       "dtype: int64"
      ]
     },
     "execution_count": 39,
     "metadata": {},
     "output_type": "execute_result"
    }
   ],
   "execution_count": 39
  },
  {
   "cell_type": "markdown",
   "metadata": {
    "collapsed": false,
    "id": "b61EpKKe-HpK"
   },
   "source": [
    "Let's try and time the two approaches for increasing the value"
   ]
  },
  {
   "cell_type": "code",
   "metadata": {
    "colab": {
     "base_uri": "https://localhost:8080/"
    },
    "id": "A8L4-rJW-HpK",
    "outputId": "414d6df5-5de8-4cb4-ba3f-9b194e714d1c",
    "ExecuteTime": {
     "end_time": "2024-09-21T09:46:21.377238Z",
     "start_time": "2024-09-21T09:46:11.094817Z"
    }
   },
   "source": [
    "%%timeit -n 10\n",
    "s = pd.Series(np.random.randint(0, 1000, 10000))\n",
    "for label, value in s.items():\n",
    "    s.loc[label] = value + 2"
   ],
   "outputs": [
    {
     "name": "stdout",
     "output_type": "stream",
     "text": [
      "147 ms ± 2.4 ms per loop (mean ± std. dev. of 7 runs, 10 loops each)\n"
     ]
    }
   ],
   "execution_count": 40
  },
  {
   "cell_type": "code",
   "metadata": {
    "colab": {
     "base_uri": "https://localhost:8080/"
    },
    "id": "RrdlC-VH-HpL",
    "outputId": "96d8dda4-f0b0-43d5-c019-7775b81690ce"
   },
   "source": [
    "%%timeit -n 10\n",
    "s = pd.Series(np.random.randint(0, 1000, 10000))\n",
    "s += 2"
   ],
   "outputs": [],
   "execution_count": null
  },
  {
   "cell_type": "markdown",
   "metadata": {
    "collapsed": false,
    "id": "yztnk2uG-HpM"
   },
   "source": "The approach using broadcasting is significantly faster, shorter and more readable."
  },
  {
   "cell_type": "markdown",
   "metadata": {
    "collapsed": false,
    "id": "37Iq9Czz-HpN"
   },
   "source": [
    "One last note on using the indexing operators to access series data. The `.loc` attribute lets you not only modify data in place, but also add new data as well."
   ]
  },
  {
   "cell_type": "markdown",
   "metadata": {
    "collapsed": false,
    "id": "pPR_bS-T-HpN"
   },
   "source": [
    "Pandas will automatically change the underlying NumPy types as appropriate."
   ]
  },
  {
   "cell_type": "code",
   "metadata": {
    "colab": {
     "base_uri": "https://localhost:8080/"
    },
    "id": "NGBqlD11-HpO",
    "outputId": "a22e0e63-880b-4c04-f1b7-765fca739de9"
   },
   "source": "s = pd.Series([1, 2, 3])",
   "outputs": [],
   "execution_count": null
  },
  {
   "metadata": {},
   "cell_type": "markdown",
   "source": "Look at the `dtype`: It says `int64`."
  },
  {
   "metadata": {},
   "cell_type": "code",
   "source": "s",
   "outputs": [],
   "execution_count": null
  },
  {
   "metadata": {},
   "cell_type": "markdown",
   "source": "Now check the `dtype` after we add a string to the `Series`:"
  },
  {
   "metadata": {},
   "cell_type": "code",
   "source": [
    "s.loc['Animal'] = 'Dog'\n",
    "s"
   ],
   "outputs": [],
   "execution_count": null
  },
  {
   "metadata": {},
   "cell_type": "markdown",
   "source": "It has changed to `object`."
  },
  {
   "cell_type": "markdown",
   "metadata": {
    "collapsed": false,
    "id": "hXUGEtB7-HpP"
   },
   "source": "Revisiting the issue of countries and their national sports, it turns out that many countries seem to like this game cricket. We go back to our original series on sports. It's possible to create a new `Series` object with multiple entries for cricket and merge it with the original by using the `pandas` `concat` function."
  },
  {
   "cell_type": "code",
   "metadata": {
    "id": "eFhgKC4k-HpQ"
   },
   "source": [
    "original_sports = pd.Series({\n",
    "    'Football': 'Germany',\n",
    "    'Golf': 'Scotland',\n",
    "    'Sumo': 'Japan',\n",
    "    'Taekwondo': 'South Korea'\n",
    "})\n",
    "\n",
    "cricket_loving_countries = pd.Series([\n",
    "    'Australia',\n",
    "    'Barbados',\n",
    "    'Pakistan',\n",
    "    'England'\n",
    "], index=[\n",
    "    'Cricket',\n",
    "    'Cricket',\n",
    "    'Cricket',\n",
    "    'Cricket'\n",
    "])\n",
    "\n",
    "all_countries = pd.concat([original_sports, cricket_loving_countries])"
   ],
   "outputs": [],
   "execution_count": null
  },
  {
   "metadata": {},
   "cell_type": "code",
   "source": "all_countries",
   "outputs": [],
   "execution_count": null
  },
  {
   "cell_type": "markdown",
   "metadata": {
    "collapsed": false,
    "id": "6jwXeglv-HpR"
   },
   "source": "Finally, we see that when we query the appended series for those who have cricket as their national sport, we don't get a single value, but another `Series`."
  },
  {
   "cell_type": "code",
   "metadata": {
    "colab": {
     "base_uri": "https://localhost:8080/"
    },
    "id": "B83gt5W7-HpR",
    "outputId": "a46b83a6-e53a-4a11-c9a4-1e48e96f3a60"
   },
   "source": [
    "all_countries.loc['Cricket']"
   ],
   "outputs": [],
   "execution_count": null
  },
  {
   "cell_type": "markdown",
   "metadata": {
    "collapsed": true,
    "id": "jATgIsPG-HpR"
   },
   "source": "# The `DataFrame` Data Structure"
  },
  {
   "cell_type": "markdown",
   "metadata": {
    "collapsed": false,
    "id": "01oQD5W8-HpR"
   },
   "source": "The `DataFrame` data structure is the heart of the `pandas` library. It's a primary object that you'll be working with in data analysis and cleaning tasks."
  },
  {
   "cell_type": "markdown",
   "metadata": {
    "collapsed": false,
    "id": "flgXpfs8-HpS"
   },
   "source": "The `DataFrame` is conceptually a two-dimensional `Series` object, where there's an index and multiple columns of content, with each column having a label. In fact, the distinction between a column and a row is really only a conceptual distinction. And you can think of the `DataFrame` itself as simply a two-axes labeled array."
  },
  {
   "cell_type": "markdown",
   "metadata": {
    "collapsed": false,
    "id": "ftgPVB-X-HpS"
   },
   "source": [
    "## `DataFrame` creation\n",
    "You can create a `DataFrame` in many different ways, some of which you might expect. For instance, you can use multiple `Series`, where each `Series` represents a row of data. Or you could use multiple dictionaries, where each dictionary represents a row of data."
   ]
  },
  {
   "cell_type": "markdown",
   "metadata": {
    "collapsed": false,
    "id": "KvPnrzUe-HpS"
   },
   "source": "We are going to create three purchase order records as `Series` objects for a sort of fictional store."
  },
  {
   "cell_type": "code",
   "metadata": {
    "colab": {
     "base_uri": "https://localhost:8080/",
     "height": 171
    },
    "id": "zJmkFDSj-HpS",
    "outputId": "36ab732a-06bf-4132-efd6-eccfaccc61c8",
    "ExecuteTime": {
     "end_time": "2024-09-24T14:29:25.872559Z",
     "start_time": "2024-09-24T14:29:25.024368Z"
    }
   },
   "source": [
    "import pandas as pd\n",
    "\n",
    "purchase_1 = pd.Series({\n",
    "    'Name': 'Matthias',\n",
    "    'Item Purchased': 'Dog Food',\n",
    "    'Cost': 22.50\n",
    "})\n",
    "purchase_2 = pd.Series({\n",
    "    'Name': 'Thomas',\n",
    "    'Item Purchased': 'Kitty Litter',\n",
    "    'Cost': 2.50\n",
    "})\n",
    "purchase_3 = pd.Series({\n",
    "    'Name': 'Christina',\n",
    "    'Item Purchased': 'Bird Seed',\n",
    "    'Cost': 5.00\n",
    "})\n",
    "\n",
    "df = pd.DataFrame([purchase_1, purchase_2, purchase_3], index=['Store 1', 'Store 1', 'Store 2'])\n",
    "df"
   ],
   "outputs": [
    {
     "data": {
      "text/plain": [
       "              Name Item Purchased  Cost\n",
       "Store 1   Matthias       Dog Food  22.5\n",
       "Store 1     Thomas   Kitty Litter   2.5\n",
       "Store 2  Christina      Bird Seed   5.0"
      ],
      "text/html": [
       "<div>\n",
       "<style scoped>\n",
       "    .dataframe tbody tr th:only-of-type {\n",
       "        vertical-align: middle;\n",
       "    }\n",
       "\n",
       "    .dataframe tbody tr th {\n",
       "        vertical-align: top;\n",
       "    }\n",
       "\n",
       "    .dataframe thead th {\n",
       "        text-align: right;\n",
       "    }\n",
       "</style>\n",
       "<table border=\"1\" class=\"dataframe\">\n",
       "  <thead>\n",
       "    <tr style=\"text-align: right;\">\n",
       "      <th></th>\n",
       "      <th>Name</th>\n",
       "      <th>Item Purchased</th>\n",
       "      <th>Cost</th>\n",
       "    </tr>\n",
       "  </thead>\n",
       "  <tbody>\n",
       "    <tr>\n",
       "      <th>Store 1</th>\n",
       "      <td>Matthias</td>\n",
       "      <td>Dog Food</td>\n",
       "      <td>22.5</td>\n",
       "    </tr>\n",
       "    <tr>\n",
       "      <th>Store 1</th>\n",
       "      <td>Thomas</td>\n",
       "      <td>Kitty Litter</td>\n",
       "      <td>2.5</td>\n",
       "    </tr>\n",
       "    <tr>\n",
       "      <th>Store 2</th>\n",
       "      <td>Christina</td>\n",
       "      <td>Bird Seed</td>\n",
       "      <td>5.0</td>\n",
       "    </tr>\n",
       "  </tbody>\n",
       "</table>\n",
       "</div>"
      ]
     },
     "execution_count": 1,
     "metadata": {},
     "output_type": "execute_result"
    }
   ],
   "execution_count": 1
  },
  {
   "cell_type": "markdown",
   "metadata": {
    "collapsed": false,
    "id": "esU6O6s0-HpS"
   },
   "source": "In this example, we wanted to select data associated with Store 2, so we query the `loc` attribute with one parameter."
  },
  {
   "cell_type": "markdown",
   "metadata": {
    "collapsed": false,
    "id": "OEfh9212-HpT"
   },
   "source": [
    "## Data Access\n",
    "Similar to how we did it when working with a `Series`, we can extract data using the `iloc` and `loc` attributes when working with a `DataFrame`.\n",
    "\n"
   ]
  },
  {
   "cell_type": "code",
   "metadata": {
    "colab": {
     "base_uri": "https://localhost:8080/"
    },
    "id": "HJG1RAmH-HpT",
    "outputId": "718ed40e-4d1a-4e9f-993e-6a70a29736ad",
    "ExecuteTime": {
     "end_time": "2024-09-24T14:29:44.703452Z",
     "start_time": "2024-09-24T14:29:44.698920Z"
    }
   },
   "source": [
    "df.iloc[0]"
   ],
   "outputs": [
    {
     "data": {
      "text/plain": [
       "Name              Matthias\n",
       "Item Purchased    Dog Food\n",
       "Cost                  22.5\n",
       "Name: Store 1, dtype: object"
      ]
     },
     "execution_count": 2,
     "metadata": {},
     "output_type": "execute_result"
    }
   ],
   "execution_count": 2
  },
  {
   "cell_type": "markdown",
   "metadata": {
    "collapsed": false,
    "id": "dwUCRxT1-HpT"
   },
   "source": "Because the `DataFrame` is two-dimensional, passing a single value to the `loc` indexing operator will return a series if there's only one row to return."
  },
  {
   "cell_type": "markdown",
   "metadata": {
    "collapsed": false,
    "id": "Shseyjdg-HpT"
   },
   "source": [
    "In the following example, we want to select data associated with Store 2, so we query the `loc` attribute with one parameter."
   ]
  },
  {
   "cell_type": "code",
   "metadata": {
    "colab": {
     "base_uri": "https://localhost:8080/"
    },
    "id": "1mt2sjSj-HpT",
    "outputId": "c206ed57-2597-4107-cbaf-fe14ec47e874",
    "ExecuteTime": {
     "end_time": "2024-09-24T14:29:58.810638Z",
     "start_time": "2024-09-24T14:29:58.804633Z"
    }
   },
   "source": [
    "df.loc['Store 2']"
   ],
   "outputs": [
    {
     "data": {
      "text/plain": [
       "Name              Christina\n",
       "Item Purchased    Bird Seed\n",
       "Cost                    5.0\n",
       "Name: Store 2, dtype: object"
      ]
     },
     "execution_count": 3,
     "metadata": {},
     "output_type": "execute_result"
    }
   ],
   "execution_count": 3
  },
  {
   "cell_type": "markdown",
   "metadata": {
    "collapsed": false,
    "id": "l4xUlYX7-HpT"
   },
   "source": " We can check the data type of the return using the Python `type` function."
  },
  {
   "cell_type": "code",
   "metadata": {
    "colab": {
     "base_uri": "https://localhost:8080/"
    },
    "id": "fcI25oSy-HpT",
    "outputId": "dbab6f19-9426-498f-db64-4f92b5105ecf",
    "ExecuteTime": {
     "end_time": "2024-09-24T14:30:07.651343Z",
     "start_time": "2024-09-24T14:30:07.647774Z"
    }
   },
   "source": [
    "type(df.loc['Store 2'])"
   ],
   "outputs": [
    {
     "data": {
      "text/plain": [
       "pandas.core.series.Series"
      ]
     },
     "execution_count": 4,
     "metadata": {},
     "output_type": "execute_result"
    }
   ],
   "execution_count": 4
  },
  {
   "cell_type": "markdown",
   "metadata": {
    "collapsed": false,
    "id": "kZiRIjmb-HpU"
   },
   "source": [
    "It's important to remember that the indices and column names along either axes, horizontal or vertical, could be non-unique."
   ]
  },
  {
   "cell_type": "markdown",
   "metadata": {
    "collapsed": false,
    "id": "vvohkUZt-HpU"
   },
   "source": [
    "For instance, in this example, we see two purchase records for Store 1 as different rows."
   ]
  },
  {
   "cell_type": "code",
   "metadata": {
    "colab": {
     "base_uri": "https://localhost:8080/",
     "height": 149
    },
    "id": "x-W5cl1Q-HpU",
    "outputId": "f1562f9b-533e-40e7-969d-c39d47c0c8cd",
    "ExecuteTime": {
     "end_time": "2024-09-24T14:30:48.263104Z",
     "start_time": "2024-09-24T14:30:48.257773Z"
    }
   },
   "source": [
    "df.loc['Store 1']"
   ],
   "outputs": [
    {
     "data": {
      "text/plain": [
       "             Name Item Purchased  Cost\n",
       "Store 1  Matthias       Dog Food  22.5\n",
       "Store 1    Thomas   Kitty Litter   2.5"
      ],
      "text/html": [
       "<div>\n",
       "<style scoped>\n",
       "    .dataframe tbody tr th:only-of-type {\n",
       "        vertical-align: middle;\n",
       "    }\n",
       "\n",
       "    .dataframe tbody tr th {\n",
       "        vertical-align: top;\n",
       "    }\n",
       "\n",
       "    .dataframe thead th {\n",
       "        text-align: right;\n",
       "    }\n",
       "</style>\n",
       "<table border=\"1\" class=\"dataframe\">\n",
       "  <thead>\n",
       "    <tr style=\"text-align: right;\">\n",
       "      <th></th>\n",
       "      <th>Name</th>\n",
       "      <th>Item Purchased</th>\n",
       "      <th>Cost</th>\n",
       "    </tr>\n",
       "  </thead>\n",
       "  <tbody>\n",
       "    <tr>\n",
       "      <th>Store 1</th>\n",
       "      <td>Matthias</td>\n",
       "      <td>Dog Food</td>\n",
       "      <td>22.5</td>\n",
       "    </tr>\n",
       "    <tr>\n",
       "      <th>Store 1</th>\n",
       "      <td>Thomas</td>\n",
       "      <td>Kitty Litter</td>\n",
       "      <td>2.5</td>\n",
       "    </tr>\n",
       "  </tbody>\n",
       "</table>\n",
       "</div>"
      ]
     },
     "execution_count": 5,
     "metadata": {},
     "output_type": "execute_result"
    }
   ],
   "execution_count": 5
  },
  {
   "cell_type": "markdown",
   "metadata": {
    "collapsed": false,
    "id": "_n5V4bB5-HpU"
   },
   "source": [
    "We see that Matthias and Thomas both shop at the same pets supply store."
   ]
  },
  {
   "cell_type": "markdown",
   "metadata": {
    "collapsed": false,
    "id": "5c8yU7O9-HpU"
   },
   "source": "In this case, the return value is a `DataFrame`:"
  },
  {
   "cell_type": "code",
   "metadata": {
    "colab": {
     "base_uri": "https://localhost:8080/"
    },
    "id": "jAf4Ye0n-HpU",
    "outputId": "bc3fc0c0-ba09-4295-fb23-11d8947c6acc",
    "ExecuteTime": {
     "end_time": "2024-09-24T14:31:01.624647Z",
     "start_time": "2024-09-24T14:31:01.620998Z"
    }
   },
   "source": [
    "type(df.loc['Store 1'])"
   ],
   "outputs": [
    {
     "data": {
      "text/plain": [
       "pandas.core.frame.DataFrame"
      ]
     },
     "execution_count": 6,
     "metadata": {},
     "output_type": "execute_result"
    }
   ],
   "execution_count": 6
  },
  {
   "cell_type": "markdown",
   "metadata": {
    "collapsed": false,
    "id": "JST39ISl-HpV"
   },
   "source": "One of the powers of the `pandas` `DataFrame` is that you can quickly select data based on multiple axes."
  },
  {
   "cell_type": "markdown",
   "metadata": {
    "collapsed": false,
    "id": "VlnPAUG0-HpV"
   },
   "source": [
    "For instance, if you wanted to just list the costs for Store 1, you would supply two parameters to `.loc`, one being the row **index** and the other being the **column** name."
   ]
  },
  {
   "cell_type": "code",
   "metadata": {
    "colab": {
     "base_uri": "https://localhost:8080/"
    },
    "id": "isy3Jyjp-HpV",
    "outputId": "40a48931-80a0-4f76-bb62-99b5adbd840f",
    "ExecuteTime": {
     "end_time": "2024-09-24T14:31:20.897133Z",
     "start_time": "2024-09-24T14:31:20.892894Z"
    }
   },
   "source": [
    "df.loc['Store 1', 'Cost']"
   ],
   "outputs": [
    {
     "data": {
      "text/plain": [
       "Store 1    22.5\n",
       "Store 1     2.5\n",
       "Name: Cost, dtype: float64"
      ]
     },
     "execution_count": 7,
     "metadata": {},
     "output_type": "execute_result"
    }
   ],
   "execution_count": 7
  },
  {
   "cell_type": "markdown",
   "metadata": {
    "collapsed": false,
    "id": "0gQeSM1M-HpV"
   },
   "source": [
    "## Column Selection\n",
    "\n",
    "What if we just wanted to do column selection and just get a list of all the costs? Well, there's a couple of options."
   ]
  },
  {
   "cell_type": "markdown",
   "metadata": {
    "collapsed": false,
    "id": "r1WlF2de-HpV"
   },
   "source": [
    "### 1. Transpose `DataFrame`\n",
    "You can get a transpose of the `DataFrame`, using the capital T attribute, which swaps all the columns and rows."
   ]
  },
  {
   "cell_type": "code",
   "metadata": {
    "colab": {
     "base_uri": "https://localhost:8080/",
     "height": 143
    },
    "id": "W8iwOWUx-HpV",
    "outputId": "184a084b-67d3-40bc-fcad-29c378c82a1c",
    "ExecuteTime": {
     "end_time": "2024-09-24T14:31:44.825135Z",
     "start_time": "2024-09-24T14:31:44.820775Z"
    }
   },
   "source": [
    "df.T"
   ],
   "outputs": [
    {
     "data": {
      "text/plain": [
       "                 Store 1       Store 1    Store 2\n",
       "Name            Matthias        Thomas  Christina\n",
       "Item Purchased  Dog Food  Kitty Litter  Bird Seed\n",
       "Cost                22.5           2.5        5.0"
      ],
      "text/html": [
       "<div>\n",
       "<style scoped>\n",
       "    .dataframe tbody tr th:only-of-type {\n",
       "        vertical-align: middle;\n",
       "    }\n",
       "\n",
       "    .dataframe tbody tr th {\n",
       "        vertical-align: top;\n",
       "    }\n",
       "\n",
       "    .dataframe thead th {\n",
       "        text-align: right;\n",
       "    }\n",
       "</style>\n",
       "<table border=\"1\" class=\"dataframe\">\n",
       "  <thead>\n",
       "    <tr style=\"text-align: right;\">\n",
       "      <th></th>\n",
       "      <th>Store 1</th>\n",
       "      <th>Store 1</th>\n",
       "      <th>Store 2</th>\n",
       "    </tr>\n",
       "  </thead>\n",
       "  <tbody>\n",
       "    <tr>\n",
       "      <th>Name</th>\n",
       "      <td>Matthias</td>\n",
       "      <td>Thomas</td>\n",
       "      <td>Christina</td>\n",
       "    </tr>\n",
       "    <tr>\n",
       "      <th>Item Purchased</th>\n",
       "      <td>Dog Food</td>\n",
       "      <td>Kitty Litter</td>\n",
       "      <td>Bird Seed</td>\n",
       "    </tr>\n",
       "    <tr>\n",
       "      <th>Cost</th>\n",
       "      <td>22.5</td>\n",
       "      <td>2.5</td>\n",
       "      <td>5.0</td>\n",
       "    </tr>\n",
       "  </tbody>\n",
       "</table>\n",
       "</div>"
      ]
     },
     "execution_count": 8,
     "metadata": {},
     "output_type": "execute_result"
    }
   ],
   "execution_count": 8
  },
  {
   "cell_type": "markdown",
   "metadata": {
    "collapsed": false,
    "id": "zWH1xTtr-HpV"
   },
   "source": "And we can then use `.loc`:"
  },
  {
   "cell_type": "code",
   "metadata": {
    "colab": {
     "base_uri": "https://localhost:8080/"
    },
    "id": "pYGNyTYu-HpW",
    "outputId": "1b5c7d5b-7cd6-45b4-8ec0-dd2629a8c711",
    "ExecuteTime": {
     "end_time": "2024-09-24T14:31:55.512331Z",
     "start_time": "2024-09-24T14:31:55.508369Z"
    }
   },
   "source": [
    "df.T.loc['Cost']"
   ],
   "outputs": [
    {
     "data": {
      "text/plain": [
       "Store 1    22.5\n",
       "Store 1     2.5\n",
       "Store 2     5.0\n",
       "Name: Cost, dtype: object"
      ]
     },
     "execution_count": 9,
     "metadata": {},
     "output_type": "execute_result"
    }
   ],
   "execution_count": 9
  },
  {
   "cell_type": "markdown",
   "metadata": {
    "collapsed": false,
    "id": "JYofDve6-HpW"
   },
   "source": "This works, but it's kind of ugly."
  },
  {
   "cell_type": "markdown",
   "metadata": {
    "collapsed": false,
    "id": "mbYnMngN-HpW"
   },
   "source": [
    "### 2. Indexing Operator\n",
    "\n",
    "In a `pandas` `DataFrame`, columns always have a name;  so this selection is always label based.\n",
    "\n",
    "(For those familiar with relational databases, this operator is analogous to column projection.)"
   ]
  },
  {
   "cell_type": "code",
   "metadata": {
    "colab": {
     "base_uri": "https://localhost:8080/"
    },
    "id": "hqq9V4Hg-HpW",
    "outputId": "7e656c6a-2f42-4dd2-9aae-469d5cbeca90",
    "ExecuteTime": {
     "end_time": "2024-09-24T14:32:13.611878Z",
     "start_time": "2024-09-24T14:32:13.608266Z"
    }
   },
   "source": [
    "df['Cost']"
   ],
   "outputs": [
    {
     "data": {
      "text/plain": [
       "Store 1    22.5\n",
       "Store 1     2.5\n",
       "Store 2     5.0\n",
       "Name: Cost, dtype: float64"
      ]
     },
     "execution_count": 10,
     "metadata": {},
     "output_type": "execute_result"
    }
   ],
   "execution_count": 10
  },
  {
   "cell_type": "markdown",
   "metadata": {
    "collapsed": false,
    "id": "o_f4DfRi-HpW"
   },
   "source": [
    "### 3. Operation Chaining\n",
    "Finally, since the result of using the indexing operators is a `DataFrame` or `Series`, you can chain operations together."
   ]
  },
  {
   "cell_type": "code",
   "metadata": {
    "colab": {
     "base_uri": "https://localhost:8080/"
    },
    "id": "Dg9FSEhN-HpW",
    "outputId": "2184b139-16e3-4af9-cb3b-fbce7f13788f",
    "ExecuteTime": {
     "end_time": "2024-09-24T14:32:33.382372Z",
     "start_time": "2024-09-24T14:32:33.378835Z"
    }
   },
   "source": [
    "# loc operation then indexing operation\n",
    "s1 = df.loc['Store 1']\n",
    "s1['Cost']"
   ],
   "outputs": [
    {
     "data": {
      "text/plain": [
       "Store 1    22.5\n",
       "Store 1     2.5\n",
       "Name: Cost, dtype: float64"
      ]
     },
     "execution_count": 11,
     "metadata": {},
     "output_type": "execute_result"
    }
   ],
   "execution_count": 11
  },
  {
   "cell_type": "code",
   "metadata": {
    "colab": {
     "base_uri": "https://localhost:8080/"
    },
    "id": "8g1wBF7d-HpX",
    "outputId": "59fcb654-bdf8-4818-bd05-e7c0aa07ae7a",
    "ExecuteTime": {
     "end_time": "2024-09-24T14:32:44.860741Z",
     "start_time": "2024-09-24T14:32:44.857246Z"
    }
   },
   "source": [
    "# chaining of loc and indexing\n",
    "df.loc['Store 1']['Cost']"
   ],
   "outputs": [
    {
     "data": {
      "text/plain": [
       "Store 1    22.5\n",
       "Store 1     2.5\n",
       "Name: Cost, dtype: float64"
      ]
     },
     "execution_count": 12,
     "metadata": {},
     "output_type": "execute_result"
    }
   ],
   "execution_count": 12
  },
  {
   "cell_type": "markdown",
   "metadata": {
    "collapsed": false,
    "id": "IDuhveU--HpX"
   },
   "source": "But chaining can come with some costs and is best avoided if you can use another approach. In particular, chaining tends to cause `pandas` to return a copy of the `DataFrame` instead of a view on the `DataFrame`. For selecting a data, this is not a big deal, though it might be slower than necessary. If you are changing data though, this is an important distinction and can be a source of error."
  },
  {
   "cell_type": "markdown",
   "metadata": {
    "collapsed": false,
    "id": "uqiwT0j9-HpX"
   },
   "source": "### 4. Full slice with `.loc`"
  },
  {
   "cell_type": "markdown",
   "metadata": {
    "collapsed": false,
    "id": "qjdh2Xyg-HpX"
   },
   "source": [
    "As we saw, .loc does row selection, and it can take two parameters, the row index and the list of column names. italso supports slicing. If we wanted to select all rows, we can use a column to indicate a full slice from beginning to end. And then add the column name as the second parameter as a string. In fact, if we wanted to include multiply columns, we could do so in a list. And Pandas will bring back only the columns we have asked for."
   ]
  },
  {
   "cell_type": "code",
   "source": [
    "lst = [1, 2, 3]\n",
    "lst[1:]"
   ],
   "metadata": {
    "colab": {
     "base_uri": "https://localhost:8080/"
    },
    "id": "l_gRdVEWDLtP",
    "outputId": "0ed31d06-df60-4821-e490-db76dc8a505b",
    "ExecuteTime": {
     "end_time": "2024-09-24T14:33:32.092096Z",
     "start_time": "2024-09-24T14:33:32.089361Z"
    }
   },
   "outputs": [
    {
     "data": {
      "text/plain": [
       "[2, 3]"
      ]
     },
     "execution_count": 13,
     "metadata": {},
     "output_type": "execute_result"
    }
   ],
   "execution_count": 13
  },
  {
   "cell_type": "code",
   "source": [
    "lst = [1, 2, 3, 4, 5]\n",
    "lst[1:3]"
   ],
   "metadata": {
    "colab": {
     "base_uri": "https://localhost:8080/"
    },
    "id": "rF5mh3T7DW_6",
    "outputId": "c7a1725f-c788-47a2-c4e1-8222f671ae35",
    "ExecuteTime": {
     "end_time": "2024-09-24T14:33:41.254161Z",
     "start_time": "2024-09-24T14:33:41.251028Z"
    }
   },
   "outputs": [
    {
     "data": {
      "text/plain": [
       "[2, 3]"
      ]
     },
     "execution_count": 14,
     "metadata": {},
     "output_type": "execute_result"
    }
   ],
   "execution_count": 14
  },
  {
   "cell_type": "code",
   "source": [
    "df"
   ],
   "metadata": {
    "colab": {
     "base_uri": "https://localhost:8080/",
     "height": 676
    },
    "id": "2Y31XSjdD6Bc",
    "outputId": "d1d96269-17fc-4b02-ff0d-d2753bb0683b",
    "ExecuteTime": {
     "end_time": "2024-09-24T14:33:45.283886Z",
     "start_time": "2024-09-24T14:33:45.278422Z"
    }
   },
   "outputs": [
    {
     "data": {
      "text/plain": [
       "              Name Item Purchased  Cost\n",
       "Store 1   Matthias       Dog Food  22.5\n",
       "Store 1     Thomas   Kitty Litter   2.5\n",
       "Store 2  Christina      Bird Seed   5.0"
      ],
      "text/html": [
       "<div>\n",
       "<style scoped>\n",
       "    .dataframe tbody tr th:only-of-type {\n",
       "        vertical-align: middle;\n",
       "    }\n",
       "\n",
       "    .dataframe tbody tr th {\n",
       "        vertical-align: top;\n",
       "    }\n",
       "\n",
       "    .dataframe thead th {\n",
       "        text-align: right;\n",
       "    }\n",
       "</style>\n",
       "<table border=\"1\" class=\"dataframe\">\n",
       "  <thead>\n",
       "    <tr style=\"text-align: right;\">\n",
       "      <th></th>\n",
       "      <th>Name</th>\n",
       "      <th>Item Purchased</th>\n",
       "      <th>Cost</th>\n",
       "    </tr>\n",
       "  </thead>\n",
       "  <tbody>\n",
       "    <tr>\n",
       "      <th>Store 1</th>\n",
       "      <td>Matthias</td>\n",
       "      <td>Dog Food</td>\n",
       "      <td>22.5</td>\n",
       "    </tr>\n",
       "    <tr>\n",
       "      <th>Store 1</th>\n",
       "      <td>Thomas</td>\n",
       "      <td>Kitty Litter</td>\n",
       "      <td>2.5</td>\n",
       "    </tr>\n",
       "    <tr>\n",
       "      <th>Store 2</th>\n",
       "      <td>Christina</td>\n",
       "      <td>Bird Seed</td>\n",
       "      <td>5.0</td>\n",
       "    </tr>\n",
       "  </tbody>\n",
       "</table>\n",
       "</div>"
      ]
     },
     "execution_count": 15,
     "metadata": {},
     "output_type": "execute_result"
    }
   ],
   "execution_count": 15
  },
  {
   "cell_type": "code",
   "metadata": {
    "colab": {
     "base_uri": "https://localhost:8080/",
     "height": 143
    },
    "id": "IxHbNaIS-HpX",
    "outputId": "d2c6f4b0-203a-42ec-e664-d5d8c1ce58bd",
    "ExecuteTime": {
     "end_time": "2024-09-24T14:33:59.071242Z",
     "start_time": "2024-09-24T14:33:59.065040Z"
    }
   },
   "source": [
    "df.loc[:, ['Name', 'Cost']]"
   ],
   "outputs": [
    {
     "data": {
      "text/plain": [
       "              Name  Cost\n",
       "Store 1   Matthias  22.5\n",
       "Store 1     Thomas   2.5\n",
       "Store 2  Christina   5.0"
      ],
      "text/html": [
       "<div>\n",
       "<style scoped>\n",
       "    .dataframe tbody tr th:only-of-type {\n",
       "        vertical-align: middle;\n",
       "    }\n",
       "\n",
       "    .dataframe tbody tr th {\n",
       "        vertical-align: top;\n",
       "    }\n",
       "\n",
       "    .dataframe thead th {\n",
       "        text-align: right;\n",
       "    }\n",
       "</style>\n",
       "<table border=\"1\" class=\"dataframe\">\n",
       "  <thead>\n",
       "    <tr style=\"text-align: right;\">\n",
       "      <th></th>\n",
       "      <th>Name</th>\n",
       "      <th>Cost</th>\n",
       "    </tr>\n",
       "  </thead>\n",
       "  <tbody>\n",
       "    <tr>\n",
       "      <th>Store 1</th>\n",
       "      <td>Matthias</td>\n",
       "      <td>22.5</td>\n",
       "    </tr>\n",
       "    <tr>\n",
       "      <th>Store 1</th>\n",
       "      <td>Thomas</td>\n",
       "      <td>2.5</td>\n",
       "    </tr>\n",
       "    <tr>\n",
       "      <th>Store 2</th>\n",
       "      <td>Christina</td>\n",
       "      <td>5.0</td>\n",
       "    </tr>\n",
       "  </tbody>\n",
       "</table>\n",
       "</div>"
      ]
     },
     "execution_count": 16,
     "metadata": {},
     "output_type": "execute_result"
    }
   ],
   "execution_count": 16
  },
  {
   "cell_type": "markdown",
   "metadata": {
    "collapsed": false,
    "id": "kKwNhpK7-HpX"
   },
   "source": [
    "## Dropping Data"
   ]
  },
  {
   "cell_type": "markdown",
   "metadata": {
    "collapsed": false,
    "id": "_A2HOf2H-HpY"
   },
   "source": "It's easy to delete data in `Series` and `DataFrame`s, and we can use the drop function to do so. This function takes a single parameter, which is the index or roll label, to drop."
  },
  {
   "cell_type": "code",
   "metadata": {
    "colab": {
     "base_uri": "https://localhost:8080/",
     "height": 81
    },
    "id": "yqNx6z3S-HpY",
    "outputId": "d5a4dc99-f754-4f9d-d551-8969f28ed298",
    "ExecuteTime": {
     "end_time": "2024-09-24T14:34:07.836411Z",
     "start_time": "2024-09-24T14:34:07.831072Z"
    }
   },
   "source": [
    "df.drop('Store 1')"
   ],
   "outputs": [
    {
     "data": {
      "text/plain": [
       "              Name Item Purchased  Cost\n",
       "Store 2  Christina      Bird Seed   5.0"
      ],
      "text/html": [
       "<div>\n",
       "<style scoped>\n",
       "    .dataframe tbody tr th:only-of-type {\n",
       "        vertical-align: middle;\n",
       "    }\n",
       "\n",
       "    .dataframe tbody tr th {\n",
       "        vertical-align: top;\n",
       "    }\n",
       "\n",
       "    .dataframe thead th {\n",
       "        text-align: right;\n",
       "    }\n",
       "</style>\n",
       "<table border=\"1\" class=\"dataframe\">\n",
       "  <thead>\n",
       "    <tr style=\"text-align: right;\">\n",
       "      <th></th>\n",
       "      <th>Name</th>\n",
       "      <th>Item Purchased</th>\n",
       "      <th>Cost</th>\n",
       "    </tr>\n",
       "  </thead>\n",
       "  <tbody>\n",
       "    <tr>\n",
       "      <th>Store 2</th>\n",
       "      <td>Christina</td>\n",
       "      <td>Bird Seed</td>\n",
       "      <td>5.0</td>\n",
       "    </tr>\n",
       "  </tbody>\n",
       "</table>\n",
       "</div>"
      ]
     },
     "execution_count": 17,
     "metadata": {},
     "output_type": "execute_result"
    }
   ],
   "execution_count": 17
  },
  {
   "cell_type": "markdown",
   "metadata": {
    "collapsed": false,
    "id": "XCgfZ6K--HpY"
   },
   "source": [
    "The drop function doesn't change the `DataFrame` by default. And instead, returns to you a copy of the `DataFrame` with the given rows removed.\n",
    "\n",
    "We can see that our original `DataFrame` is still intact."
   ]
  },
  {
   "cell_type": "code",
   "metadata": {
    "colab": {
     "base_uri": "https://localhost:8080/",
     "height": 143
    },
    "id": "wjFnSIqF-HpY",
    "outputId": "af77919a-ec03-4d61-faa7-bdfc46e64a01",
    "ExecuteTime": {
     "end_time": "2024-09-24T14:34:18.270429Z",
     "start_time": "2024-09-24T14:34:18.265460Z"
    }
   },
   "source": [
    "df"
   ],
   "outputs": [
    {
     "data": {
      "text/plain": [
       "              Name Item Purchased  Cost\n",
       "Store 1   Matthias       Dog Food  22.5\n",
       "Store 1     Thomas   Kitty Litter   2.5\n",
       "Store 2  Christina      Bird Seed   5.0"
      ],
      "text/html": [
       "<div>\n",
       "<style scoped>\n",
       "    .dataframe tbody tr th:only-of-type {\n",
       "        vertical-align: middle;\n",
       "    }\n",
       "\n",
       "    .dataframe tbody tr th {\n",
       "        vertical-align: top;\n",
       "    }\n",
       "\n",
       "    .dataframe thead th {\n",
       "        text-align: right;\n",
       "    }\n",
       "</style>\n",
       "<table border=\"1\" class=\"dataframe\">\n",
       "  <thead>\n",
       "    <tr style=\"text-align: right;\">\n",
       "      <th></th>\n",
       "      <th>Name</th>\n",
       "      <th>Item Purchased</th>\n",
       "      <th>Cost</th>\n",
       "    </tr>\n",
       "  </thead>\n",
       "  <tbody>\n",
       "    <tr>\n",
       "      <th>Store 1</th>\n",
       "      <td>Matthias</td>\n",
       "      <td>Dog Food</td>\n",
       "      <td>22.5</td>\n",
       "    </tr>\n",
       "    <tr>\n",
       "      <th>Store 1</th>\n",
       "      <td>Thomas</td>\n",
       "      <td>Kitty Litter</td>\n",
       "      <td>2.5</td>\n",
       "    </tr>\n",
       "    <tr>\n",
       "      <th>Store 2</th>\n",
       "      <td>Christina</td>\n",
       "      <td>Bird Seed</td>\n",
       "      <td>5.0</td>\n",
       "    </tr>\n",
       "  </tbody>\n",
       "</table>\n",
       "</div>"
      ]
     },
     "execution_count": 18,
     "metadata": {},
     "output_type": "execute_result"
    }
   ],
   "execution_count": 18
  },
  {
   "cell_type": "markdown",
   "metadata": {
    "collapsed": false,
    "id": "TJmMzX1b-HpY"
   },
   "source": [
    "Let's make a copy with the copy method and do a drop on it instead."
   ]
  },
  {
   "cell_type": "code",
   "metadata": {
    "colab": {
     "base_uri": "https://localhost:8080/",
     "height": 81
    },
    "id": "eunD-QrX-HpZ",
    "outputId": "0847c91d-a029-4c3c-8db3-9189957f4e81",
    "ExecuteTime": {
     "end_time": "2024-09-24T14:34:28.582553Z",
     "start_time": "2024-09-24T14:34:28.577943Z"
    }
   },
   "source": [
    "copy_df = df.copy()\n",
    "copy_df = copy_df.drop('Store 1')\n",
    "copy_df"
   ],
   "outputs": [
    {
     "data": {
      "text/plain": [
       "              Name Item Purchased  Cost\n",
       "Store 2  Christina      Bird Seed   5.0"
      ],
      "text/html": [
       "<div>\n",
       "<style scoped>\n",
       "    .dataframe tbody tr th:only-of-type {\n",
       "        vertical-align: middle;\n",
       "    }\n",
       "\n",
       "    .dataframe tbody tr th {\n",
       "        vertical-align: top;\n",
       "    }\n",
       "\n",
       "    .dataframe thead th {\n",
       "        text-align: right;\n",
       "    }\n",
       "</style>\n",
       "<table border=\"1\" class=\"dataframe\">\n",
       "  <thead>\n",
       "    <tr style=\"text-align: right;\">\n",
       "      <th></th>\n",
       "      <th>Name</th>\n",
       "      <th>Item Purchased</th>\n",
       "      <th>Cost</th>\n",
       "    </tr>\n",
       "  </thead>\n",
       "  <tbody>\n",
       "    <tr>\n",
       "      <th>Store 2</th>\n",
       "      <td>Christina</td>\n",
       "      <td>Bird Seed</td>\n",
       "      <td>5.0</td>\n",
       "    </tr>\n",
       "  </tbody>\n",
       "</table>\n",
       "</div>"
      ]
     },
     "execution_count": 19,
     "metadata": {},
     "output_type": "execute_result"
    }
   ],
   "execution_count": 19
  },
  {
   "cell_type": "markdown",
   "metadata": {
    "collapsed": false,
    "id": "OF8KnW9z-HpZ"
   },
   "source": "This is a very typical pattern in `pandas`, where in-place changes to a `DataFrame` are only done if need be, usually on changes involving indices."
  },
  {
   "cell_type": "code",
   "metadata": {
    "id": "7YrvJQWm-HpZ"
   },
   "source": "# copy_df.drop?",
   "outputs": [],
   "execution_count": null
  },
  {
   "cell_type": "markdown",
   "metadata": {
    "collapsed": false,
    "id": "7tIA_4iJ-HpZ"
   },
   "source": [
    " Drop has two interesting optional parameters.\n",
    "\n",
    "- The first is called in place, and if it's set to true, the `DataFrame` will be updated in place, instead of a copy being returned.\n",
    "\n",
    "- The second parameter is the axes, which should be dropped.\n",
    "\n",
    "    - By default, this value is `0`, indicating the row axes.\n",
    "\n",
    "    - But you could change it to `1` if you want to drop a column.\n"
   ]
  },
  {
   "cell_type": "markdown",
   "metadata": {
    "collapsed": false,
    "id": "h0uRs4xZ-HpZ"
   },
   "source": [
    "There is a second way to drop a column, however. This is directly through the use of the indexing operator, using the `del` keyword.\n"
   ]
  },
  {
   "cell_type": "code",
   "metadata": {
    "colab": {
     "base_uri": "https://localhost:8080/",
     "height": 81
    },
    "id": "ZwLA6AgK-HpZ",
    "outputId": "13917263-df76-487c-df28-6268b0573403",
    "ExecuteTime": {
     "end_time": "2024-09-24T14:35:11.330842Z",
     "start_time": "2024-09-24T14:35:11.326507Z"
    }
   },
   "source": [
    "del copy_df['Name']\n",
    "copy_df"
   ],
   "outputs": [
    {
     "data": {
      "text/plain": [
       "        Item Purchased  Cost\n",
       "Store 2      Bird Seed   5.0"
      ],
      "text/html": [
       "<div>\n",
       "<style scoped>\n",
       "    .dataframe tbody tr th:only-of-type {\n",
       "        vertical-align: middle;\n",
       "    }\n",
       "\n",
       "    .dataframe tbody tr th {\n",
       "        vertical-align: top;\n",
       "    }\n",
       "\n",
       "    .dataframe thead th {\n",
       "        text-align: right;\n",
       "    }\n",
       "</style>\n",
       "<table border=\"1\" class=\"dataframe\">\n",
       "  <thead>\n",
       "    <tr style=\"text-align: right;\">\n",
       "      <th></th>\n",
       "      <th>Item Purchased</th>\n",
       "      <th>Cost</th>\n",
       "    </tr>\n",
       "  </thead>\n",
       "  <tbody>\n",
       "    <tr>\n",
       "      <th>Store 2</th>\n",
       "      <td>Bird Seed</td>\n",
       "      <td>5.0</td>\n",
       "    </tr>\n",
       "  </tbody>\n",
       "</table>\n",
       "</div>"
      ]
     },
     "execution_count": 20,
     "metadata": {},
     "output_type": "execute_result"
    }
   ],
   "execution_count": 20
  },
  {
   "cell_type": "markdown",
   "metadata": {
    "collapsed": false,
    "id": "msQLGsRI-HpZ"
   },
   "source": "This way of dropping data, however, takes immediate effect on the `DataFrame` and does not return a view."
  },
  {
   "cell_type": "markdown",
   "metadata": {
    "collapsed": false,
    "id": "SMomX4UI-Hpa"
   },
   "source": [
    "## Adding a new column"
   ]
  },
  {
   "cell_type": "markdown",
   "metadata": {
    "collapsed": false,
    "id": "NM4nzceJ-Hpa"
   },
   "source": "Finally, adding a new column to the `DataFrame` is as easy as assigning it to some value."
  },
  {
   "cell_type": "markdown",
   "metadata": {
    "collapsed": false,
    "id": "fRj2YmWf-Hpa"
   },
   "source": "For instance, if we wanted to add a new location as a column with default value of `None`, we could do so by using the assignment operator after the square brackets."
  },
  {
   "cell_type": "code",
   "metadata": {
    "colab": {
     "base_uri": "https://localhost:8080/",
     "height": 143
    },
    "id": "njBGVYNY-Hpa",
    "outputId": "01728abf-837b-4094-8cb6-a40a2e34b2e9",
    "ExecuteTime": {
     "end_time": "2024-09-24T14:35:57.882609Z",
     "start_time": "2024-09-24T14:35:57.876790Z"
    }
   },
   "source": [
    "df['Location'] = None\n",
    "df"
   ],
   "outputs": [
    {
     "data": {
      "text/plain": [
       "              Name Item Purchased  Cost Location\n",
       "Store 1   Matthias       Dog Food  22.5     None\n",
       "Store 1     Thomas   Kitty Litter   2.5     None\n",
       "Store 2  Christina      Bird Seed   5.0     None"
      ],
      "text/html": [
       "<div>\n",
       "<style scoped>\n",
       "    .dataframe tbody tr th:only-of-type {\n",
       "        vertical-align: middle;\n",
       "    }\n",
       "\n",
       "    .dataframe tbody tr th {\n",
       "        vertical-align: top;\n",
       "    }\n",
       "\n",
       "    .dataframe thead th {\n",
       "        text-align: right;\n",
       "    }\n",
       "</style>\n",
       "<table border=\"1\" class=\"dataframe\">\n",
       "  <thead>\n",
       "    <tr style=\"text-align: right;\">\n",
       "      <th></th>\n",
       "      <th>Name</th>\n",
       "      <th>Item Purchased</th>\n",
       "      <th>Cost</th>\n",
       "      <th>Location</th>\n",
       "    </tr>\n",
       "  </thead>\n",
       "  <tbody>\n",
       "    <tr>\n",
       "      <th>Store 1</th>\n",
       "      <td>Matthias</td>\n",
       "      <td>Dog Food</td>\n",
       "      <td>22.5</td>\n",
       "      <td>None</td>\n",
       "    </tr>\n",
       "    <tr>\n",
       "      <th>Store 1</th>\n",
       "      <td>Thomas</td>\n",
       "      <td>Kitty Litter</td>\n",
       "      <td>2.5</td>\n",
       "      <td>None</td>\n",
       "    </tr>\n",
       "    <tr>\n",
       "      <th>Store 2</th>\n",
       "      <td>Christina</td>\n",
       "      <td>Bird Seed</td>\n",
       "      <td>5.0</td>\n",
       "      <td>None</td>\n",
       "    </tr>\n",
       "  </tbody>\n",
       "</table>\n",
       "</div>"
      ]
     },
     "execution_count": 21,
     "metadata": {},
     "output_type": "execute_result"
    }
   ],
   "execution_count": 21
  },
  {
   "cell_type": "markdown",
   "metadata": {
    "collapsed": false,
    "id": "sk9J0j1i-Hpa"
   },
   "source": [
    "This broadcasts the default value to the new column immediately.\n"
   ]
  },
  {
   "cell_type": "markdown",
   "metadata": {
    "collapsed": false,
    "id": "bo-pSamI-Hpb"
   },
   "source": "**In conclusion**, we presented in this chapter: `DataFrame` creation, data access, column selection, dropping of data and adding a new column."
  },
  {
   "cell_type": "markdown",
   "metadata": {
    "collapsed": true,
    "id": "5rIoFYsz-Hpb"
   },
   "source": "# `Dataframe` Indexing and Loading"
  },
  {
   "cell_type": "markdown",
   "metadata": {
    "collapsed": false,
    "id": "l6xMqhqY-Hpb"
   },
   "source": "The common work flow is to read your data into a `DataFrame` then reduce this `DataFrame` to the particular columns or rows that you're interested in working with. As you've seen, the `pandas` toolkit tries to give you views on a `DataFrame`. This is much faster than copying data and much more memory efficient too."
  },
  {
   "cell_type": "markdown",
   "metadata": {
    "collapsed": false,
    "id": "h5he1zXM-Hpb"
   },
   "source": "But it does mean that if you're manipulating the data you have to be aware that any changes to the `DataFrame` you're working on may have an impact on the original `DataFrame`."
  },
  {
   "cell_type": "markdown",
   "metadata": {
    "collapsed": false,
    "id": "oC-5Bebw-Hpb"
   },
   "source": "Here's an example using our same purchasing `DataFrame` from earlier. We can create a `Series` based on just the cost category using the square brackets."
  },
  {
   "cell_type": "markdown",
   "metadata": {
    "collapsed": false,
    "id": "uU3TGRwx-Hpb"
   },
   "source": [
    "## Data Index"
   ]
  },
  {
   "cell_type": "code",
   "metadata": {
    "colab": {
     "base_uri": "https://localhost:8080/",
     "height": 143
    },
    "id": "eSTp6alz-Hpb",
    "outputId": "0d5f7098-fbea-4fb4-f0d2-6ecb8b10caaa",
    "ExecuteTime": {
     "end_time": "2024-09-24T14:42:37.217091Z",
     "start_time": "2024-09-24T14:42:37.211512Z"
    }
   },
   "source": [
    "import pandas as pd\n",
    "\n",
    "purchase_1 = pd.Series({\n",
    "    'Name': 'Matthias',\n",
    "    'Item Purchased': 'Dog Food',\n",
    "    'Cost': 22.50\n",
    "})\n",
    "purchase_2 = pd.Series({\n",
    "    'Name': 'Thomas',\n",
    "    'Item Purchased': 'Kitty Litter',\n",
    "    'Cost': 2.50\n",
    "})\n",
    "purchase_3 = pd.Series({\n",
    "    'Name': 'Christina',\n",
    "    'Item Purchased': 'Bird Seed',\n",
    "    'Cost': 5.00\n",
    "})\n",
    "\n",
    "df = pd.DataFrame([purchase_1, purchase_2, purchase_3], index=['Store 1', 'Store 1', 'Store 2'])\n",
    "df"
   ],
   "outputs": [
    {
     "data": {
      "text/plain": [
       "              Name Item Purchased  Cost\n",
       "Store 1   Matthias       Dog Food  22.5\n",
       "Store 1     Thomas   Kitty Litter   2.5\n",
       "Store 2  Christina      Bird Seed   5.0"
      ],
      "text/html": [
       "<div>\n",
       "<style scoped>\n",
       "    .dataframe tbody tr th:only-of-type {\n",
       "        vertical-align: middle;\n",
       "    }\n",
       "\n",
       "    .dataframe tbody tr th {\n",
       "        vertical-align: top;\n",
       "    }\n",
       "\n",
       "    .dataframe thead th {\n",
       "        text-align: right;\n",
       "    }\n",
       "</style>\n",
       "<table border=\"1\" class=\"dataframe\">\n",
       "  <thead>\n",
       "    <tr style=\"text-align: right;\">\n",
       "      <th></th>\n",
       "      <th>Name</th>\n",
       "      <th>Item Purchased</th>\n",
       "      <th>Cost</th>\n",
       "    </tr>\n",
       "  </thead>\n",
       "  <tbody>\n",
       "    <tr>\n",
       "      <th>Store 1</th>\n",
       "      <td>Matthias</td>\n",
       "      <td>Dog Food</td>\n",
       "      <td>22.5</td>\n",
       "    </tr>\n",
       "    <tr>\n",
       "      <th>Store 1</th>\n",
       "      <td>Thomas</td>\n",
       "      <td>Kitty Litter</td>\n",
       "      <td>2.5</td>\n",
       "    </tr>\n",
       "    <tr>\n",
       "      <th>Store 2</th>\n",
       "      <td>Christina</td>\n",
       "      <td>Bird Seed</td>\n",
       "      <td>5.0</td>\n",
       "    </tr>\n",
       "  </tbody>\n",
       "</table>\n",
       "</div>"
      ]
     },
     "execution_count": 22,
     "metadata": {},
     "output_type": "execute_result"
    }
   ],
   "execution_count": 22
  },
  {
   "cell_type": "markdown",
   "metadata": {
    "collapsed": false,
    "id": "peLdgtuN-Hpc"
   },
   "source": [
    "Indexing Operator:"
   ]
  },
  {
   "cell_type": "code",
   "metadata": {
    "colab": {
     "base_uri": "https://localhost:8080/"
    },
    "id": "SYXWsox6-Hpc",
    "outputId": "7cdd8a06-b2ad-421a-dfcd-3331923b8d64",
    "ExecuteTime": {
     "end_time": "2024-09-24T14:42:41.365261Z",
     "start_time": "2024-09-24T14:42:41.361693Z"
    }
   },
   "source": [
    "costs = df['Cost']\n",
    "costs"
   ],
   "outputs": [
    {
     "data": {
      "text/plain": [
       "Store 1    22.5\n",
       "Store 1     2.5\n",
       "Store 2     5.0\n",
       "Name: Cost, dtype: float64"
      ]
     },
     "execution_count": 23,
     "metadata": {},
     "output_type": "execute_result"
    }
   ],
   "execution_count": 23
  },
  {
   "cell_type": "markdown",
   "metadata": {
    "collapsed": false,
    "id": "fcCb9qlQ-Hpc"
   },
   "source": "Then we can increase the cost in this `Series` using broadcasting."
  },
  {
   "cell_type": "code",
   "metadata": {
    "colab": {
     "base_uri": "https://localhost:8080/"
    },
    "id": "q7bk0TMV-Hpc",
    "outputId": "5aeb88b8-f1ff-4991-9858-b238ec0bb7bc",
    "ExecuteTime": {
     "end_time": "2024-09-24T14:42:52.776689Z",
     "start_time": "2024-09-24T14:42:52.772918Z"
    }
   },
   "source": [
    "costs += 2\n",
    "costs"
   ],
   "outputs": [
    {
     "data": {
      "text/plain": [
       "Store 1    24.5\n",
       "Store 1     4.5\n",
       "Store 2     7.0\n",
       "Name: Cost, dtype: float64"
      ]
     },
     "execution_count": 24,
     "metadata": {},
     "output_type": "execute_result"
    }
   ],
   "execution_count": 24
  },
  {
   "cell_type": "markdown",
   "metadata": {
    "collapsed": false,
    "id": "8lDZTpQR-Hpd"
   },
   "source": "Now if we look at our original `DataFrame`, we see those costs have risen as well. This is an important consideration to watch out for. If you want to explicitly use a copy, then you should consider calling the copy method on the `DataFrame` for it first."
  },
  {
   "cell_type": "code",
   "metadata": {
    "colab": {
     "base_uri": "https://localhost:8080/",
     "height": 143
    },
    "id": "_MJ85iwt-Hpd",
    "outputId": "c3efbd7b-d366-4c4f-9323-7aa49a91b5a9",
    "ExecuteTime": {
     "end_time": "2024-09-24T14:43:09.372493Z",
     "start_time": "2024-09-24T14:43:09.368271Z"
    }
   },
   "source": [
    "df"
   ],
   "outputs": [
    {
     "data": {
      "text/plain": [
       "              Name Item Purchased  Cost\n",
       "Store 1   Matthias       Dog Food  24.5\n",
       "Store 1     Thomas   Kitty Litter   4.5\n",
       "Store 2  Christina      Bird Seed   7.0"
      ],
      "text/html": [
       "<div>\n",
       "<style scoped>\n",
       "    .dataframe tbody tr th:only-of-type {\n",
       "        vertical-align: middle;\n",
       "    }\n",
       "\n",
       "    .dataframe tbody tr th {\n",
       "        vertical-align: top;\n",
       "    }\n",
       "\n",
       "    .dataframe thead th {\n",
       "        text-align: right;\n",
       "    }\n",
       "</style>\n",
       "<table border=\"1\" class=\"dataframe\">\n",
       "  <thead>\n",
       "    <tr style=\"text-align: right;\">\n",
       "      <th></th>\n",
       "      <th>Name</th>\n",
       "      <th>Item Purchased</th>\n",
       "      <th>Cost</th>\n",
       "    </tr>\n",
       "  </thead>\n",
       "  <tbody>\n",
       "    <tr>\n",
       "      <th>Store 1</th>\n",
       "      <td>Matthias</td>\n",
       "      <td>Dog Food</td>\n",
       "      <td>24.5</td>\n",
       "    </tr>\n",
       "    <tr>\n",
       "      <th>Store 1</th>\n",
       "      <td>Thomas</td>\n",
       "      <td>Kitty Litter</td>\n",
       "      <td>4.5</td>\n",
       "    </tr>\n",
       "    <tr>\n",
       "      <th>Store 2</th>\n",
       "      <td>Christina</td>\n",
       "      <td>Bird Seed</td>\n",
       "      <td>7.0</td>\n",
       "    </tr>\n",
       "  </tbody>\n",
       "</table>\n",
       "</div>"
      ]
     },
     "execution_count": 25,
     "metadata": {},
     "output_type": "execute_result"
    }
   ],
   "execution_count": 25
  },
  {
   "cell_type": "markdown",
   "metadata": {
    "collapsed": false,
    "id": "mAwzXQ87-Hpd"
   },
   "source": [
    "## Loading of Data"
   ]
  },
  {
   "cell_type": "markdown",
   "metadata": {
    "collapsed": false,
    "id": "lrw284E3-Hpd"
   },
   "source": "In this course, we'll be largely using smaller, moderate-sized datasets. As I mentioned, a common workflow is to read the dataset in, usually from some external file. We saw previously how you can do this using Python, and lists, and dictionaries. You can imagine how you might use those dictionaries to create a `pandas` `DataFrame`."
  },
  {
   "cell_type": "markdown",
   "metadata": {
    "collapsed": false,
    "id": "xQP15vzZ-Hpd"
   },
   "source": "Thankfully, `pandas` has built-in support for delimited files such as CSV files as well as a variety of other data formats including relational databases, Excel, and HTML tables."
  },
  {
   "cell_type": "markdown",
   "metadata": {
    "collapsed": false,
    "id": "Pm9g0cAr-Hpe"
   },
   "source": "We have saved a CSV file called `olympics.csv`, which has data from Wikipedia that contains a summary list of the medal various countries have won at the Olympics."
  },
  {
   "cell_type": "markdown",
   "metadata": {
    "collapsed": false,
    "id": "KTe3JBx7-Hpf"
   },
   "source": [
    "### Reading a CSV"
   ]
  },
  {
   "cell_type": "code",
   "metadata": {
    "id": "StyflGcc-Hpf",
    "ExecuteTime": {
     "end_time": "2024-09-24T14:43:57.976050Z",
     "start_time": "2024-09-24T14:43:57.973912Z"
    }
   },
   "source": "import pandas as pd",
   "outputs": [],
   "execution_count": 26
  },
  {
   "cell_type": "markdown",
   "metadata": {
    "collapsed": false,
    "id": "se0vDBhq-Hpf"
   },
   "source": "We can read this into a `DataFrame` by calling the `read_csv` function of the module. When we look at the `DataFrame` we see that the first cell has an **NaN** in it since it's an empty value, and the rows have been automatically indexed for us."
  },
  {
   "cell_type": "code",
   "metadata": {
    "colab": {
     "base_uri": "https://localhost:8080/",
     "height": 267
    },
    "id": "3AKLjmKe-Hpf",
    "outputId": "8301c575-2504-4af8-f5a3-2a627873da1c",
    "ExecuteTime": {
     "end_time": "2024-09-24T14:44:18.212712Z",
     "start_time": "2024-09-24T14:44:18.202246Z"
    }
   },
   "source": [
    "df = pd.read_csv('olympics.csv')\n",
    "df.head()"
   ],
   "outputs": [
    {
     "data": {
      "text/plain": [
       "                   0         1     2     3     4      5         6     7     8  \\\n",
       "0                NaN  № Summer  01 !  02 !  03 !  Total  № Winter  01 !  02 !   \n",
       "1  Afghanistan (AFG)        13     0     0     2      2         0     0     0   \n",
       "2      Algeria (ALG)        12     5     2     8     15         3     0     0   \n",
       "3    Argentina (ARG)        23    18    24    28     70        18     0     0   \n",
       "4      Armenia (ARM)         5     1     2     9     12         6     0     0   \n",
       "\n",
       "      9     10       11    12    13    14              15  \n",
       "0  03 !  Total  № Games  01 !  02 !  03 !  Combined total  \n",
       "1     0      0       13     0     0     2               2  \n",
       "2     0      0       15     5     2     8              15  \n",
       "3     0      0       41    18    24    28              70  \n",
       "4     0      0       11     1     2     9              12  "
      ],
      "text/html": [
       "<div>\n",
       "<style scoped>\n",
       "    .dataframe tbody tr th:only-of-type {\n",
       "        vertical-align: middle;\n",
       "    }\n",
       "\n",
       "    .dataframe tbody tr th {\n",
       "        vertical-align: top;\n",
       "    }\n",
       "\n",
       "    .dataframe thead th {\n",
       "        text-align: right;\n",
       "    }\n",
       "</style>\n",
       "<table border=\"1\" class=\"dataframe\">\n",
       "  <thead>\n",
       "    <tr style=\"text-align: right;\">\n",
       "      <th></th>\n",
       "      <th>0</th>\n",
       "      <th>1</th>\n",
       "      <th>2</th>\n",
       "      <th>3</th>\n",
       "      <th>4</th>\n",
       "      <th>5</th>\n",
       "      <th>6</th>\n",
       "      <th>7</th>\n",
       "      <th>8</th>\n",
       "      <th>9</th>\n",
       "      <th>10</th>\n",
       "      <th>11</th>\n",
       "      <th>12</th>\n",
       "      <th>13</th>\n",
       "      <th>14</th>\n",
       "      <th>15</th>\n",
       "    </tr>\n",
       "  </thead>\n",
       "  <tbody>\n",
       "    <tr>\n",
       "      <th>0</th>\n",
       "      <td>NaN</td>\n",
       "      <td>№ Summer</td>\n",
       "      <td>01 !</td>\n",
       "      <td>02 !</td>\n",
       "      <td>03 !</td>\n",
       "      <td>Total</td>\n",
       "      <td>№ Winter</td>\n",
       "      <td>01 !</td>\n",
       "      <td>02 !</td>\n",
       "      <td>03 !</td>\n",
       "      <td>Total</td>\n",
       "      <td>№ Games</td>\n",
       "      <td>01 !</td>\n",
       "      <td>02 !</td>\n",
       "      <td>03 !</td>\n",
       "      <td>Combined total</td>\n",
       "    </tr>\n",
       "    <tr>\n",
       "      <th>1</th>\n",
       "      <td>Afghanistan (AFG)</td>\n",
       "      <td>13</td>\n",
       "      <td>0</td>\n",
       "      <td>0</td>\n",
       "      <td>2</td>\n",
       "      <td>2</td>\n",
       "      <td>0</td>\n",
       "      <td>0</td>\n",
       "      <td>0</td>\n",
       "      <td>0</td>\n",
       "      <td>0</td>\n",
       "      <td>13</td>\n",
       "      <td>0</td>\n",
       "      <td>0</td>\n",
       "      <td>2</td>\n",
       "      <td>2</td>\n",
       "    </tr>\n",
       "    <tr>\n",
       "      <th>2</th>\n",
       "      <td>Algeria (ALG)</td>\n",
       "      <td>12</td>\n",
       "      <td>5</td>\n",
       "      <td>2</td>\n",
       "      <td>8</td>\n",
       "      <td>15</td>\n",
       "      <td>3</td>\n",
       "      <td>0</td>\n",
       "      <td>0</td>\n",
       "      <td>0</td>\n",
       "      <td>0</td>\n",
       "      <td>15</td>\n",
       "      <td>5</td>\n",
       "      <td>2</td>\n",
       "      <td>8</td>\n",
       "      <td>15</td>\n",
       "    </tr>\n",
       "    <tr>\n",
       "      <th>3</th>\n",
       "      <td>Argentina (ARG)</td>\n",
       "      <td>23</td>\n",
       "      <td>18</td>\n",
       "      <td>24</td>\n",
       "      <td>28</td>\n",
       "      <td>70</td>\n",
       "      <td>18</td>\n",
       "      <td>0</td>\n",
       "      <td>0</td>\n",
       "      <td>0</td>\n",
       "      <td>0</td>\n",
       "      <td>41</td>\n",
       "      <td>18</td>\n",
       "      <td>24</td>\n",
       "      <td>28</td>\n",
       "      <td>70</td>\n",
       "    </tr>\n",
       "    <tr>\n",
       "      <th>4</th>\n",
       "      <td>Armenia (ARM)</td>\n",
       "      <td>5</td>\n",
       "      <td>1</td>\n",
       "      <td>2</td>\n",
       "      <td>9</td>\n",
       "      <td>12</td>\n",
       "      <td>6</td>\n",
       "      <td>0</td>\n",
       "      <td>0</td>\n",
       "      <td>0</td>\n",
       "      <td>0</td>\n",
       "      <td>11</td>\n",
       "      <td>1</td>\n",
       "      <td>2</td>\n",
       "      <td>9</td>\n",
       "      <td>12</td>\n",
       "    </tr>\n",
       "  </tbody>\n",
       "</table>\n",
       "</div>"
      ]
     },
     "execution_count": 27,
     "metadata": {},
     "output_type": "execute_result"
    }
   ],
   "execution_count": 27
  },
  {
   "cell_type": "markdown",
   "metadata": {
    "collapsed": false,
    "id": "-ktgOOMs-Hpf"
   },
   "source": "It seems pretty clear that the first row of data in the `DataFrame` is what we really want to see as the column names. It also seems like the first column in the data is the country name, which we would like to make an index.\n"
  },
  {
   "cell_type": "markdown",
   "metadata": {
    "collapsed": false,
    "id": "lG-hwv_T-Hpf"
   },
   "source": [
    "`read_csv` has a number of parameters that we can use to indicate to Pandas how rows and columns should be labeled."
   ]
  },
  {
   "cell_type": "markdown",
   "metadata": {
    "collapsed": false,
    "id": "eYs78_3E-Hpf"
   },
   "source": "For instance, we can use the `index_col` to indicate which column should be the index, and we can also use the header parameter to indicate which row from the data file should be used as the header."
  },
  {
   "cell_type": "markdown",
   "metadata": {
    "collapsed": false,
    "id": "WwbU7hNo-Hpg"
   },
   "source": "Let's re-import that data and set the index value to be `0` which is the first column and let set a column headers to be read from the second row of data. We can do this by using the `skiprows` parameters, to tell `pandas` to ignore the first row, which was made up of numeric column names."
  },
  {
   "cell_type": "code",
   "metadata": {
    "colab": {
     "base_uri": "https://localhost:8080/",
     "height": 305
    },
    "id": "_I57Ppa6-Hpg",
    "outputId": "e06f0a54-b51c-471b-fdaf-4d5be46f71f6",
    "ExecuteTime": {
     "end_time": "2024-09-24T14:45:46.048918Z",
     "start_time": "2024-09-24T14:45:46.041191Z"
    }
   },
   "source": [
    "df = pd.read_csv('olympics.csv', index_col=0, skiprows=1)\n",
    "df.head()"
   ],
   "outputs": [
    {
     "data": {
      "text/plain": [
       "                         № Summer  01 !  02 !  03 !  Total  № Winter  01 !.1  \\\n",
       "Afghanistan (AFG)              13     0     0     2      2         0       0   \n",
       "Algeria (ALG)                  12     5     2     8     15         3       0   \n",
       "Argentina (ARG)                23    18    24    28     70        18       0   \n",
       "Armenia (ARM)                   5     1     2     9     12         6       0   \n",
       "Australasia (ANZ) [ANZ]         2     3     4     5     12         0       0   \n",
       "\n",
       "                         02 !.1  03 !.1  Total.1  № Games  01 !.2  02 !.2  \\\n",
       "Afghanistan (AFG)             0       0        0       13       0       0   \n",
       "Algeria (ALG)                 0       0        0       15       5       2   \n",
       "Argentina (ARG)               0       0        0       41      18      24   \n",
       "Armenia (ARM)                 0       0        0       11       1       2   \n",
       "Australasia (ANZ) [ANZ]       0       0        0        2       3       4   \n",
       "\n",
       "                         03 !.2  Combined total  \n",
       "Afghanistan (AFG)             2               2  \n",
       "Algeria (ALG)                 8              15  \n",
       "Argentina (ARG)              28              70  \n",
       "Armenia (ARM)                 9              12  \n",
       "Australasia (ANZ) [ANZ]       5              12  "
      ],
      "text/html": [
       "<div>\n",
       "<style scoped>\n",
       "    .dataframe tbody tr th:only-of-type {\n",
       "        vertical-align: middle;\n",
       "    }\n",
       "\n",
       "    .dataframe tbody tr th {\n",
       "        vertical-align: top;\n",
       "    }\n",
       "\n",
       "    .dataframe thead th {\n",
       "        text-align: right;\n",
       "    }\n",
       "</style>\n",
       "<table border=\"1\" class=\"dataframe\">\n",
       "  <thead>\n",
       "    <tr style=\"text-align: right;\">\n",
       "      <th></th>\n",
       "      <th>№ Summer</th>\n",
       "      <th>01 !</th>\n",
       "      <th>02 !</th>\n",
       "      <th>03 !</th>\n",
       "      <th>Total</th>\n",
       "      <th>№ Winter</th>\n",
       "      <th>01 !.1</th>\n",
       "      <th>02 !.1</th>\n",
       "      <th>03 !.1</th>\n",
       "      <th>Total.1</th>\n",
       "      <th>№ Games</th>\n",
       "      <th>01 !.2</th>\n",
       "      <th>02 !.2</th>\n",
       "      <th>03 !.2</th>\n",
       "      <th>Combined total</th>\n",
       "    </tr>\n",
       "  </thead>\n",
       "  <tbody>\n",
       "    <tr>\n",
       "      <th>Afghanistan (AFG)</th>\n",
       "      <td>13</td>\n",
       "      <td>0</td>\n",
       "      <td>0</td>\n",
       "      <td>2</td>\n",
       "      <td>2</td>\n",
       "      <td>0</td>\n",
       "      <td>0</td>\n",
       "      <td>0</td>\n",
       "      <td>0</td>\n",
       "      <td>0</td>\n",
       "      <td>13</td>\n",
       "      <td>0</td>\n",
       "      <td>0</td>\n",
       "      <td>2</td>\n",
       "      <td>2</td>\n",
       "    </tr>\n",
       "    <tr>\n",
       "      <th>Algeria (ALG)</th>\n",
       "      <td>12</td>\n",
       "      <td>5</td>\n",
       "      <td>2</td>\n",
       "      <td>8</td>\n",
       "      <td>15</td>\n",
       "      <td>3</td>\n",
       "      <td>0</td>\n",
       "      <td>0</td>\n",
       "      <td>0</td>\n",
       "      <td>0</td>\n",
       "      <td>15</td>\n",
       "      <td>5</td>\n",
       "      <td>2</td>\n",
       "      <td>8</td>\n",
       "      <td>15</td>\n",
       "    </tr>\n",
       "    <tr>\n",
       "      <th>Argentina (ARG)</th>\n",
       "      <td>23</td>\n",
       "      <td>18</td>\n",
       "      <td>24</td>\n",
       "      <td>28</td>\n",
       "      <td>70</td>\n",
       "      <td>18</td>\n",
       "      <td>0</td>\n",
       "      <td>0</td>\n",
       "      <td>0</td>\n",
       "      <td>0</td>\n",
       "      <td>41</td>\n",
       "      <td>18</td>\n",
       "      <td>24</td>\n",
       "      <td>28</td>\n",
       "      <td>70</td>\n",
       "    </tr>\n",
       "    <tr>\n",
       "      <th>Armenia (ARM)</th>\n",
       "      <td>5</td>\n",
       "      <td>1</td>\n",
       "      <td>2</td>\n",
       "      <td>9</td>\n",
       "      <td>12</td>\n",
       "      <td>6</td>\n",
       "      <td>0</td>\n",
       "      <td>0</td>\n",
       "      <td>0</td>\n",
       "      <td>0</td>\n",
       "      <td>11</td>\n",
       "      <td>1</td>\n",
       "      <td>2</td>\n",
       "      <td>9</td>\n",
       "      <td>12</td>\n",
       "    </tr>\n",
       "    <tr>\n",
       "      <th>Australasia (ANZ) [ANZ]</th>\n",
       "      <td>2</td>\n",
       "      <td>3</td>\n",
       "      <td>4</td>\n",
       "      <td>5</td>\n",
       "      <td>12</td>\n",
       "      <td>0</td>\n",
       "      <td>0</td>\n",
       "      <td>0</td>\n",
       "      <td>0</td>\n",
       "      <td>0</td>\n",
       "      <td>2</td>\n",
       "      <td>3</td>\n",
       "      <td>4</td>\n",
       "      <td>5</td>\n",
       "      <td>12</td>\n",
       "    </tr>\n",
       "  </tbody>\n",
       "</table>\n",
       "</div>"
      ]
     },
     "execution_count": 28,
     "metadata": {},
     "output_type": "execute_result"
    }
   ],
   "execution_count": 28
  },
  {
   "cell_type": "markdown",
   "metadata": {
    "collapsed": false,
    "id": "6FkA0wfV-Hpg"
   },
   "source": "Now this data came from the all-time [Olympic games medal table](https://en.wikipedia.org/wiki/All-time_Olympic_Games_medal_table) on Wikipedia."
  },
  {
   "cell_type": "markdown",
   "metadata": {
    "collapsed": false,
    "id": "WWEQUqDX-Hpg"
   },
   "source": [
    "If we head to the page we could see that instead of running gold, silver and bronze in the pages, these nice little icons with a one, a two, and a three in them."
   ]
  },
  {
   "cell_type": "markdown",
   "metadata": {
    "collapsed": false,
    "id": "W-lEH-sg-Hpg"
   },
   "source": [
    "## Rename Columns"
   ]
  },
  {
   "cell_type": "markdown",
   "metadata": {
    "collapsed": false,
    "id": "EXrTnm4A-Hpg"
   },
   "source": "`pandas` stores a list of all the columns in the `.columns` attribute. We can change the values of the column names by iterating over this list and calling the rename method of the `DataFrame`."
  },
  {
   "cell_type": "code",
   "metadata": {
    "colab": {
     "base_uri": "https://localhost:8080/"
    },
    "id": "sNX1HElw-Hph",
    "outputId": "8c44148e-5739-4b12-c557-563de48135a3",
    "ExecuteTime": {
     "end_time": "2024-09-24T14:46:23.498473Z",
     "start_time": "2024-09-24T14:46:23.495742Z"
    }
   },
   "source": [
    "df.columns"
   ],
   "outputs": [
    {
     "data": {
      "text/plain": [
       "Index(['№ Summer', '01 !', '02 !', '03 !', 'Total', '№ Winter', '01 !.1',\n",
       "       '02 !.1', '03 !.1', 'Total.1', '№ Games', '01 !.2', '02 !.2', '03 !.2',\n",
       "       'Combined total'],\n",
       "      dtype='object')"
      ]
     },
     "execution_count": 29,
     "metadata": {},
     "output_type": "execute_result"
    }
   ],
   "execution_count": 29
  },
  {
   "cell_type": "markdown",
   "metadata": {
    "collapsed": false,
    "id": "WnR9Ta5C-Hph"
   },
   "source": [
    "Here we just iterate through all the columns looking to see if they start with a `01`, `02`, `03` or numeric character. If they do, we can call rename and set the column parameters to a dictionary with the keys being the *column* we want to replace and the *value* being the new value we want.\n",
    "\n",
    "Here we slice some of the old values in two, since we don't want to lose the unique appended values. We'll also set the ever-important `inplace` parameter to `True` so `pandas` knows to update this `DataFrame` directly."
   ]
  },
  {
   "cell_type": "code",
   "metadata": {
    "colab": {
     "base_uri": "https://localhost:8080/",
     "height": 305
    },
    "id": "8sT-bARx-Hph",
    "outputId": "00c8d4c5-db1a-46a5-f6f7-5672d43f793a",
    "ExecuteTime": {
     "end_time": "2024-09-24T14:47:08.249127Z",
     "start_time": "2024-09-24T14:47:08.241786Z"
    }
   },
   "source": [
    "for col in df.columns:\n",
    "    if col[:2] == '01':\n",
    "        df.rename(columns={col: 'Gold' + col[4:]}, inplace=True)\n",
    "    if col[:2] == '02':\n",
    "        df.rename(columns={col: 'Silver' + col[4:]}, inplace=True)\n",
    "    if col[:2] == '03':\n",
    "        df.rename(columns={col: 'Bronze' + col[4:]}, inplace=True)\n",
    "    if col[:1] == '№':\n",
    "        df.rename(columns={col: '#' + col[1:]}, inplace=True)\n",
    "\n",
    "df.head()"
   ],
   "outputs": [
    {
     "data": {
      "text/plain": [
       "                         # Summer  Gold  Silver  Bronze  Total  # Winter  \\\n",
       "Afghanistan (AFG)              13     0       0       2      2         0   \n",
       "Algeria (ALG)                  12     5       2       8     15         3   \n",
       "Argentina (ARG)                23    18      24      28     70        18   \n",
       "Armenia (ARM)                   5     1       2       9     12         6   \n",
       "Australasia (ANZ) [ANZ]         2     3       4       5     12         0   \n",
       "\n",
       "                         Gold.1  Silver.1  Bronze.1  Total.1  # Games  Gold.2  \\\n",
       "Afghanistan (AFG)             0         0         0        0       13       0   \n",
       "Algeria (ALG)                 0         0         0        0       15       5   \n",
       "Argentina (ARG)               0         0         0        0       41      18   \n",
       "Armenia (ARM)                 0         0         0        0       11       1   \n",
       "Australasia (ANZ) [ANZ]       0         0         0        0        2       3   \n",
       "\n",
       "                         Silver.2  Bronze.2  Combined total  \n",
       "Afghanistan (AFG)               0         2               2  \n",
       "Algeria (ALG)                   2         8              15  \n",
       "Argentina (ARG)                24        28              70  \n",
       "Armenia (ARM)                   2         9              12  \n",
       "Australasia (ANZ) [ANZ]         4         5              12  "
      ],
      "text/html": [
       "<div>\n",
       "<style scoped>\n",
       "    .dataframe tbody tr th:only-of-type {\n",
       "        vertical-align: middle;\n",
       "    }\n",
       "\n",
       "    .dataframe tbody tr th {\n",
       "        vertical-align: top;\n",
       "    }\n",
       "\n",
       "    .dataframe thead th {\n",
       "        text-align: right;\n",
       "    }\n",
       "</style>\n",
       "<table border=\"1\" class=\"dataframe\">\n",
       "  <thead>\n",
       "    <tr style=\"text-align: right;\">\n",
       "      <th></th>\n",
       "      <th># Summer</th>\n",
       "      <th>Gold</th>\n",
       "      <th>Silver</th>\n",
       "      <th>Bronze</th>\n",
       "      <th>Total</th>\n",
       "      <th># Winter</th>\n",
       "      <th>Gold.1</th>\n",
       "      <th>Silver.1</th>\n",
       "      <th>Bronze.1</th>\n",
       "      <th>Total.1</th>\n",
       "      <th># Games</th>\n",
       "      <th>Gold.2</th>\n",
       "      <th>Silver.2</th>\n",
       "      <th>Bronze.2</th>\n",
       "      <th>Combined total</th>\n",
       "    </tr>\n",
       "  </thead>\n",
       "  <tbody>\n",
       "    <tr>\n",
       "      <th>Afghanistan (AFG)</th>\n",
       "      <td>13</td>\n",
       "      <td>0</td>\n",
       "      <td>0</td>\n",
       "      <td>2</td>\n",
       "      <td>2</td>\n",
       "      <td>0</td>\n",
       "      <td>0</td>\n",
       "      <td>0</td>\n",
       "      <td>0</td>\n",
       "      <td>0</td>\n",
       "      <td>13</td>\n",
       "      <td>0</td>\n",
       "      <td>0</td>\n",
       "      <td>2</td>\n",
       "      <td>2</td>\n",
       "    </tr>\n",
       "    <tr>\n",
       "      <th>Algeria (ALG)</th>\n",
       "      <td>12</td>\n",
       "      <td>5</td>\n",
       "      <td>2</td>\n",
       "      <td>8</td>\n",
       "      <td>15</td>\n",
       "      <td>3</td>\n",
       "      <td>0</td>\n",
       "      <td>0</td>\n",
       "      <td>0</td>\n",
       "      <td>0</td>\n",
       "      <td>15</td>\n",
       "      <td>5</td>\n",
       "      <td>2</td>\n",
       "      <td>8</td>\n",
       "      <td>15</td>\n",
       "    </tr>\n",
       "    <tr>\n",
       "      <th>Argentina (ARG)</th>\n",
       "      <td>23</td>\n",
       "      <td>18</td>\n",
       "      <td>24</td>\n",
       "      <td>28</td>\n",
       "      <td>70</td>\n",
       "      <td>18</td>\n",
       "      <td>0</td>\n",
       "      <td>0</td>\n",
       "      <td>0</td>\n",
       "      <td>0</td>\n",
       "      <td>41</td>\n",
       "      <td>18</td>\n",
       "      <td>24</td>\n",
       "      <td>28</td>\n",
       "      <td>70</td>\n",
       "    </tr>\n",
       "    <tr>\n",
       "      <th>Armenia (ARM)</th>\n",
       "      <td>5</td>\n",
       "      <td>1</td>\n",
       "      <td>2</td>\n",
       "      <td>9</td>\n",
       "      <td>12</td>\n",
       "      <td>6</td>\n",
       "      <td>0</td>\n",
       "      <td>0</td>\n",
       "      <td>0</td>\n",
       "      <td>0</td>\n",
       "      <td>11</td>\n",
       "      <td>1</td>\n",
       "      <td>2</td>\n",
       "      <td>9</td>\n",
       "      <td>12</td>\n",
       "    </tr>\n",
       "    <tr>\n",
       "      <th>Australasia (ANZ) [ANZ]</th>\n",
       "      <td>2</td>\n",
       "      <td>3</td>\n",
       "      <td>4</td>\n",
       "      <td>5</td>\n",
       "      <td>12</td>\n",
       "      <td>0</td>\n",
       "      <td>0</td>\n",
       "      <td>0</td>\n",
       "      <td>0</td>\n",
       "      <td>0</td>\n",
       "      <td>2</td>\n",
       "      <td>3</td>\n",
       "      <td>4</td>\n",
       "      <td>5</td>\n",
       "      <td>12</td>\n",
       "    </tr>\n",
       "  </tbody>\n",
       "</table>\n",
       "</div>"
      ]
     },
     "execution_count": 30,
     "metadata": {},
     "output_type": "execute_result"
    }
   ],
   "execution_count": 30
  },
  {
   "cell_type": "markdown",
   "metadata": {
    "collapsed": false,
    "id": "x8YNnWOD-Hph"
   },
   "source": [
    "## Conclusion\n",
    "In this section we have discussed a simple workflow to bring the data to a state where we can query it. For this we discussed the topics of *data Index*, *loading of data* and *renaming of columns*."
   ]
  },
  {
   "cell_type": "markdown",
   "metadata": {
    "collapsed": false,
    "id": "tR4sF_1I-Hph"
   },
   "source": "# Querying a `DataFrame`"
  },
  {
   "cell_type": "markdown",
   "metadata": {
    "collapsed": false,
    "id": "EZiTbIJL-Hph"
   },
   "source": [
    "## Boolean masking"
   ]
  },
  {
   "cell_type": "markdown",
   "metadata": {
    "collapsed": false,
    "id": "6OGjJHrC-Hpi"
   },
   "source": [
    "Before we talk about how to query `DataFrame`s, we need to talk about Boolean masking. Boolean masking is the heart of fast and efficient querying in `NumPy`.\n",
    "\n",
    "A Boolean mask is an array which can be of one dimension like a `Series`, or two dimensions like a `DataFrame`, where each of the values in the array are either `True` or `False`. This array is essentially overlaid on top of the data structure that we're querying. And any cell aligned with the `True` value will be admitted into our final result, and any cell aligned with a `False` value will not.\n",
    "\n",
    "Boolean masks are created by applying operators directly to the `pandas` `Series` or `DataFrame` objects."
   ]
  },
  {
   "cell_type": "markdown",
   "metadata": {
    "collapsed": false,
    "id": "GJwFSNl3-Hpi"
   },
   "source": [
    "For instance, in our Olympics data set, you might be interested in seeing only those countries who have achieved a gold medal at the summer Olympics. To build a Boolean mask for this query, we project the gold column using the indexing operator and apply the **greater than operator** with a comparison value of zero. This is essentially broadcasting a comparison operator, greater than, with the results being returned as a Boolean series."
   ]
  },
  {
   "cell_type": "code",
   "metadata": {
    "colab": {
     "base_uri": "https://localhost:8080/"
    },
    "id": "M3DmLQk_-Hpi",
    "outputId": "fe167545-6f0a-4bdc-96da-f314d5c7e46e",
    "ExecuteTime": {
     "end_time": "2024-09-24T14:52:35.333778Z",
     "start_time": "2024-09-24T14:52:35.328868Z"
    }
   },
   "source": [
    "df['Gold'] > 0"
   ],
   "outputs": [
    {
     "data": {
      "text/plain": [
       "Afghanistan (AFG)                               False\n",
       "Algeria (ALG)                                    True\n",
       "Argentina (ARG)                                  True\n",
       "Armenia (ARM)                                    True\n",
       "Australasia (ANZ) [ANZ]                          True\n",
       "                                                ...  \n",
       "Independent Olympic Participants (IOP) [IOP]    False\n",
       "Zambia (ZAM) [ZAM]                              False\n",
       "Zimbabwe (ZIM) [ZIM]                             True\n",
       "Mixed team (ZZX) [ZZX]                           True\n",
       "Totals                                           True\n",
       "Name: Gold, Length: 147, dtype: bool"
      ]
     },
     "execution_count": 31,
     "metadata": {},
     "output_type": "execute_result"
    }
   ],
   "execution_count": 31
  },
  {
   "cell_type": "markdown",
   "metadata": {
    "collapsed": false,
    "id": "yfsjJls5-Hpi"
   },
   "source": [
    "The resulting `Series` is indexed where the value of each cell is either `True` or `False` depending on whether a country has won at least one gold medal, and the index is the country name.\n",
    "\n",
    "So this builds us the Boolean mask, which is half the battle. What we want to do next is overlay that mask on the `DataFrame`."
   ]
  },
  {
   "cell_type": "markdown",
   "metadata": {
    "collapsed": false,
    "id": "Gonlrzvx-Hpi"
   },
   "source": "## `where` method"
  },
  {
   "cell_type": "markdown",
   "metadata": {
    "collapsed": false,
    "id": "3tNHtQD--Hpi"
   },
   "source": "We can do this using the `where` method. The `where` method takes a Boolean mask as a condition, applies it to the `DataFrame` or `Series`, and returns a new `DataFrame` or `Series` of the same shape. Let's apply this Boolean mask to our Olympics data and create a `DataFrame` of only those countries who have won a gold at a summer games."
  },
  {
   "cell_type": "code",
   "source": "len(df[df[\"Gold\"] > 0])",
   "metadata": {
    "id": "jKYI8Va2Hq2L",
    "ExecuteTime": {
     "end_time": "2024-09-24T14:53:20.236398Z",
     "start_time": "2024-09-24T14:53:20.233294Z"
    }
   },
   "outputs": [
    {
     "data": {
      "text/plain": [
       "100"
      ]
     },
     "execution_count": 32,
     "metadata": {},
     "output_type": "execute_result"
    }
   ],
   "execution_count": 32
  },
  {
   "cell_type": "code",
   "metadata": {
    "colab": {
     "base_uri": "https://localhost:8080/",
     "height": 305
    },
    "id": "dN9pNSTM-Hpi",
    "outputId": "0cc5bbd2-d0fa-4f0c-dafe-d578b6c3eff1",
    "ExecuteTime": {
     "end_time": "2024-09-24T14:54:27.256657Z",
     "start_time": "2024-09-24T14:54:27.244711Z"
    }
   },
   "source": [
    "only_gold = df.where(df['Gold'] > 0)\n",
    "only_gold.head()"
   ],
   "outputs": [
    {
     "data": {
      "text/plain": [
       "                         # Summer  Gold  Silver  Bronze  Total  # Winter  \\\n",
       "Afghanistan (AFG)             NaN   NaN     NaN     NaN    NaN       NaN   \n",
       "Algeria (ALG)                12.0   5.0     2.0     8.0   15.0       3.0   \n",
       "Argentina (ARG)              23.0  18.0    24.0    28.0   70.0      18.0   \n",
       "Armenia (ARM)                 5.0   1.0     2.0     9.0   12.0       6.0   \n",
       "Australasia (ANZ) [ANZ]       2.0   3.0     4.0     5.0   12.0       0.0   \n",
       "\n",
       "                         Gold.1  Silver.1  Bronze.1  Total.1  # Games  Gold.2  \\\n",
       "Afghanistan (AFG)           NaN       NaN       NaN      NaN      NaN     NaN   \n",
       "Algeria (ALG)               0.0       0.0       0.0      0.0     15.0     5.0   \n",
       "Argentina (ARG)             0.0       0.0       0.0      0.0     41.0    18.0   \n",
       "Armenia (ARM)               0.0       0.0       0.0      0.0     11.0     1.0   \n",
       "Australasia (ANZ) [ANZ]     0.0       0.0       0.0      0.0      2.0     3.0   \n",
       "\n",
       "                         Silver.2  Bronze.2  Combined total  \n",
       "Afghanistan (AFG)             NaN       NaN             NaN  \n",
       "Algeria (ALG)                 2.0       8.0            15.0  \n",
       "Argentina (ARG)              24.0      28.0            70.0  \n",
       "Armenia (ARM)                 2.0       9.0            12.0  \n",
       "Australasia (ANZ) [ANZ]       4.0       5.0            12.0  "
      ],
      "text/html": [
       "<div>\n",
       "<style scoped>\n",
       "    .dataframe tbody tr th:only-of-type {\n",
       "        vertical-align: middle;\n",
       "    }\n",
       "\n",
       "    .dataframe tbody tr th {\n",
       "        vertical-align: top;\n",
       "    }\n",
       "\n",
       "    .dataframe thead th {\n",
       "        text-align: right;\n",
       "    }\n",
       "</style>\n",
       "<table border=\"1\" class=\"dataframe\">\n",
       "  <thead>\n",
       "    <tr style=\"text-align: right;\">\n",
       "      <th></th>\n",
       "      <th># Summer</th>\n",
       "      <th>Gold</th>\n",
       "      <th>Silver</th>\n",
       "      <th>Bronze</th>\n",
       "      <th>Total</th>\n",
       "      <th># Winter</th>\n",
       "      <th>Gold.1</th>\n",
       "      <th>Silver.1</th>\n",
       "      <th>Bronze.1</th>\n",
       "      <th>Total.1</th>\n",
       "      <th># Games</th>\n",
       "      <th>Gold.2</th>\n",
       "      <th>Silver.2</th>\n",
       "      <th>Bronze.2</th>\n",
       "      <th>Combined total</th>\n",
       "    </tr>\n",
       "  </thead>\n",
       "  <tbody>\n",
       "    <tr>\n",
       "      <th>Afghanistan (AFG)</th>\n",
       "      <td>NaN</td>\n",
       "      <td>NaN</td>\n",
       "      <td>NaN</td>\n",
       "      <td>NaN</td>\n",
       "      <td>NaN</td>\n",
       "      <td>NaN</td>\n",
       "      <td>NaN</td>\n",
       "      <td>NaN</td>\n",
       "      <td>NaN</td>\n",
       "      <td>NaN</td>\n",
       "      <td>NaN</td>\n",
       "      <td>NaN</td>\n",
       "      <td>NaN</td>\n",
       "      <td>NaN</td>\n",
       "      <td>NaN</td>\n",
       "    </tr>\n",
       "    <tr>\n",
       "      <th>Algeria (ALG)</th>\n",
       "      <td>12.0</td>\n",
       "      <td>5.0</td>\n",
       "      <td>2.0</td>\n",
       "      <td>8.0</td>\n",
       "      <td>15.0</td>\n",
       "      <td>3.0</td>\n",
       "      <td>0.0</td>\n",
       "      <td>0.0</td>\n",
       "      <td>0.0</td>\n",
       "      <td>0.0</td>\n",
       "      <td>15.0</td>\n",
       "      <td>5.0</td>\n",
       "      <td>2.0</td>\n",
       "      <td>8.0</td>\n",
       "      <td>15.0</td>\n",
       "    </tr>\n",
       "    <tr>\n",
       "      <th>Argentina (ARG)</th>\n",
       "      <td>23.0</td>\n",
       "      <td>18.0</td>\n",
       "      <td>24.0</td>\n",
       "      <td>28.0</td>\n",
       "      <td>70.0</td>\n",
       "      <td>18.0</td>\n",
       "      <td>0.0</td>\n",
       "      <td>0.0</td>\n",
       "      <td>0.0</td>\n",
       "      <td>0.0</td>\n",
       "      <td>41.0</td>\n",
       "      <td>18.0</td>\n",
       "      <td>24.0</td>\n",
       "      <td>28.0</td>\n",
       "      <td>70.0</td>\n",
       "    </tr>\n",
       "    <tr>\n",
       "      <th>Armenia (ARM)</th>\n",
       "      <td>5.0</td>\n",
       "      <td>1.0</td>\n",
       "      <td>2.0</td>\n",
       "      <td>9.0</td>\n",
       "      <td>12.0</td>\n",
       "      <td>6.0</td>\n",
       "      <td>0.0</td>\n",
       "      <td>0.0</td>\n",
       "      <td>0.0</td>\n",
       "      <td>0.0</td>\n",
       "      <td>11.0</td>\n",
       "      <td>1.0</td>\n",
       "      <td>2.0</td>\n",
       "      <td>9.0</td>\n",
       "      <td>12.0</td>\n",
       "    </tr>\n",
       "    <tr>\n",
       "      <th>Australasia (ANZ) [ANZ]</th>\n",
       "      <td>2.0</td>\n",
       "      <td>3.0</td>\n",
       "      <td>4.0</td>\n",
       "      <td>5.0</td>\n",
       "      <td>12.0</td>\n",
       "      <td>0.0</td>\n",
       "      <td>0.0</td>\n",
       "      <td>0.0</td>\n",
       "      <td>0.0</td>\n",
       "      <td>0.0</td>\n",
       "      <td>2.0</td>\n",
       "      <td>3.0</td>\n",
       "      <td>4.0</td>\n",
       "      <td>5.0</td>\n",
       "      <td>12.0</td>\n",
       "    </tr>\n",
       "  </tbody>\n",
       "</table>\n",
       "</div>"
      ]
     },
     "execution_count": 33,
     "metadata": {},
     "output_type": "execute_result"
    }
   ],
   "execution_count": 33
  },
  {
   "cell_type": "markdown",
   "metadata": {
    "collapsed": false,
    "id": "qCBUJxLN-Hpi"
   },
   "source": "We see that the resulting `DataFrame` keeps the original indexed values, and only data from countries that met the condition are retained. All the countries which did not meet the condition have `NaN` data instead. This is okay. Most statistical methods built into the `DataFrame` object ignore values of `NaN`."
  },
  {
   "cell_type": "markdown",
   "metadata": {
    "collapsed": false,
    "id": "Kr-zM70c-Hpj"
   },
   "source": "## `count` method"
  },
  {
   "cell_type": "markdown",
   "metadata": {
    "collapsed": false,
    "id": "ojJkSH8i-Hpj"
   },
   "source": "For instance, if we call `.count()` on the `only_gold` `DataFrame`:"
  },
  {
   "cell_type": "code",
   "metadata": {
    "colab": {
     "base_uri": "https://localhost:8080/"
    },
    "id": "TxyQRcb7-Hpj",
    "outputId": "ee54481d-cd72-43c3-d51b-1eb76e5362c7",
    "ExecuteTime": {
     "end_time": "2024-09-24T14:55:03.423526Z",
     "start_time": "2024-09-24T14:55:03.420545Z"
    }
   },
   "source": [
    "only_gold['Gold'].count()"
   ],
   "outputs": [
    {
     "data": {
      "text/plain": [
       "np.int64(100)"
      ]
     },
     "execution_count": 34,
     "metadata": {},
     "output_type": "execute_result"
    }
   ],
   "execution_count": 34
  },
  {
   "cell_type": "markdown",
   "metadata": {
    "collapsed": false,
    "id": "JY0PATkt-Hpj"
   },
   "source": "We see that there are 100 countries which have had gold medals awarded at the summer games,"
  },
  {
   "cell_type": "markdown",
   "metadata": {
    "collapsed": false,
    "id": "miGEdRJ4-Hpj"
   },
   "source": "While if we call `.count()` on the original `DataFrame`, we see that there are 147 countries total."
  },
  {
   "cell_type": "code",
   "metadata": {
    "colab": {
     "base_uri": "https://localhost:8080/"
    },
    "id": "tS2J4psk-Hpj",
    "outputId": "89cd075e-4747-480a-d5de-ad1f4a194ab8",
    "ExecuteTime": {
     "end_time": "2024-09-24T14:55:33.476182Z",
     "start_time": "2024-09-24T14:55:33.473065Z"
    }
   },
   "source": [
    "df['Gold'].count()"
   ],
   "outputs": [
    {
     "data": {
      "text/plain": [
       "np.int64(147)"
      ]
     },
     "execution_count": 35,
     "metadata": {},
     "output_type": "execute_result"
    }
   ],
   "execution_count": 35
  },
  {
   "cell_type": "markdown",
   "metadata": {
    "collapsed": false,
    "id": "Ib854RH6-Hpj"
   },
   "source": [
    "## Drop rows without data"
   ]
  },
  {
   "cell_type": "markdown",
   "metadata": {
    "collapsed": false,
    "id": "JGZoSTov-Hpj"
   },
   "source": "Often we want to drop those rows which have no data. To do this, we can use the `dropna()` method."
  },
  {
   "cell_type": "markdown",
   "metadata": {
    "collapsed": false,
    "id": "AYFFPg5u-Hpj"
   },
   "source": "You can optionally provide `dropna()` the axes it should be considering. Remember that the `axes` argument is just an indicator for the columns or rows and that the default value for the argument is zero, which means rows."
  },
  {
   "cell_type": "code",
   "metadata": {
    "colab": {
     "base_uri": "https://localhost:8080/",
     "height": 322
    },
    "id": "M7QRAnIc-Hpj",
    "outputId": "1ab64ed3-e626-4348-da39-26528e967199",
    "ExecuteTime": {
     "end_time": "2024-09-24T14:55:51.917206Z",
     "start_time": "2024-09-24T14:55:51.907280Z"
    }
   },
   "source": [
    "only_gold = only_gold.dropna()\n",
    "only_gold.head()"
   ],
   "outputs": [
    {
     "data": {
      "text/plain": [
       "                           # Summer   Gold  Silver  Bronze  Total  # Winter  \\\n",
       "Algeria (ALG)                  12.0    5.0     2.0     8.0   15.0       3.0   \n",
       "Argentina (ARG)                23.0   18.0    24.0    28.0   70.0      18.0   \n",
       "Armenia (ARM)                   5.0    1.0     2.0     9.0   12.0       6.0   \n",
       "Australasia (ANZ) [ANZ]         2.0    3.0     4.0     5.0   12.0       0.0   \n",
       "Australia (AUS) [AUS] [Z]      25.0  139.0   152.0   177.0  468.0      18.0   \n",
       "\n",
       "                           Gold.1  Silver.1  Bronze.1  Total.1  # Games  \\\n",
       "Algeria (ALG)                 0.0       0.0       0.0      0.0     15.0   \n",
       "Argentina (ARG)               0.0       0.0       0.0      0.0     41.0   \n",
       "Armenia (ARM)                 0.0       0.0       0.0      0.0     11.0   \n",
       "Australasia (ANZ) [ANZ]       0.0       0.0       0.0      0.0      2.0   \n",
       "Australia (AUS) [AUS] [Z]     5.0       3.0       4.0     12.0     43.0   \n",
       "\n",
       "                           Gold.2  Silver.2  Bronze.2  Combined total  \n",
       "Algeria (ALG)                 5.0       2.0       8.0            15.0  \n",
       "Argentina (ARG)              18.0      24.0      28.0            70.0  \n",
       "Armenia (ARM)                 1.0       2.0       9.0            12.0  \n",
       "Australasia (ANZ) [ANZ]       3.0       4.0       5.0            12.0  \n",
       "Australia (AUS) [AUS] [Z]   144.0     155.0     181.0           480.0  "
      ],
      "text/html": [
       "<div>\n",
       "<style scoped>\n",
       "    .dataframe tbody tr th:only-of-type {\n",
       "        vertical-align: middle;\n",
       "    }\n",
       "\n",
       "    .dataframe tbody tr th {\n",
       "        vertical-align: top;\n",
       "    }\n",
       "\n",
       "    .dataframe thead th {\n",
       "        text-align: right;\n",
       "    }\n",
       "</style>\n",
       "<table border=\"1\" class=\"dataframe\">\n",
       "  <thead>\n",
       "    <tr style=\"text-align: right;\">\n",
       "      <th></th>\n",
       "      <th># Summer</th>\n",
       "      <th>Gold</th>\n",
       "      <th>Silver</th>\n",
       "      <th>Bronze</th>\n",
       "      <th>Total</th>\n",
       "      <th># Winter</th>\n",
       "      <th>Gold.1</th>\n",
       "      <th>Silver.1</th>\n",
       "      <th>Bronze.1</th>\n",
       "      <th>Total.1</th>\n",
       "      <th># Games</th>\n",
       "      <th>Gold.2</th>\n",
       "      <th>Silver.2</th>\n",
       "      <th>Bronze.2</th>\n",
       "      <th>Combined total</th>\n",
       "    </tr>\n",
       "  </thead>\n",
       "  <tbody>\n",
       "    <tr>\n",
       "      <th>Algeria (ALG)</th>\n",
       "      <td>12.0</td>\n",
       "      <td>5.0</td>\n",
       "      <td>2.0</td>\n",
       "      <td>8.0</td>\n",
       "      <td>15.0</td>\n",
       "      <td>3.0</td>\n",
       "      <td>0.0</td>\n",
       "      <td>0.0</td>\n",
       "      <td>0.0</td>\n",
       "      <td>0.0</td>\n",
       "      <td>15.0</td>\n",
       "      <td>5.0</td>\n",
       "      <td>2.0</td>\n",
       "      <td>8.0</td>\n",
       "      <td>15.0</td>\n",
       "    </tr>\n",
       "    <tr>\n",
       "      <th>Argentina (ARG)</th>\n",
       "      <td>23.0</td>\n",
       "      <td>18.0</td>\n",
       "      <td>24.0</td>\n",
       "      <td>28.0</td>\n",
       "      <td>70.0</td>\n",
       "      <td>18.0</td>\n",
       "      <td>0.0</td>\n",
       "      <td>0.0</td>\n",
       "      <td>0.0</td>\n",
       "      <td>0.0</td>\n",
       "      <td>41.0</td>\n",
       "      <td>18.0</td>\n",
       "      <td>24.0</td>\n",
       "      <td>28.0</td>\n",
       "      <td>70.0</td>\n",
       "    </tr>\n",
       "    <tr>\n",
       "      <th>Armenia (ARM)</th>\n",
       "      <td>5.0</td>\n",
       "      <td>1.0</td>\n",
       "      <td>2.0</td>\n",
       "      <td>9.0</td>\n",
       "      <td>12.0</td>\n",
       "      <td>6.0</td>\n",
       "      <td>0.0</td>\n",
       "      <td>0.0</td>\n",
       "      <td>0.0</td>\n",
       "      <td>0.0</td>\n",
       "      <td>11.0</td>\n",
       "      <td>1.0</td>\n",
       "      <td>2.0</td>\n",
       "      <td>9.0</td>\n",
       "      <td>12.0</td>\n",
       "    </tr>\n",
       "    <tr>\n",
       "      <th>Australasia (ANZ) [ANZ]</th>\n",
       "      <td>2.0</td>\n",
       "      <td>3.0</td>\n",
       "      <td>4.0</td>\n",
       "      <td>5.0</td>\n",
       "      <td>12.0</td>\n",
       "      <td>0.0</td>\n",
       "      <td>0.0</td>\n",
       "      <td>0.0</td>\n",
       "      <td>0.0</td>\n",
       "      <td>0.0</td>\n",
       "      <td>2.0</td>\n",
       "      <td>3.0</td>\n",
       "      <td>4.0</td>\n",
       "      <td>5.0</td>\n",
       "      <td>12.0</td>\n",
       "    </tr>\n",
       "    <tr>\n",
       "      <th>Australia (AUS) [AUS] [Z]</th>\n",
       "      <td>25.0</td>\n",
       "      <td>139.0</td>\n",
       "      <td>152.0</td>\n",
       "      <td>177.0</td>\n",
       "      <td>468.0</td>\n",
       "      <td>18.0</td>\n",
       "      <td>5.0</td>\n",
       "      <td>3.0</td>\n",
       "      <td>4.0</td>\n",
       "      <td>12.0</td>\n",
       "      <td>43.0</td>\n",
       "      <td>144.0</td>\n",
       "      <td>155.0</td>\n",
       "      <td>181.0</td>\n",
       "      <td>480.0</td>\n",
       "    </tr>\n",
       "  </tbody>\n",
       "</table>\n",
       "</div>"
      ]
     },
     "execution_count": 36,
     "metadata": {},
     "output_type": "execute_result"
    }
   ],
   "execution_count": 36
  },
  {
   "cell_type": "markdown",
   "metadata": {
    "collapsed": false,
    "id": "wAhfCJQh-Hpk"
   },
   "source": [
    "## Indexing Operator with Boolean Mask"
   ]
  },
  {
   "cell_type": "markdown",
   "metadata": {
    "collapsed": false,
    "id": "YyIwBECv-Hpk"
   },
   "source": "We do not actually have to use the where function explicitly. The `pandas` developers allow the indexing operator to take a Boolean mask as a value instead of just a list of column names."
  },
  {
   "cell_type": "markdown",
   "metadata": {
    "collapsed": false,
    "id": "_BtJyrPV-Hpk"
   },
   "source": "Here's a more concise example of how we could query this `DataFrame`. You'll notice that there are no `NaN`s when you query the `DataFrame` in this manner. `pandas` automatically filters out the rows with `NaN` values."
  },
  {
   "cell_type": "code",
   "metadata": {
    "colab": {
     "base_uri": "https://localhost:8080/",
     "height": 322
    },
    "id": "Qor_mViN-Hpk",
    "outputId": "68421faf-08f5-4b2d-a562-26bfb9aa43a9",
    "ExecuteTime": {
     "end_time": "2024-09-24T14:56:46.508012Z",
     "start_time": "2024-09-24T14:56:46.502232Z"
    }
   },
   "source": [
    "only_gold = df[df['Gold'] > 0]\n",
    "only_gold.head()"
   ],
   "outputs": [
    {
     "data": {
      "text/plain": [
       "                           # Summer  Gold  Silver  Bronze  Total  # Winter  \\\n",
       "Algeria (ALG)                    12     5       2       8     15         3   \n",
       "Argentina (ARG)                  23    18      24      28     70        18   \n",
       "Armenia (ARM)                     5     1       2       9     12         6   \n",
       "Australasia (ANZ) [ANZ]           2     3       4       5     12         0   \n",
       "Australia (AUS) [AUS] [Z]        25   139     152     177    468        18   \n",
       "\n",
       "                           Gold.1  Silver.1  Bronze.1  Total.1  # Games  \\\n",
       "Algeria (ALG)                   0         0         0        0       15   \n",
       "Argentina (ARG)                 0         0         0        0       41   \n",
       "Armenia (ARM)                   0         0         0        0       11   \n",
       "Australasia (ANZ) [ANZ]         0         0         0        0        2   \n",
       "Australia (AUS) [AUS] [Z]       5         3         4       12       43   \n",
       "\n",
       "                           Gold.2  Silver.2  Bronze.2  Combined total  \n",
       "Algeria (ALG)                   5         2         8              15  \n",
       "Argentina (ARG)                18        24        28              70  \n",
       "Armenia (ARM)                   1         2         9              12  \n",
       "Australasia (ANZ) [ANZ]         3         4         5              12  \n",
       "Australia (AUS) [AUS] [Z]     144       155       181             480  "
      ],
      "text/html": [
       "<div>\n",
       "<style scoped>\n",
       "    .dataframe tbody tr th:only-of-type {\n",
       "        vertical-align: middle;\n",
       "    }\n",
       "\n",
       "    .dataframe tbody tr th {\n",
       "        vertical-align: top;\n",
       "    }\n",
       "\n",
       "    .dataframe thead th {\n",
       "        text-align: right;\n",
       "    }\n",
       "</style>\n",
       "<table border=\"1\" class=\"dataframe\">\n",
       "  <thead>\n",
       "    <tr style=\"text-align: right;\">\n",
       "      <th></th>\n",
       "      <th># Summer</th>\n",
       "      <th>Gold</th>\n",
       "      <th>Silver</th>\n",
       "      <th>Bronze</th>\n",
       "      <th>Total</th>\n",
       "      <th># Winter</th>\n",
       "      <th>Gold.1</th>\n",
       "      <th>Silver.1</th>\n",
       "      <th>Bronze.1</th>\n",
       "      <th>Total.1</th>\n",
       "      <th># Games</th>\n",
       "      <th>Gold.2</th>\n",
       "      <th>Silver.2</th>\n",
       "      <th>Bronze.2</th>\n",
       "      <th>Combined total</th>\n",
       "    </tr>\n",
       "  </thead>\n",
       "  <tbody>\n",
       "    <tr>\n",
       "      <th>Algeria (ALG)</th>\n",
       "      <td>12</td>\n",
       "      <td>5</td>\n",
       "      <td>2</td>\n",
       "      <td>8</td>\n",
       "      <td>15</td>\n",
       "      <td>3</td>\n",
       "      <td>0</td>\n",
       "      <td>0</td>\n",
       "      <td>0</td>\n",
       "      <td>0</td>\n",
       "      <td>15</td>\n",
       "      <td>5</td>\n",
       "      <td>2</td>\n",
       "      <td>8</td>\n",
       "      <td>15</td>\n",
       "    </tr>\n",
       "    <tr>\n",
       "      <th>Argentina (ARG)</th>\n",
       "      <td>23</td>\n",
       "      <td>18</td>\n",
       "      <td>24</td>\n",
       "      <td>28</td>\n",
       "      <td>70</td>\n",
       "      <td>18</td>\n",
       "      <td>0</td>\n",
       "      <td>0</td>\n",
       "      <td>0</td>\n",
       "      <td>0</td>\n",
       "      <td>41</td>\n",
       "      <td>18</td>\n",
       "      <td>24</td>\n",
       "      <td>28</td>\n",
       "      <td>70</td>\n",
       "    </tr>\n",
       "    <tr>\n",
       "      <th>Armenia (ARM)</th>\n",
       "      <td>5</td>\n",
       "      <td>1</td>\n",
       "      <td>2</td>\n",
       "      <td>9</td>\n",
       "      <td>12</td>\n",
       "      <td>6</td>\n",
       "      <td>0</td>\n",
       "      <td>0</td>\n",
       "      <td>0</td>\n",
       "      <td>0</td>\n",
       "      <td>11</td>\n",
       "      <td>1</td>\n",
       "      <td>2</td>\n",
       "      <td>9</td>\n",
       "      <td>12</td>\n",
       "    </tr>\n",
       "    <tr>\n",
       "      <th>Australasia (ANZ) [ANZ]</th>\n",
       "      <td>2</td>\n",
       "      <td>3</td>\n",
       "      <td>4</td>\n",
       "      <td>5</td>\n",
       "      <td>12</td>\n",
       "      <td>0</td>\n",
       "      <td>0</td>\n",
       "      <td>0</td>\n",
       "      <td>0</td>\n",
       "      <td>0</td>\n",
       "      <td>2</td>\n",
       "      <td>3</td>\n",
       "      <td>4</td>\n",
       "      <td>5</td>\n",
       "      <td>12</td>\n",
       "    </tr>\n",
       "    <tr>\n",
       "      <th>Australia (AUS) [AUS] [Z]</th>\n",
       "      <td>25</td>\n",
       "      <td>139</td>\n",
       "      <td>152</td>\n",
       "      <td>177</td>\n",
       "      <td>468</td>\n",
       "      <td>18</td>\n",
       "      <td>5</td>\n",
       "      <td>3</td>\n",
       "      <td>4</td>\n",
       "      <td>12</td>\n",
       "      <td>43</td>\n",
       "      <td>144</td>\n",
       "      <td>155</td>\n",
       "      <td>181</td>\n",
       "      <td>480</td>\n",
       "    </tr>\n",
       "  </tbody>\n",
       "</table>\n",
       "</div>"
      ]
     },
     "execution_count": 37,
     "metadata": {},
     "output_type": "execute_result"
    }
   ],
   "execution_count": 37
  },
  {
   "cell_type": "markdown",
   "metadata": {
    "collapsed": false,
    "id": "xIxKHLpr-Hpk"
   },
   "source": [
    "The syntax might look a little messy, especially if you're not used to programming languages with overloaded operators, but the result is that you're able to filter and reduce data frames relatively quickly."
   ]
  },
  {
   "cell_type": "markdown",
   "metadata": {
    "collapsed": false,
    "id": "tvtk0w4f-Hpk"
   },
   "source": [
    "## Chain Statements"
   ]
  },
  {
   "cell_type": "markdown",
   "metadata": {
    "collapsed": false,
    "id": "kTKiw7LB-Hpk"
   },
   "source": "One more thing to keep in mind if you're not used to Boolean or bit-masking for data reduction. The output of two Boolean masks being compared with logical operators is another Boolean mask. This means that you can chain together a bunch of and/or statements in order to create more complex queries, and the result is a single Boolean mask."
  },
  {
   "cell_type": "markdown",
   "metadata": {
    "collapsed": false,
    "id": "_siGGCnx-Hpk"
   },
   "source": "For instance, we could create a mask for all of those countries who have received a gold in the summer Olympics and logically order that with all of those countries who have received a gold in the winter Olympics. If we apply this to the `DataFrame` and use the length function to see how many rows there are, we see that there are 101 countries which have won a gold metal at some time."
  },
  {
   "cell_type": "code",
   "metadata": {
    "colab": {
     "base_uri": "https://localhost:8080/"
    },
    "id": "2NJ63Lkk-Hpl",
    "outputId": "ea2b2479-a6d9-4474-a51f-8cbc906badd4",
    "ExecuteTime": {
     "end_time": "2024-09-24T17:23:21.567295Z",
     "start_time": "2024-09-24T17:23:21.559042Z"
    }
   },
   "source": "len(df[(df['Gold'] > 0) | (df['Gold.1'] > 0)])",
   "outputs": [
    {
     "data": {
      "text/plain": [
       "101"
      ]
     },
     "execution_count": 38,
     "metadata": {},
     "output_type": "execute_result"
    }
   ],
   "execution_count": 38
  },
  {
   "cell_type": "markdown",
   "metadata": {
    "collapsed": false,
    "id": "awak4pIU-Hpl"
   },
   "source": [
    "Another example. Have there been any countries who have only won a gold in the winter Olympics and never in the summer Olympics?"
   ]
  },
  {
   "cell_type": "markdown",
   "metadata": {
    "collapsed": false,
    "id": "34b4hond-Hpl"
   },
   "source": [
    "Here's one way to answer that."
   ]
  },
  {
   "cell_type": "code",
   "metadata": {
    "colab": {
     "base_uri": "https://localhost:8080/",
     "height": 162
    },
    "id": "U6mlX4-m-Hpl",
    "outputId": "7ef11896-b210-4a41-ab34-30cf4e690061",
    "ExecuteTime": {
     "end_time": "2024-09-24T17:23:28.374461Z",
     "start_time": "2024-09-24T17:23:28.368164Z"
    }
   },
   "source": [
    "df[(df['Gold.1'] > 0) & (df['Gold'] == 0)]"
   ],
   "outputs": [
    {
     "data": {
      "text/plain": [
       "                     # Summer  Gold  Silver  Bronze  Total  # Winter  Gold.1  \\\n",
       "Liechtenstein (LIE)        16     0       0       0      0        18       2   \n",
       "\n",
       "                     Silver.1  Bronze.1  Total.1  # Games  Gold.2  Silver.2  \\\n",
       "Liechtenstein (LIE)         2         5        9       34       2         2   \n",
       "\n",
       "                     Bronze.2  Combined total  \n",
       "Liechtenstein (LIE)         5               9  "
      ],
      "text/html": [
       "<div>\n",
       "<style scoped>\n",
       "    .dataframe tbody tr th:only-of-type {\n",
       "        vertical-align: middle;\n",
       "    }\n",
       "\n",
       "    .dataframe tbody tr th {\n",
       "        vertical-align: top;\n",
       "    }\n",
       "\n",
       "    .dataframe thead th {\n",
       "        text-align: right;\n",
       "    }\n",
       "</style>\n",
       "<table border=\"1\" class=\"dataframe\">\n",
       "  <thead>\n",
       "    <tr style=\"text-align: right;\">\n",
       "      <th></th>\n",
       "      <th># Summer</th>\n",
       "      <th>Gold</th>\n",
       "      <th>Silver</th>\n",
       "      <th>Bronze</th>\n",
       "      <th>Total</th>\n",
       "      <th># Winter</th>\n",
       "      <th>Gold.1</th>\n",
       "      <th>Silver.1</th>\n",
       "      <th>Bronze.1</th>\n",
       "      <th>Total.1</th>\n",
       "      <th># Games</th>\n",
       "      <th>Gold.2</th>\n",
       "      <th>Silver.2</th>\n",
       "      <th>Bronze.2</th>\n",
       "      <th>Combined total</th>\n",
       "    </tr>\n",
       "  </thead>\n",
       "  <tbody>\n",
       "    <tr>\n",
       "      <th>Liechtenstein (LIE)</th>\n",
       "      <td>16</td>\n",
       "      <td>0</td>\n",
       "      <td>0</td>\n",
       "      <td>0</td>\n",
       "      <td>0</td>\n",
       "      <td>18</td>\n",
       "      <td>2</td>\n",
       "      <td>2</td>\n",
       "      <td>5</td>\n",
       "      <td>9</td>\n",
       "      <td>34</td>\n",
       "      <td>2</td>\n",
       "      <td>2</td>\n",
       "      <td>5</td>\n",
       "      <td>9</td>\n",
       "    </tr>\n",
       "  </tbody>\n",
       "</table>\n",
       "</div>"
      ]
     },
     "execution_count": 39,
     "metadata": {},
     "output_type": "execute_result"
    }
   ],
   "execution_count": 39
  },
  {
   "cell_type": "markdown",
   "metadata": {
    "collapsed": false,
    "id": "MlXbbjqA-Hpl"
   },
   "source": "Our neighbouring country Liechtenstein."
  },
  {
   "cell_type": "markdown",
   "metadata": {
    "collapsed": false,
    "id": "g0MVYGBd-Hpl"
   },
   "source": "Extremely important, and often an issue for new users, is to remember that each Boolean mask needs to be encased in parentheses because of the order of operations. This can cause no end of frustration if you're not used to it, so be careful.\n"
  },
  {
   "cell_type": "markdown",
   "metadata": {
    "collapsed": false,
    "id": "UF2DgUm3-Hpl"
   },
   "source": "# Indexing `DataFrame`s"
  },
  {
   "cell_type": "markdown",
   "metadata": {
    "collapsed": false,
    "id": "zI8YtPR8-Hpm"
   },
   "source": "As we have  seen, both `Series` and `DataFrame`s can have indices applied to them. The index is essentially a row level label, and we know that rows correspond to axis zero. In our Olympics data, we indexed the data frame by the name of the country. Indices can either be inferred, such as when we create a new `Series` without an index, in which case we get numeric values, or they can be set explicitly, like when we use the dictionary object to create the series, or when we loaded data from the CSV file and specified the header."
  },
  {
   "cell_type": "code",
   "metadata": {
    "colab": {
     "base_uri": "https://localhost:8080/",
     "height": 305
    },
    "id": "nx0726ZK-Hpm",
    "outputId": "fd2f4454-49fa-4830-96a2-57a7af984689",
    "ExecuteTime": {
     "end_time": "2024-09-24T17:24:12.069Z",
     "start_time": "2024-09-24T17:24:12.063700Z"
    }
   },
   "source": [
    "df.head()"
   ],
   "outputs": [
    {
     "data": {
      "text/plain": [
       "                         # Summer  Gold  Silver  Bronze  Total  # Winter  \\\n",
       "Afghanistan (AFG)              13     0       0       2      2         0   \n",
       "Algeria (ALG)                  12     5       2       8     15         3   \n",
       "Argentina (ARG)                23    18      24      28     70        18   \n",
       "Armenia (ARM)                   5     1       2       9     12         6   \n",
       "Australasia (ANZ) [ANZ]         2     3       4       5     12         0   \n",
       "\n",
       "                         Gold.1  Silver.1  Bronze.1  Total.1  # Games  Gold.2  \\\n",
       "Afghanistan (AFG)             0         0         0        0       13       0   \n",
       "Algeria (ALG)                 0         0         0        0       15       5   \n",
       "Argentina (ARG)               0         0         0        0       41      18   \n",
       "Armenia (ARM)                 0         0         0        0       11       1   \n",
       "Australasia (ANZ) [ANZ]       0         0         0        0        2       3   \n",
       "\n",
       "                         Silver.2  Bronze.2  Combined total  \n",
       "Afghanistan (AFG)               0         2               2  \n",
       "Algeria (ALG)                   2         8              15  \n",
       "Argentina (ARG)                24        28              70  \n",
       "Armenia (ARM)                   2         9              12  \n",
       "Australasia (ANZ) [ANZ]         4         5              12  "
      ],
      "text/html": [
       "<div>\n",
       "<style scoped>\n",
       "    .dataframe tbody tr th:only-of-type {\n",
       "        vertical-align: middle;\n",
       "    }\n",
       "\n",
       "    .dataframe tbody tr th {\n",
       "        vertical-align: top;\n",
       "    }\n",
       "\n",
       "    .dataframe thead th {\n",
       "        text-align: right;\n",
       "    }\n",
       "</style>\n",
       "<table border=\"1\" class=\"dataframe\">\n",
       "  <thead>\n",
       "    <tr style=\"text-align: right;\">\n",
       "      <th></th>\n",
       "      <th># Summer</th>\n",
       "      <th>Gold</th>\n",
       "      <th>Silver</th>\n",
       "      <th>Bronze</th>\n",
       "      <th>Total</th>\n",
       "      <th># Winter</th>\n",
       "      <th>Gold.1</th>\n",
       "      <th>Silver.1</th>\n",
       "      <th>Bronze.1</th>\n",
       "      <th>Total.1</th>\n",
       "      <th># Games</th>\n",
       "      <th>Gold.2</th>\n",
       "      <th>Silver.2</th>\n",
       "      <th>Bronze.2</th>\n",
       "      <th>Combined total</th>\n",
       "    </tr>\n",
       "  </thead>\n",
       "  <tbody>\n",
       "    <tr>\n",
       "      <th>Afghanistan (AFG)</th>\n",
       "      <td>13</td>\n",
       "      <td>0</td>\n",
       "      <td>0</td>\n",
       "      <td>2</td>\n",
       "      <td>2</td>\n",
       "      <td>0</td>\n",
       "      <td>0</td>\n",
       "      <td>0</td>\n",
       "      <td>0</td>\n",
       "      <td>0</td>\n",
       "      <td>13</td>\n",
       "      <td>0</td>\n",
       "      <td>0</td>\n",
       "      <td>2</td>\n",
       "      <td>2</td>\n",
       "    </tr>\n",
       "    <tr>\n",
       "      <th>Algeria (ALG)</th>\n",
       "      <td>12</td>\n",
       "      <td>5</td>\n",
       "      <td>2</td>\n",
       "      <td>8</td>\n",
       "      <td>15</td>\n",
       "      <td>3</td>\n",
       "      <td>0</td>\n",
       "      <td>0</td>\n",
       "      <td>0</td>\n",
       "      <td>0</td>\n",
       "      <td>15</td>\n",
       "      <td>5</td>\n",
       "      <td>2</td>\n",
       "      <td>8</td>\n",
       "      <td>15</td>\n",
       "    </tr>\n",
       "    <tr>\n",
       "      <th>Argentina (ARG)</th>\n",
       "      <td>23</td>\n",
       "      <td>18</td>\n",
       "      <td>24</td>\n",
       "      <td>28</td>\n",
       "      <td>70</td>\n",
       "      <td>18</td>\n",
       "      <td>0</td>\n",
       "      <td>0</td>\n",
       "      <td>0</td>\n",
       "      <td>0</td>\n",
       "      <td>41</td>\n",
       "      <td>18</td>\n",
       "      <td>24</td>\n",
       "      <td>28</td>\n",
       "      <td>70</td>\n",
       "    </tr>\n",
       "    <tr>\n",
       "      <th>Armenia (ARM)</th>\n",
       "      <td>5</td>\n",
       "      <td>1</td>\n",
       "      <td>2</td>\n",
       "      <td>9</td>\n",
       "      <td>12</td>\n",
       "      <td>6</td>\n",
       "      <td>0</td>\n",
       "      <td>0</td>\n",
       "      <td>0</td>\n",
       "      <td>0</td>\n",
       "      <td>11</td>\n",
       "      <td>1</td>\n",
       "      <td>2</td>\n",
       "      <td>9</td>\n",
       "      <td>12</td>\n",
       "    </tr>\n",
       "    <tr>\n",
       "      <th>Australasia (ANZ) [ANZ]</th>\n",
       "      <td>2</td>\n",
       "      <td>3</td>\n",
       "      <td>4</td>\n",
       "      <td>5</td>\n",
       "      <td>12</td>\n",
       "      <td>0</td>\n",
       "      <td>0</td>\n",
       "      <td>0</td>\n",
       "      <td>0</td>\n",
       "      <td>0</td>\n",
       "      <td>2</td>\n",
       "      <td>3</td>\n",
       "      <td>4</td>\n",
       "      <td>5</td>\n",
       "      <td>12</td>\n",
       "    </tr>\n",
       "  </tbody>\n",
       "</table>\n",
       "</div>"
      ]
     },
     "execution_count": 40,
     "metadata": {},
     "output_type": "execute_result"
    }
   ],
   "execution_count": 40
  },
  {
   "cell_type": "markdown",
   "metadata": {
    "collapsed": false,
    "id": "j6_i32Sy-Hpm"
   },
   "source": [
    "## Set an Index"
   ]
  },
  {
   "cell_type": "markdown",
   "metadata": {
    "collapsed": false,
    "id": "AZ3V8jAw-Hpm"
   },
   "source": "Another option for setting an index is to use the `set_index()` function. This function takes a list of columns and promotes those columns to an index. `set_index()` is a **destructive process**, it doesn't keep the current index. If you want to keep the current index, you need to manually create a new column and copy into it values from the `index` attribute."
  },
  {
   "cell_type": "markdown",
   "metadata": {
    "collapsed": false,
    "id": "szGDZFHI-Hpm"
   },
   "source": "Let's go back to our Olympics `DataFrame`. Let's say that we don't want to index the `DataFrame` by countries, but instead want to index by the number of gold medals that were won at summer games. First we need to preserve the country information into a new column. We can do this using the indexing operator or the string that has the column label. Then we can use  `set_index()` to set the index of the column to summer gold medal wins."
  },
  {
   "cell_type": "code",
   "metadata": {
    "colab": {
     "base_uri": "https://localhost:8080/",
     "height": 336
    },
    "id": "UgytJxkd-Hpm",
    "outputId": "0475742d-eb97-4d53-dd34-34288670d203",
    "ExecuteTime": {
     "end_time": "2024-09-24T17:25:48.709207Z",
     "start_time": "2024-09-24T17:25:48.702667Z"
    }
   },
   "source": [
    "df['country'] = df.index\n",
    "df = df.set_index('Gold')\n",
    "df.head()"
   ],
   "outputs": [
    {
     "data": {
      "text/plain": [
       "      # Summer  Silver  Bronze  Total  # Winter  Gold.1  Silver.1  Bronze.1  \\\n",
       "Gold                                                                          \n",
       "0           13       0       2      2         0       0         0         0   \n",
       "5           12       2       8     15         3       0         0         0   \n",
       "18          23      24      28     70        18       0         0         0   \n",
       "1            5       2       9     12         6       0         0         0   \n",
       "3            2       4       5     12         0       0         0         0   \n",
       "\n",
       "      Total.1  # Games  Gold.2  Silver.2  Bronze.2  Combined total  \\\n",
       "Gold                                                                 \n",
       "0           0       13       0         0         2               2   \n",
       "5           0       15       5         2         8              15   \n",
       "18          0       41      18        24        28              70   \n",
       "1           0       11       1         2         9              12   \n",
       "3           0        2       3         4         5              12   \n",
       "\n",
       "                      country  \n",
       "Gold                           \n",
       "0           Afghanistan (AFG)  \n",
       "5               Algeria (ALG)  \n",
       "18            Argentina (ARG)  \n",
       "1               Armenia (ARM)  \n",
       "3     Australasia (ANZ) [ANZ]  "
      ],
      "text/html": [
       "<div>\n",
       "<style scoped>\n",
       "    .dataframe tbody tr th:only-of-type {\n",
       "        vertical-align: middle;\n",
       "    }\n",
       "\n",
       "    .dataframe tbody tr th {\n",
       "        vertical-align: top;\n",
       "    }\n",
       "\n",
       "    .dataframe thead th {\n",
       "        text-align: right;\n",
       "    }\n",
       "</style>\n",
       "<table border=\"1\" class=\"dataframe\">\n",
       "  <thead>\n",
       "    <tr style=\"text-align: right;\">\n",
       "      <th></th>\n",
       "      <th># Summer</th>\n",
       "      <th>Silver</th>\n",
       "      <th>Bronze</th>\n",
       "      <th>Total</th>\n",
       "      <th># Winter</th>\n",
       "      <th>Gold.1</th>\n",
       "      <th>Silver.1</th>\n",
       "      <th>Bronze.1</th>\n",
       "      <th>Total.1</th>\n",
       "      <th># Games</th>\n",
       "      <th>Gold.2</th>\n",
       "      <th>Silver.2</th>\n",
       "      <th>Bronze.2</th>\n",
       "      <th>Combined total</th>\n",
       "      <th>country</th>\n",
       "    </tr>\n",
       "    <tr>\n",
       "      <th>Gold</th>\n",
       "      <th></th>\n",
       "      <th></th>\n",
       "      <th></th>\n",
       "      <th></th>\n",
       "      <th></th>\n",
       "      <th></th>\n",
       "      <th></th>\n",
       "      <th></th>\n",
       "      <th></th>\n",
       "      <th></th>\n",
       "      <th></th>\n",
       "      <th></th>\n",
       "      <th></th>\n",
       "      <th></th>\n",
       "      <th></th>\n",
       "    </tr>\n",
       "  </thead>\n",
       "  <tbody>\n",
       "    <tr>\n",
       "      <th>0</th>\n",
       "      <td>13</td>\n",
       "      <td>0</td>\n",
       "      <td>2</td>\n",
       "      <td>2</td>\n",
       "      <td>0</td>\n",
       "      <td>0</td>\n",
       "      <td>0</td>\n",
       "      <td>0</td>\n",
       "      <td>0</td>\n",
       "      <td>13</td>\n",
       "      <td>0</td>\n",
       "      <td>0</td>\n",
       "      <td>2</td>\n",
       "      <td>2</td>\n",
       "      <td>Afghanistan (AFG)</td>\n",
       "    </tr>\n",
       "    <tr>\n",
       "      <th>5</th>\n",
       "      <td>12</td>\n",
       "      <td>2</td>\n",
       "      <td>8</td>\n",
       "      <td>15</td>\n",
       "      <td>3</td>\n",
       "      <td>0</td>\n",
       "      <td>0</td>\n",
       "      <td>0</td>\n",
       "      <td>0</td>\n",
       "      <td>15</td>\n",
       "      <td>5</td>\n",
       "      <td>2</td>\n",
       "      <td>8</td>\n",
       "      <td>15</td>\n",
       "      <td>Algeria (ALG)</td>\n",
       "    </tr>\n",
       "    <tr>\n",
       "      <th>18</th>\n",
       "      <td>23</td>\n",
       "      <td>24</td>\n",
       "      <td>28</td>\n",
       "      <td>70</td>\n",
       "      <td>18</td>\n",
       "      <td>0</td>\n",
       "      <td>0</td>\n",
       "      <td>0</td>\n",
       "      <td>0</td>\n",
       "      <td>41</td>\n",
       "      <td>18</td>\n",
       "      <td>24</td>\n",
       "      <td>28</td>\n",
       "      <td>70</td>\n",
       "      <td>Argentina (ARG)</td>\n",
       "    </tr>\n",
       "    <tr>\n",
       "      <th>1</th>\n",
       "      <td>5</td>\n",
       "      <td>2</td>\n",
       "      <td>9</td>\n",
       "      <td>12</td>\n",
       "      <td>6</td>\n",
       "      <td>0</td>\n",
       "      <td>0</td>\n",
       "      <td>0</td>\n",
       "      <td>0</td>\n",
       "      <td>11</td>\n",
       "      <td>1</td>\n",
       "      <td>2</td>\n",
       "      <td>9</td>\n",
       "      <td>12</td>\n",
       "      <td>Armenia (ARM)</td>\n",
       "    </tr>\n",
       "    <tr>\n",
       "      <th>3</th>\n",
       "      <td>2</td>\n",
       "      <td>4</td>\n",
       "      <td>5</td>\n",
       "      <td>12</td>\n",
       "      <td>0</td>\n",
       "      <td>0</td>\n",
       "      <td>0</td>\n",
       "      <td>0</td>\n",
       "      <td>0</td>\n",
       "      <td>2</td>\n",
       "      <td>3</td>\n",
       "      <td>4</td>\n",
       "      <td>5</td>\n",
       "      <td>12</td>\n",
       "      <td>Australasia (ANZ) [ANZ]</td>\n",
       "    </tr>\n",
       "  </tbody>\n",
       "</table>\n",
       "</div>"
      ]
     },
     "execution_count": 41,
     "metadata": {},
     "output_type": "execute_result"
    }
   ],
   "execution_count": 41
  },
  {
   "cell_type": "markdown",
   "metadata": {
    "collapsed": false,
    "id": "7I-q68PV-Hpm"
   },
   "source": "You'll see that when we create a new index from an existing column it appears that a new first row has been added with empty values. This isn't quite what's happening. And we know this in part because an empty value is actually rendered either as a none or an `NaN` if the data type of the column is numeric. What's actually happened is that the index has a name. Whatever the column name was in the Jupyter notebook has just provided this in the output."
  },
  {
   "cell_type": "markdown",
   "metadata": {
    "collapsed": false,
    "id": "pzOIfMET-Hpn"
   },
   "source": [
    "## Reset Index"
   ]
  },
  {
   "cell_type": "markdown",
   "metadata": {
    "collapsed": false,
    "id": "RHm8wKXy-Hpn"
   },
   "source": [
    "We can get rid of the index completely by calling the function `reset_index()`. This promotes the index into a column and creates a default numbered index."
   ]
  },
  {
   "cell_type": "code",
   "metadata": {
    "colab": {
     "base_uri": "https://localhost:8080/",
     "height": 305
    },
    "id": "khHYOZgn-Hpn",
    "outputId": "7c2de2f0-babd-4bb7-9a50-ae5e9673a2fb",
    "ExecuteTime": {
     "end_time": "2024-09-24T17:26:35.184988Z",
     "start_time": "2024-09-24T17:26:35.178720Z"
    }
   },
   "source": [
    "df = df.reset_index()\n",
    "df.head()"
   ],
   "outputs": [
    {
     "data": {
      "text/plain": [
       "   Gold  # Summer  Silver  Bronze  Total  # Winter  Gold.1  Silver.1  \\\n",
       "0     0        13       0       2      2         0       0         0   \n",
       "1     5        12       2       8     15         3       0         0   \n",
       "2    18        23      24      28     70        18       0         0   \n",
       "3     1         5       2       9     12         6       0         0   \n",
       "4     3         2       4       5     12         0       0         0   \n",
       "\n",
       "   Bronze.1  Total.1  # Games  Gold.2  Silver.2  Bronze.2  Combined total  \\\n",
       "0         0        0       13       0         0         2               2   \n",
       "1         0        0       15       5         2         8              15   \n",
       "2         0        0       41      18        24        28              70   \n",
       "3         0        0       11       1         2         9              12   \n",
       "4         0        0        2       3         4         5              12   \n",
       "\n",
       "                   country  \n",
       "0        Afghanistan (AFG)  \n",
       "1            Algeria (ALG)  \n",
       "2          Argentina (ARG)  \n",
       "3            Armenia (ARM)  \n",
       "4  Australasia (ANZ) [ANZ]  "
      ],
      "text/html": [
       "<div>\n",
       "<style scoped>\n",
       "    .dataframe tbody tr th:only-of-type {\n",
       "        vertical-align: middle;\n",
       "    }\n",
       "\n",
       "    .dataframe tbody tr th {\n",
       "        vertical-align: top;\n",
       "    }\n",
       "\n",
       "    .dataframe thead th {\n",
       "        text-align: right;\n",
       "    }\n",
       "</style>\n",
       "<table border=\"1\" class=\"dataframe\">\n",
       "  <thead>\n",
       "    <tr style=\"text-align: right;\">\n",
       "      <th></th>\n",
       "      <th>Gold</th>\n",
       "      <th># Summer</th>\n",
       "      <th>Silver</th>\n",
       "      <th>Bronze</th>\n",
       "      <th>Total</th>\n",
       "      <th># Winter</th>\n",
       "      <th>Gold.1</th>\n",
       "      <th>Silver.1</th>\n",
       "      <th>Bronze.1</th>\n",
       "      <th>Total.1</th>\n",
       "      <th># Games</th>\n",
       "      <th>Gold.2</th>\n",
       "      <th>Silver.2</th>\n",
       "      <th>Bronze.2</th>\n",
       "      <th>Combined total</th>\n",
       "      <th>country</th>\n",
       "    </tr>\n",
       "  </thead>\n",
       "  <tbody>\n",
       "    <tr>\n",
       "      <th>0</th>\n",
       "      <td>0</td>\n",
       "      <td>13</td>\n",
       "      <td>0</td>\n",
       "      <td>2</td>\n",
       "      <td>2</td>\n",
       "      <td>0</td>\n",
       "      <td>0</td>\n",
       "      <td>0</td>\n",
       "      <td>0</td>\n",
       "      <td>0</td>\n",
       "      <td>13</td>\n",
       "      <td>0</td>\n",
       "      <td>0</td>\n",
       "      <td>2</td>\n",
       "      <td>2</td>\n",
       "      <td>Afghanistan (AFG)</td>\n",
       "    </tr>\n",
       "    <tr>\n",
       "      <th>1</th>\n",
       "      <td>5</td>\n",
       "      <td>12</td>\n",
       "      <td>2</td>\n",
       "      <td>8</td>\n",
       "      <td>15</td>\n",
       "      <td>3</td>\n",
       "      <td>0</td>\n",
       "      <td>0</td>\n",
       "      <td>0</td>\n",
       "      <td>0</td>\n",
       "      <td>15</td>\n",
       "      <td>5</td>\n",
       "      <td>2</td>\n",
       "      <td>8</td>\n",
       "      <td>15</td>\n",
       "      <td>Algeria (ALG)</td>\n",
       "    </tr>\n",
       "    <tr>\n",
       "      <th>2</th>\n",
       "      <td>18</td>\n",
       "      <td>23</td>\n",
       "      <td>24</td>\n",
       "      <td>28</td>\n",
       "      <td>70</td>\n",
       "      <td>18</td>\n",
       "      <td>0</td>\n",
       "      <td>0</td>\n",
       "      <td>0</td>\n",
       "      <td>0</td>\n",
       "      <td>41</td>\n",
       "      <td>18</td>\n",
       "      <td>24</td>\n",
       "      <td>28</td>\n",
       "      <td>70</td>\n",
       "      <td>Argentina (ARG)</td>\n",
       "    </tr>\n",
       "    <tr>\n",
       "      <th>3</th>\n",
       "      <td>1</td>\n",
       "      <td>5</td>\n",
       "      <td>2</td>\n",
       "      <td>9</td>\n",
       "      <td>12</td>\n",
       "      <td>6</td>\n",
       "      <td>0</td>\n",
       "      <td>0</td>\n",
       "      <td>0</td>\n",
       "      <td>0</td>\n",
       "      <td>11</td>\n",
       "      <td>1</td>\n",
       "      <td>2</td>\n",
       "      <td>9</td>\n",
       "      <td>12</td>\n",
       "      <td>Armenia (ARM)</td>\n",
       "    </tr>\n",
       "    <tr>\n",
       "      <th>4</th>\n",
       "      <td>3</td>\n",
       "      <td>2</td>\n",
       "      <td>4</td>\n",
       "      <td>5</td>\n",
       "      <td>12</td>\n",
       "      <td>0</td>\n",
       "      <td>0</td>\n",
       "      <td>0</td>\n",
       "      <td>0</td>\n",
       "      <td>0</td>\n",
       "      <td>2</td>\n",
       "      <td>3</td>\n",
       "      <td>4</td>\n",
       "      <td>5</td>\n",
       "      <td>12</td>\n",
       "      <td>Australasia (ANZ) [ANZ]</td>\n",
       "    </tr>\n",
       "  </tbody>\n",
       "</table>\n",
       "</div>"
      ]
     },
     "execution_count": 42,
     "metadata": {},
     "output_type": "execute_result"
    }
   ],
   "execution_count": 42
  },
  {
   "cell_type": "markdown",
   "metadata": {
    "collapsed": false,
    "id": "GFZ3XO70-Hpn"
   },
   "source": [
    "##  United States Census Data"
   ]
  },
  {
   "cell_type": "markdown",
   "metadata": {
    "collapsed": false,
    "id": "944Ghxmk-Hpn"
   },
   "source": [
    "Let's change data sets and look at some census data for a better example. This data is stored in the file `census.csv` and comes from the *United States Census Bureau*. In particular, this is a breakdown of the population level data at the US county level. It's a great example of how different kinds of data sets might be formatted when you're trying to clean them. For instance, in this data set there are two summarized levels, one that contains summary data for the whole **country**. And one that contains summary data for each **state**, and one that contains summary data for each **county**."
   ]
  },
  {
   "cell_type": "code",
   "metadata": {
    "colab": {
     "base_uri": "https://localhost:8080/",
     "height": 369
    },
    "id": "B8LpaAPi-Hpn",
    "outputId": "794a9309-5534-4de9-e9fc-82cace1b755b",
    "ExecuteTime": {
     "end_time": "2024-09-24T17:27:31.331129Z",
     "start_time": "2024-09-24T17:27:31.297695Z"
    }
   },
   "source": [
    "df = pd.read_csv('census.csv')\n",
    "df.head()"
   ],
   "outputs": [
    {
     "data": {
      "text/plain": [
       "   SUMLEV  REGION  DIVISION  STATE  COUNTY   STNAME         CTYNAME  \\\n",
       "0      40       3         6      1       0  Alabama         Alabama   \n",
       "1      50       3         6      1       1  Alabama  Autauga County   \n",
       "2      50       3         6      1       3  Alabama  Baldwin County   \n",
       "3      50       3         6      1       5  Alabama  Barbour County   \n",
       "4      50       3         6      1       7  Alabama     Bibb County   \n",
       "\n",
       "   CENSUS2010POP  ESTIMATESBASE2010  POPESTIMATE2010  ...  RDOMESTICMIG2011  \\\n",
       "0        4779736            4780127          4785161  ...          0.002295   \n",
       "1          54571              54571            54660  ...          7.242091   \n",
       "2         182265             182265           183193  ...         14.832960   \n",
       "3          27457              27457            27341  ...         -4.728132   \n",
       "4          22915              22919            22861  ...         -5.527043   \n",
       "\n",
       "   RDOMESTICMIG2012  RDOMESTICMIG2013  RDOMESTICMIG2014  RDOMESTICMIG2015  \\\n",
       "0         -0.193196          0.381066          0.582002         -0.467369   \n",
       "1         -2.915927         -3.012349          2.265971         -2.530799   \n",
       "2         17.647293         21.845705         19.243287         17.197872   \n",
       "3         -2.500690         -7.056824         -3.904217        -10.543299   \n",
       "4         -5.068871         -6.201001         -0.177537          0.177258   \n",
       "\n",
       "   RNETMIG2011  RNETMIG2012  RNETMIG2013  RNETMIG2014  RNETMIG2015  \n",
       "0     1.030015     0.826644     1.383282     1.724718     0.712594  \n",
       "1     7.606016    -2.626146    -2.722002     2.592270    -2.187333  \n",
       "2    15.844176    18.559627    22.727626    20.317142    18.293499  \n",
       "3    -4.874741    -2.758113    -7.167664    -3.978583   -10.543299  \n",
       "4    -5.088389    -4.363636    -5.403729     0.754533     1.107861  \n",
       "\n",
       "[5 rows x 100 columns]"
      ],
      "text/html": [
       "<div>\n",
       "<style scoped>\n",
       "    .dataframe tbody tr th:only-of-type {\n",
       "        vertical-align: middle;\n",
       "    }\n",
       "\n",
       "    .dataframe tbody tr th {\n",
       "        vertical-align: top;\n",
       "    }\n",
       "\n",
       "    .dataframe thead th {\n",
       "        text-align: right;\n",
       "    }\n",
       "</style>\n",
       "<table border=\"1\" class=\"dataframe\">\n",
       "  <thead>\n",
       "    <tr style=\"text-align: right;\">\n",
       "      <th></th>\n",
       "      <th>SUMLEV</th>\n",
       "      <th>REGION</th>\n",
       "      <th>DIVISION</th>\n",
       "      <th>STATE</th>\n",
       "      <th>COUNTY</th>\n",
       "      <th>STNAME</th>\n",
       "      <th>CTYNAME</th>\n",
       "      <th>CENSUS2010POP</th>\n",
       "      <th>ESTIMATESBASE2010</th>\n",
       "      <th>POPESTIMATE2010</th>\n",
       "      <th>...</th>\n",
       "      <th>RDOMESTICMIG2011</th>\n",
       "      <th>RDOMESTICMIG2012</th>\n",
       "      <th>RDOMESTICMIG2013</th>\n",
       "      <th>RDOMESTICMIG2014</th>\n",
       "      <th>RDOMESTICMIG2015</th>\n",
       "      <th>RNETMIG2011</th>\n",
       "      <th>RNETMIG2012</th>\n",
       "      <th>RNETMIG2013</th>\n",
       "      <th>RNETMIG2014</th>\n",
       "      <th>RNETMIG2015</th>\n",
       "    </tr>\n",
       "  </thead>\n",
       "  <tbody>\n",
       "    <tr>\n",
       "      <th>0</th>\n",
       "      <td>40</td>\n",
       "      <td>3</td>\n",
       "      <td>6</td>\n",
       "      <td>1</td>\n",
       "      <td>0</td>\n",
       "      <td>Alabama</td>\n",
       "      <td>Alabama</td>\n",
       "      <td>4779736</td>\n",
       "      <td>4780127</td>\n",
       "      <td>4785161</td>\n",
       "      <td>...</td>\n",
       "      <td>0.002295</td>\n",
       "      <td>-0.193196</td>\n",
       "      <td>0.381066</td>\n",
       "      <td>0.582002</td>\n",
       "      <td>-0.467369</td>\n",
       "      <td>1.030015</td>\n",
       "      <td>0.826644</td>\n",
       "      <td>1.383282</td>\n",
       "      <td>1.724718</td>\n",
       "      <td>0.712594</td>\n",
       "    </tr>\n",
       "    <tr>\n",
       "      <th>1</th>\n",
       "      <td>50</td>\n",
       "      <td>3</td>\n",
       "      <td>6</td>\n",
       "      <td>1</td>\n",
       "      <td>1</td>\n",
       "      <td>Alabama</td>\n",
       "      <td>Autauga County</td>\n",
       "      <td>54571</td>\n",
       "      <td>54571</td>\n",
       "      <td>54660</td>\n",
       "      <td>...</td>\n",
       "      <td>7.242091</td>\n",
       "      <td>-2.915927</td>\n",
       "      <td>-3.012349</td>\n",
       "      <td>2.265971</td>\n",
       "      <td>-2.530799</td>\n",
       "      <td>7.606016</td>\n",
       "      <td>-2.626146</td>\n",
       "      <td>-2.722002</td>\n",
       "      <td>2.592270</td>\n",
       "      <td>-2.187333</td>\n",
       "    </tr>\n",
       "    <tr>\n",
       "      <th>2</th>\n",
       "      <td>50</td>\n",
       "      <td>3</td>\n",
       "      <td>6</td>\n",
       "      <td>1</td>\n",
       "      <td>3</td>\n",
       "      <td>Alabama</td>\n",
       "      <td>Baldwin County</td>\n",
       "      <td>182265</td>\n",
       "      <td>182265</td>\n",
       "      <td>183193</td>\n",
       "      <td>...</td>\n",
       "      <td>14.832960</td>\n",
       "      <td>17.647293</td>\n",
       "      <td>21.845705</td>\n",
       "      <td>19.243287</td>\n",
       "      <td>17.197872</td>\n",
       "      <td>15.844176</td>\n",
       "      <td>18.559627</td>\n",
       "      <td>22.727626</td>\n",
       "      <td>20.317142</td>\n",
       "      <td>18.293499</td>\n",
       "    </tr>\n",
       "    <tr>\n",
       "      <th>3</th>\n",
       "      <td>50</td>\n",
       "      <td>3</td>\n",
       "      <td>6</td>\n",
       "      <td>1</td>\n",
       "      <td>5</td>\n",
       "      <td>Alabama</td>\n",
       "      <td>Barbour County</td>\n",
       "      <td>27457</td>\n",
       "      <td>27457</td>\n",
       "      <td>27341</td>\n",
       "      <td>...</td>\n",
       "      <td>-4.728132</td>\n",
       "      <td>-2.500690</td>\n",
       "      <td>-7.056824</td>\n",
       "      <td>-3.904217</td>\n",
       "      <td>-10.543299</td>\n",
       "      <td>-4.874741</td>\n",
       "      <td>-2.758113</td>\n",
       "      <td>-7.167664</td>\n",
       "      <td>-3.978583</td>\n",
       "      <td>-10.543299</td>\n",
       "    </tr>\n",
       "    <tr>\n",
       "      <th>4</th>\n",
       "      <td>50</td>\n",
       "      <td>3</td>\n",
       "      <td>6</td>\n",
       "      <td>1</td>\n",
       "      <td>7</td>\n",
       "      <td>Alabama</td>\n",
       "      <td>Bibb County</td>\n",
       "      <td>22915</td>\n",
       "      <td>22919</td>\n",
       "      <td>22861</td>\n",
       "      <td>...</td>\n",
       "      <td>-5.527043</td>\n",
       "      <td>-5.068871</td>\n",
       "      <td>-6.201001</td>\n",
       "      <td>-0.177537</td>\n",
       "      <td>0.177258</td>\n",
       "      <td>-5.088389</td>\n",
       "      <td>-4.363636</td>\n",
       "      <td>-5.403729</td>\n",
       "      <td>0.754533</td>\n",
       "      <td>1.107861</td>\n",
       "    </tr>\n",
       "  </tbody>\n",
       "</table>\n",
       "<p>5 rows × 100 columns</p>\n",
       "</div>"
      ]
     },
     "execution_count": 43,
     "metadata": {},
     "output_type": "execute_result"
    }
   ],
   "execution_count": 43
  },
  {
   "cell_type": "markdown",
   "metadata": {
    "collapsed": false,
    "id": "X-WRm9hX-Hpn"
   },
   "source": [
    "### Get Unique Values from a Column"
   ]
  },
  {
   "cell_type": "markdown",
   "metadata": {
    "collapsed": false,
    "id": "lLyf8dso-Hpn"
   },
   "source": "We often want to see a list of all the unique values in a given column. In this `DataFrame`, we see that the possible values for the sum level are using the unique function on the `DataFrame`."
  },
  {
   "cell_type": "markdown",
   "metadata": {
    "collapsed": false,
    "id": "pIESVW-6-Hpn"
   },
   "source": "Here we can run unique on the `SUMLEV` of our current `DataFrame` and see that there are only two different values, 40 and 50."
  },
  {
   "cell_type": "code",
   "metadata": {
    "colab": {
     "base_uri": "https://localhost:8080/"
    },
    "id": "d2IUZvdb-Hpn",
    "outputId": "1b43697b-7d96-45ba-9b0b-61a030f70172",
    "ExecuteTime": {
     "end_time": "2024-09-24T17:31:17.710681Z",
     "start_time": "2024-09-24T17:31:17.707323Z"
    }
   },
   "source": [
    "df['SUMLEV'].unique()"
   ],
   "outputs": [
    {
     "data": {
      "text/plain": [
       "array([40, 50])"
      ]
     },
     "execution_count": 44,
     "metadata": {},
     "output_type": "execute_result"
    }
   ],
   "execution_count": 44
  },
  {
   "cell_type": "markdown",
   "metadata": {
    "collapsed": false,
    "id": "UitgbsTN-Hpo"
   },
   "source": [
    "### Boolean Mask on Value"
   ]
  },
  {
   "cell_type": "markdown",
   "metadata": {
    "collapsed": false,
    "id": "njJq3s-y-Hpo"
   },
   "source": "Let's get rid of all the rows that are summaries at the state level and just keep the county data (i.e. level 50).\n"
  },
  {
   "cell_type": "code",
   "metadata": {
    "colab": {
     "base_uri": "https://localhost:8080/",
     "height": 386
    },
    "id": "f4dopBWr-Hpo",
    "outputId": "6ee060f9-e59e-403e-9b9a-91b387fed561",
    "ExecuteTime": {
     "end_time": "2024-09-24T17:31:23.755445Z",
     "start_time": "2024-09-24T17:31:23.746216Z"
    }
   },
   "source": [
    "df = df[df['SUMLEV'] == 50]  # 50 is the level for the county data\n",
    "df.head()"
   ],
   "outputs": [
    {
     "data": {
      "text/plain": [
       "   SUMLEV  REGION  DIVISION  STATE  COUNTY   STNAME         CTYNAME  \\\n",
       "1      50       3         6      1       1  Alabama  Autauga County   \n",
       "2      50       3         6      1       3  Alabama  Baldwin County   \n",
       "3      50       3         6      1       5  Alabama  Barbour County   \n",
       "4      50       3         6      1       7  Alabama     Bibb County   \n",
       "5      50       3         6      1       9  Alabama   Blount County   \n",
       "\n",
       "   CENSUS2010POP  ESTIMATESBASE2010  POPESTIMATE2010  ...  RDOMESTICMIG2011  \\\n",
       "1          54571              54571            54660  ...          7.242091   \n",
       "2         182265             182265           183193  ...         14.832960   \n",
       "3          27457              27457            27341  ...         -4.728132   \n",
       "4          22915              22919            22861  ...         -5.527043   \n",
       "5          57322              57322            57373  ...          1.807375   \n",
       "\n",
       "   RDOMESTICMIG2012  RDOMESTICMIG2013  RDOMESTICMIG2014  RDOMESTICMIG2015  \\\n",
       "1         -2.915927         -3.012349          2.265971         -2.530799   \n",
       "2         17.647293         21.845705         19.243287         17.197872   \n",
       "3         -2.500690         -7.056824         -3.904217        -10.543299   \n",
       "4         -5.068871         -6.201001         -0.177537          0.177258   \n",
       "5         -1.177622         -1.748766         -2.062535         -1.369970   \n",
       "\n",
       "   RNETMIG2011  RNETMIG2012  RNETMIG2013  RNETMIG2014  RNETMIG2015  \n",
       "1     7.606016    -2.626146    -2.722002     2.592270    -2.187333  \n",
       "2    15.844176    18.559627    22.727626    20.317142    18.293499  \n",
       "3    -4.874741    -2.758113    -7.167664    -3.978583   -10.543299  \n",
       "4    -5.088389    -4.363636    -5.403729     0.754533     1.107861  \n",
       "5     1.859511    -0.848580    -1.402476    -1.577232    -0.884411  \n",
       "\n",
       "[5 rows x 100 columns]"
      ],
      "text/html": [
       "<div>\n",
       "<style scoped>\n",
       "    .dataframe tbody tr th:only-of-type {\n",
       "        vertical-align: middle;\n",
       "    }\n",
       "\n",
       "    .dataframe tbody tr th {\n",
       "        vertical-align: top;\n",
       "    }\n",
       "\n",
       "    .dataframe thead th {\n",
       "        text-align: right;\n",
       "    }\n",
       "</style>\n",
       "<table border=\"1\" class=\"dataframe\">\n",
       "  <thead>\n",
       "    <tr style=\"text-align: right;\">\n",
       "      <th></th>\n",
       "      <th>SUMLEV</th>\n",
       "      <th>REGION</th>\n",
       "      <th>DIVISION</th>\n",
       "      <th>STATE</th>\n",
       "      <th>COUNTY</th>\n",
       "      <th>STNAME</th>\n",
       "      <th>CTYNAME</th>\n",
       "      <th>CENSUS2010POP</th>\n",
       "      <th>ESTIMATESBASE2010</th>\n",
       "      <th>POPESTIMATE2010</th>\n",
       "      <th>...</th>\n",
       "      <th>RDOMESTICMIG2011</th>\n",
       "      <th>RDOMESTICMIG2012</th>\n",
       "      <th>RDOMESTICMIG2013</th>\n",
       "      <th>RDOMESTICMIG2014</th>\n",
       "      <th>RDOMESTICMIG2015</th>\n",
       "      <th>RNETMIG2011</th>\n",
       "      <th>RNETMIG2012</th>\n",
       "      <th>RNETMIG2013</th>\n",
       "      <th>RNETMIG2014</th>\n",
       "      <th>RNETMIG2015</th>\n",
       "    </tr>\n",
       "  </thead>\n",
       "  <tbody>\n",
       "    <tr>\n",
       "      <th>1</th>\n",
       "      <td>50</td>\n",
       "      <td>3</td>\n",
       "      <td>6</td>\n",
       "      <td>1</td>\n",
       "      <td>1</td>\n",
       "      <td>Alabama</td>\n",
       "      <td>Autauga County</td>\n",
       "      <td>54571</td>\n",
       "      <td>54571</td>\n",
       "      <td>54660</td>\n",
       "      <td>...</td>\n",
       "      <td>7.242091</td>\n",
       "      <td>-2.915927</td>\n",
       "      <td>-3.012349</td>\n",
       "      <td>2.265971</td>\n",
       "      <td>-2.530799</td>\n",
       "      <td>7.606016</td>\n",
       "      <td>-2.626146</td>\n",
       "      <td>-2.722002</td>\n",
       "      <td>2.592270</td>\n",
       "      <td>-2.187333</td>\n",
       "    </tr>\n",
       "    <tr>\n",
       "      <th>2</th>\n",
       "      <td>50</td>\n",
       "      <td>3</td>\n",
       "      <td>6</td>\n",
       "      <td>1</td>\n",
       "      <td>3</td>\n",
       "      <td>Alabama</td>\n",
       "      <td>Baldwin County</td>\n",
       "      <td>182265</td>\n",
       "      <td>182265</td>\n",
       "      <td>183193</td>\n",
       "      <td>...</td>\n",
       "      <td>14.832960</td>\n",
       "      <td>17.647293</td>\n",
       "      <td>21.845705</td>\n",
       "      <td>19.243287</td>\n",
       "      <td>17.197872</td>\n",
       "      <td>15.844176</td>\n",
       "      <td>18.559627</td>\n",
       "      <td>22.727626</td>\n",
       "      <td>20.317142</td>\n",
       "      <td>18.293499</td>\n",
       "    </tr>\n",
       "    <tr>\n",
       "      <th>3</th>\n",
       "      <td>50</td>\n",
       "      <td>3</td>\n",
       "      <td>6</td>\n",
       "      <td>1</td>\n",
       "      <td>5</td>\n",
       "      <td>Alabama</td>\n",
       "      <td>Barbour County</td>\n",
       "      <td>27457</td>\n",
       "      <td>27457</td>\n",
       "      <td>27341</td>\n",
       "      <td>...</td>\n",
       "      <td>-4.728132</td>\n",
       "      <td>-2.500690</td>\n",
       "      <td>-7.056824</td>\n",
       "      <td>-3.904217</td>\n",
       "      <td>-10.543299</td>\n",
       "      <td>-4.874741</td>\n",
       "      <td>-2.758113</td>\n",
       "      <td>-7.167664</td>\n",
       "      <td>-3.978583</td>\n",
       "      <td>-10.543299</td>\n",
       "    </tr>\n",
       "    <tr>\n",
       "      <th>4</th>\n",
       "      <td>50</td>\n",
       "      <td>3</td>\n",
       "      <td>6</td>\n",
       "      <td>1</td>\n",
       "      <td>7</td>\n",
       "      <td>Alabama</td>\n",
       "      <td>Bibb County</td>\n",
       "      <td>22915</td>\n",
       "      <td>22919</td>\n",
       "      <td>22861</td>\n",
       "      <td>...</td>\n",
       "      <td>-5.527043</td>\n",
       "      <td>-5.068871</td>\n",
       "      <td>-6.201001</td>\n",
       "      <td>-0.177537</td>\n",
       "      <td>0.177258</td>\n",
       "      <td>-5.088389</td>\n",
       "      <td>-4.363636</td>\n",
       "      <td>-5.403729</td>\n",
       "      <td>0.754533</td>\n",
       "      <td>1.107861</td>\n",
       "    </tr>\n",
       "    <tr>\n",
       "      <th>5</th>\n",
       "      <td>50</td>\n",
       "      <td>3</td>\n",
       "      <td>6</td>\n",
       "      <td>1</td>\n",
       "      <td>9</td>\n",
       "      <td>Alabama</td>\n",
       "      <td>Blount County</td>\n",
       "      <td>57322</td>\n",
       "      <td>57322</td>\n",
       "      <td>57373</td>\n",
       "      <td>...</td>\n",
       "      <td>1.807375</td>\n",
       "      <td>-1.177622</td>\n",
       "      <td>-1.748766</td>\n",
       "      <td>-2.062535</td>\n",
       "      <td>-1.369970</td>\n",
       "      <td>1.859511</td>\n",
       "      <td>-0.848580</td>\n",
       "      <td>-1.402476</td>\n",
       "      <td>-1.577232</td>\n",
       "      <td>-0.884411</td>\n",
       "    </tr>\n",
       "  </tbody>\n",
       "</table>\n",
       "<p>5 rows × 100 columns</p>\n",
       "</div>"
      ]
     },
     "execution_count": 45,
     "metadata": {},
     "output_type": "execute_result"
    }
   ],
   "execution_count": 45
  },
  {
   "cell_type": "markdown",
   "metadata": {
    "collapsed": false,
    "id": "NIMtGNn1-Hpo"
   },
   "source": [
    "### Keep only certain Columns"
   ]
  },
  {
   "cell_type": "markdown",
   "metadata": {
    "collapsed": false,
    "id": "IWqoLLwB-Hpo"
   },
   "source": [
    "Also while this data set is interesting for a number of different reasons, let's reduce the data that we're going to look at to just the total **population estimates** and the total **number of births**.\n",
    "\n"
   ]
  },
  {
   "cell_type": "markdown",
   "metadata": {
    "collapsed": false,
    "id": "HYBq_5V8-Hpo"
   },
   "source": "We can do this by creating a list of column names that we want to keep then project those and assign the resulting `DataFrame` to our `df` variable."
  },
  {
   "cell_type": "code",
   "metadata": {
    "colab": {
     "base_uri": "https://localhost:8080/",
     "height": 357
    },
    "id": "wFnZ76zP-Hpo",
    "outputId": "5741325b-a49a-4529-b279-b39f207bb407",
    "ExecuteTime": {
     "end_time": "2024-09-24T17:31:48.192731Z",
     "start_time": "2024-09-24T17:31:48.186858Z"
    }
   },
   "source": [
    "columns_to_keep = [\n",
    "    'STNAME',\n",
    "    'CTYNAME',\n",
    "    'BIRTHS2010',\n",
    "    'BIRTHS2011',\n",
    "    'BIRTHS2012',\n",
    "    'BIRTHS2013',\n",
    "    'BIRTHS2014',\n",
    "    'BIRTHS2015',\n",
    "    'POPESTIMATE2010',\n",
    "    'POPESTIMATE2011',\n",
    "    'POPESTIMATE2012',\n",
    "    'POPESTIMATE2013',\n",
    "    'POPESTIMATE2014',\n",
    "    'POPESTIMATE2015'\n",
    "]\n",
    "df = df[columns_to_keep]\n",
    "df.head()"
   ],
   "outputs": [
    {
     "data": {
      "text/plain": [
       "    STNAME         CTYNAME  BIRTHS2010  BIRTHS2011  BIRTHS2012  BIRTHS2013  \\\n",
       "1  Alabama  Autauga County         151         636         615         574   \n",
       "2  Alabama  Baldwin County         517        2187        2092        2160   \n",
       "3  Alabama  Barbour County          70         335         300         283   \n",
       "4  Alabama     Bibb County          44         266         245         259   \n",
       "5  Alabama   Blount County         183         744         710         646   \n",
       "\n",
       "   BIRTHS2014  BIRTHS2015  POPESTIMATE2010  POPESTIMATE2011  POPESTIMATE2012  \\\n",
       "1         623         600            54660            55253            55175   \n",
       "2        2186        2240           183193           186659           190396   \n",
       "3         260         269            27341            27226            27159   \n",
       "4         247         253            22861            22733            22642   \n",
       "5         618         603            57373            57711            57776   \n",
       "\n",
       "   POPESTIMATE2013  POPESTIMATE2014  POPESTIMATE2015  \n",
       "1            55038            55290            55347  \n",
       "2           195126           199713           203709  \n",
       "3            26973            26815            26489  \n",
       "4            22512            22549            22583  \n",
       "5            57734            57658            57673  "
      ],
      "text/html": [
       "<div>\n",
       "<style scoped>\n",
       "    .dataframe tbody tr th:only-of-type {\n",
       "        vertical-align: middle;\n",
       "    }\n",
       "\n",
       "    .dataframe tbody tr th {\n",
       "        vertical-align: top;\n",
       "    }\n",
       "\n",
       "    .dataframe thead th {\n",
       "        text-align: right;\n",
       "    }\n",
       "</style>\n",
       "<table border=\"1\" class=\"dataframe\">\n",
       "  <thead>\n",
       "    <tr style=\"text-align: right;\">\n",
       "      <th></th>\n",
       "      <th>STNAME</th>\n",
       "      <th>CTYNAME</th>\n",
       "      <th>BIRTHS2010</th>\n",
       "      <th>BIRTHS2011</th>\n",
       "      <th>BIRTHS2012</th>\n",
       "      <th>BIRTHS2013</th>\n",
       "      <th>BIRTHS2014</th>\n",
       "      <th>BIRTHS2015</th>\n",
       "      <th>POPESTIMATE2010</th>\n",
       "      <th>POPESTIMATE2011</th>\n",
       "      <th>POPESTIMATE2012</th>\n",
       "      <th>POPESTIMATE2013</th>\n",
       "      <th>POPESTIMATE2014</th>\n",
       "      <th>POPESTIMATE2015</th>\n",
       "    </tr>\n",
       "  </thead>\n",
       "  <tbody>\n",
       "    <tr>\n",
       "      <th>1</th>\n",
       "      <td>Alabama</td>\n",
       "      <td>Autauga County</td>\n",
       "      <td>151</td>\n",
       "      <td>636</td>\n",
       "      <td>615</td>\n",
       "      <td>574</td>\n",
       "      <td>623</td>\n",
       "      <td>600</td>\n",
       "      <td>54660</td>\n",
       "      <td>55253</td>\n",
       "      <td>55175</td>\n",
       "      <td>55038</td>\n",
       "      <td>55290</td>\n",
       "      <td>55347</td>\n",
       "    </tr>\n",
       "    <tr>\n",
       "      <th>2</th>\n",
       "      <td>Alabama</td>\n",
       "      <td>Baldwin County</td>\n",
       "      <td>517</td>\n",
       "      <td>2187</td>\n",
       "      <td>2092</td>\n",
       "      <td>2160</td>\n",
       "      <td>2186</td>\n",
       "      <td>2240</td>\n",
       "      <td>183193</td>\n",
       "      <td>186659</td>\n",
       "      <td>190396</td>\n",
       "      <td>195126</td>\n",
       "      <td>199713</td>\n",
       "      <td>203709</td>\n",
       "    </tr>\n",
       "    <tr>\n",
       "      <th>3</th>\n",
       "      <td>Alabama</td>\n",
       "      <td>Barbour County</td>\n",
       "      <td>70</td>\n",
       "      <td>335</td>\n",
       "      <td>300</td>\n",
       "      <td>283</td>\n",
       "      <td>260</td>\n",
       "      <td>269</td>\n",
       "      <td>27341</td>\n",
       "      <td>27226</td>\n",
       "      <td>27159</td>\n",
       "      <td>26973</td>\n",
       "      <td>26815</td>\n",
       "      <td>26489</td>\n",
       "    </tr>\n",
       "    <tr>\n",
       "      <th>4</th>\n",
       "      <td>Alabama</td>\n",
       "      <td>Bibb County</td>\n",
       "      <td>44</td>\n",
       "      <td>266</td>\n",
       "      <td>245</td>\n",
       "      <td>259</td>\n",
       "      <td>247</td>\n",
       "      <td>253</td>\n",
       "      <td>22861</td>\n",
       "      <td>22733</td>\n",
       "      <td>22642</td>\n",
       "      <td>22512</td>\n",
       "      <td>22549</td>\n",
       "      <td>22583</td>\n",
       "    </tr>\n",
       "    <tr>\n",
       "      <th>5</th>\n",
       "      <td>Alabama</td>\n",
       "      <td>Blount County</td>\n",
       "      <td>183</td>\n",
       "      <td>744</td>\n",
       "      <td>710</td>\n",
       "      <td>646</td>\n",
       "      <td>618</td>\n",
       "      <td>603</td>\n",
       "      <td>57373</td>\n",
       "      <td>57711</td>\n",
       "      <td>57776</td>\n",
       "      <td>57734</td>\n",
       "      <td>57658</td>\n",
       "      <td>57673</td>\n",
       "    </tr>\n",
       "  </tbody>\n",
       "</table>\n",
       "</div>"
      ]
     },
     "execution_count": 46,
     "metadata": {},
     "output_type": "execute_result"
    }
   ],
   "execution_count": 46
  },
  {
   "cell_type": "markdown",
   "metadata": {
    "collapsed": false,
    "id": "rnZZqR1y-Hpo"
   },
   "source": [
    "### MultiIndex"
   ]
  },
  {
   "cell_type": "markdown",
   "metadata": {
    "collapsed": false,
    "id": "z5HsGM7B-Hpo"
   },
   "source": "The US Census data breaks down estimates of population data by **state** and **county**. We can load the data and set the index to be a combination of the state and county values and see how `pandas` handles it in a `DataFrame`. We do this by creating a list of the column identifiers we want to have indexed. And then calling `set_index` with this list and assigning the output as appropriate. We see here that we have a dual index, first the state name and then the county name."
  },
  {
   "cell_type": "code",
   "metadata": {
    "colab": {
     "base_uri": "https://localhost:8080/",
     "height": 388
    },
    "id": "rA9xBaQ_-Hpp",
    "outputId": "bb9343cc-5705-4558-e14f-46cab9e2c09b",
    "ExecuteTime": {
     "end_time": "2024-09-24T17:32:51.466037Z",
     "start_time": "2024-09-24T17:32:51.452787Z"
    }
   },
   "source": [
    "df = df.set_index(['STNAME', 'CTYNAME'])\n",
    "df.head()"
   ],
   "outputs": [
    {
     "data": {
      "text/plain": [
       "                        BIRTHS2010  BIRTHS2011  BIRTHS2012  BIRTHS2013  \\\n",
       "STNAME  CTYNAME                                                          \n",
       "Alabama Autauga County         151         636         615         574   \n",
       "        Baldwin County         517        2187        2092        2160   \n",
       "        Barbour County          70         335         300         283   \n",
       "        Bibb County             44         266         245         259   \n",
       "        Blount County          183         744         710         646   \n",
       "\n",
       "                        BIRTHS2014  BIRTHS2015  POPESTIMATE2010  \\\n",
       "STNAME  CTYNAME                                                   \n",
       "Alabama Autauga County         623         600            54660   \n",
       "        Baldwin County        2186        2240           183193   \n",
       "        Barbour County         260         269            27341   \n",
       "        Bibb County            247         253            22861   \n",
       "        Blount County          618         603            57373   \n",
       "\n",
       "                        POPESTIMATE2011  POPESTIMATE2012  POPESTIMATE2013  \\\n",
       "STNAME  CTYNAME                                                             \n",
       "Alabama Autauga County            55253            55175            55038   \n",
       "        Baldwin County           186659           190396           195126   \n",
       "        Barbour County            27226            27159            26973   \n",
       "        Bibb County               22733            22642            22512   \n",
       "        Blount County             57711            57776            57734   \n",
       "\n",
       "                        POPESTIMATE2014  POPESTIMATE2015  \n",
       "STNAME  CTYNAME                                           \n",
       "Alabama Autauga County            55290            55347  \n",
       "        Baldwin County           199713           203709  \n",
       "        Barbour County            26815            26489  \n",
       "        Bibb County               22549            22583  \n",
       "        Blount County             57658            57673  "
      ],
      "text/html": [
       "<div>\n",
       "<style scoped>\n",
       "    .dataframe tbody tr th:only-of-type {\n",
       "        vertical-align: middle;\n",
       "    }\n",
       "\n",
       "    .dataframe tbody tr th {\n",
       "        vertical-align: top;\n",
       "    }\n",
       "\n",
       "    .dataframe thead th {\n",
       "        text-align: right;\n",
       "    }\n",
       "</style>\n",
       "<table border=\"1\" class=\"dataframe\">\n",
       "  <thead>\n",
       "    <tr style=\"text-align: right;\">\n",
       "      <th></th>\n",
       "      <th></th>\n",
       "      <th>BIRTHS2010</th>\n",
       "      <th>BIRTHS2011</th>\n",
       "      <th>BIRTHS2012</th>\n",
       "      <th>BIRTHS2013</th>\n",
       "      <th>BIRTHS2014</th>\n",
       "      <th>BIRTHS2015</th>\n",
       "      <th>POPESTIMATE2010</th>\n",
       "      <th>POPESTIMATE2011</th>\n",
       "      <th>POPESTIMATE2012</th>\n",
       "      <th>POPESTIMATE2013</th>\n",
       "      <th>POPESTIMATE2014</th>\n",
       "      <th>POPESTIMATE2015</th>\n",
       "    </tr>\n",
       "    <tr>\n",
       "      <th>STNAME</th>\n",
       "      <th>CTYNAME</th>\n",
       "      <th></th>\n",
       "      <th></th>\n",
       "      <th></th>\n",
       "      <th></th>\n",
       "      <th></th>\n",
       "      <th></th>\n",
       "      <th></th>\n",
       "      <th></th>\n",
       "      <th></th>\n",
       "      <th></th>\n",
       "      <th></th>\n",
       "      <th></th>\n",
       "    </tr>\n",
       "  </thead>\n",
       "  <tbody>\n",
       "    <tr>\n",
       "      <th rowspan=\"5\" valign=\"top\">Alabama</th>\n",
       "      <th>Autauga County</th>\n",
       "      <td>151</td>\n",
       "      <td>636</td>\n",
       "      <td>615</td>\n",
       "      <td>574</td>\n",
       "      <td>623</td>\n",
       "      <td>600</td>\n",
       "      <td>54660</td>\n",
       "      <td>55253</td>\n",
       "      <td>55175</td>\n",
       "      <td>55038</td>\n",
       "      <td>55290</td>\n",
       "      <td>55347</td>\n",
       "    </tr>\n",
       "    <tr>\n",
       "      <th>Baldwin County</th>\n",
       "      <td>517</td>\n",
       "      <td>2187</td>\n",
       "      <td>2092</td>\n",
       "      <td>2160</td>\n",
       "      <td>2186</td>\n",
       "      <td>2240</td>\n",
       "      <td>183193</td>\n",
       "      <td>186659</td>\n",
       "      <td>190396</td>\n",
       "      <td>195126</td>\n",
       "      <td>199713</td>\n",
       "      <td>203709</td>\n",
       "    </tr>\n",
       "    <tr>\n",
       "      <th>Barbour County</th>\n",
       "      <td>70</td>\n",
       "      <td>335</td>\n",
       "      <td>300</td>\n",
       "      <td>283</td>\n",
       "      <td>260</td>\n",
       "      <td>269</td>\n",
       "      <td>27341</td>\n",
       "      <td>27226</td>\n",
       "      <td>27159</td>\n",
       "      <td>26973</td>\n",
       "      <td>26815</td>\n",
       "      <td>26489</td>\n",
       "    </tr>\n",
       "    <tr>\n",
       "      <th>Bibb County</th>\n",
       "      <td>44</td>\n",
       "      <td>266</td>\n",
       "      <td>245</td>\n",
       "      <td>259</td>\n",
       "      <td>247</td>\n",
       "      <td>253</td>\n",
       "      <td>22861</td>\n",
       "      <td>22733</td>\n",
       "      <td>22642</td>\n",
       "      <td>22512</td>\n",
       "      <td>22549</td>\n",
       "      <td>22583</td>\n",
       "    </tr>\n",
       "    <tr>\n",
       "      <th>Blount County</th>\n",
       "      <td>183</td>\n",
       "      <td>744</td>\n",
       "      <td>710</td>\n",
       "      <td>646</td>\n",
       "      <td>618</td>\n",
       "      <td>603</td>\n",
       "      <td>57373</td>\n",
       "      <td>57711</td>\n",
       "      <td>57776</td>\n",
       "      <td>57734</td>\n",
       "      <td>57658</td>\n",
       "      <td>57673</td>\n",
       "    </tr>\n",
       "  </tbody>\n",
       "</table>\n",
       "</div>"
      ]
     },
     "execution_count": 47,
     "metadata": {},
     "output_type": "execute_result"
    }
   ],
   "execution_count": 47
  },
  {
   "cell_type": "markdown",
   "metadata": {
    "collapsed": false,
    "id": "bGmoTZ9I-Hpp"
   },
   "source": "An immediate question which comes up is how we can query this `DataFrame`. For instance, we saw previously that the `loc` attribute of the `DataFrame` can take multiple arguments. And it could query both the row and the columns. When you use a `MultiIndex`, you must provide the arguments in order by the level you wish to query. Inside the index, each column is called a level and the outermost column is level zero."
  },
  {
   "cell_type": "markdown",
   "metadata": {
    "collapsed": false,
    "id": "AJ_5VfHl-Hpp"
   },
   "source": [
    "For example, if we want to see the population results for `Orange County`, the first argument you want to give is the state of `California`."
   ]
  },
  {
   "cell_type": "code",
   "metadata": {
    "scrolled": true,
    "colab": {
     "base_uri": "https://localhost:8080/"
    },
    "id": "FuLxsvXu-Hpp",
    "outputId": "289b0bf0-4225-44ed-bd4c-3e9920fe615f",
    "ExecuteTime": {
     "end_time": "2024-09-24T17:34:25.683369Z",
     "start_time": "2024-09-24T17:34:25.678204Z"
    }
   },
   "source": [
    "df.loc['California', 'Orange County']"
   ],
   "outputs": [
    {
     "data": {
      "text/plain": [
       "BIRTHS2010            9304\n",
       "BIRTHS2011           38238\n",
       "BIRTHS2012           37842\n",
       "BIRTHS2013           37621\n",
       "BIRTHS2014           37706\n",
       "BIRTHS2015           37776\n",
       "POPESTIMATE2010    3017866\n",
       "POPESTIMATE2011    3056084\n",
       "POPESTIMATE2012    3089343\n",
       "POPESTIMATE2013    3120180\n",
       "POPESTIMATE2014    3144961\n",
       "POPESTIMATE2015    3169776\n",
       "Name: (California, Orange County), dtype: int64"
      ]
     },
     "execution_count": 48,
     "metadata": {},
     "output_type": "execute_result"
    }
   ],
   "execution_count": 48
  },
  {
   "cell_type": "markdown",
   "metadata": {
    "collapsed": false,
    "id": "InCv6t4t-Hpp"
   },
   "source": "You might be interested in just comparing two counties. For instance, `Orange County` and `San Francisco County`. To do this, we can pass the `loc` method, a list of tuples which describe the indices we wish to query. Since we have a `MultiIndex` of two values, the state and the county, we need to provide two values as each element of our filtering list."
  },
  {
   "cell_type": "code",
   "metadata": {
    "colab": {
     "base_uri": "https://localhost:8080/",
     "height": 259
    },
    "id": "J2boTFkz-Hpp",
    "outputId": "ceac18cf-b4d3-4b06-e709-f756842f023b",
    "ExecuteTime": {
     "end_time": "2024-09-24T17:34:38.495162Z",
     "start_time": "2024-09-24T17:34:38.487321Z"
    }
   },
   "source": [
    "df.loc[[('California', 'Orange County'),\n",
    "        ('California', 'San Francisco County')]]"
   ],
   "outputs": [
    {
     "data": {
      "text/plain": [
       "                                 BIRTHS2010  BIRTHS2011  BIRTHS2012  \\\n",
       "STNAME     CTYNAME                                                    \n",
       "California Orange County               9304       38238       37842   \n",
       "           San Francisco County        2121        8899        8782   \n",
       "\n",
       "                                 BIRTHS2013  BIRTHS2014  BIRTHS2015  \\\n",
       "STNAME     CTYNAME                                                    \n",
       "California Orange County              37621       37706       37776   \n",
       "           San Francisco County        9100        8844        9059   \n",
       "\n",
       "                                 POPESTIMATE2010  POPESTIMATE2011  \\\n",
       "STNAME     CTYNAME                                                  \n",
       "California Orange County                 3017866          3056084   \n",
       "           San Francisco County           805813           816231   \n",
       "\n",
       "                                 POPESTIMATE2012  POPESTIMATE2013  \\\n",
       "STNAME     CTYNAME                                                  \n",
       "California Orange County                 3089343          3120180   \n",
       "           San Francisco County           829517           840715   \n",
       "\n",
       "                                 POPESTIMATE2014  POPESTIMATE2015  \n",
       "STNAME     CTYNAME                                                 \n",
       "California Orange County                 3144961          3169776  \n",
       "           San Francisco County           852537           864816  "
      ],
      "text/html": [
       "<div>\n",
       "<style scoped>\n",
       "    .dataframe tbody tr th:only-of-type {\n",
       "        vertical-align: middle;\n",
       "    }\n",
       "\n",
       "    .dataframe tbody tr th {\n",
       "        vertical-align: top;\n",
       "    }\n",
       "\n",
       "    .dataframe thead th {\n",
       "        text-align: right;\n",
       "    }\n",
       "</style>\n",
       "<table border=\"1\" class=\"dataframe\">\n",
       "  <thead>\n",
       "    <tr style=\"text-align: right;\">\n",
       "      <th></th>\n",
       "      <th></th>\n",
       "      <th>BIRTHS2010</th>\n",
       "      <th>BIRTHS2011</th>\n",
       "      <th>BIRTHS2012</th>\n",
       "      <th>BIRTHS2013</th>\n",
       "      <th>BIRTHS2014</th>\n",
       "      <th>BIRTHS2015</th>\n",
       "      <th>POPESTIMATE2010</th>\n",
       "      <th>POPESTIMATE2011</th>\n",
       "      <th>POPESTIMATE2012</th>\n",
       "      <th>POPESTIMATE2013</th>\n",
       "      <th>POPESTIMATE2014</th>\n",
       "      <th>POPESTIMATE2015</th>\n",
       "    </tr>\n",
       "    <tr>\n",
       "      <th>STNAME</th>\n",
       "      <th>CTYNAME</th>\n",
       "      <th></th>\n",
       "      <th></th>\n",
       "      <th></th>\n",
       "      <th></th>\n",
       "      <th></th>\n",
       "      <th></th>\n",
       "      <th></th>\n",
       "      <th></th>\n",
       "      <th></th>\n",
       "      <th></th>\n",
       "      <th></th>\n",
       "      <th></th>\n",
       "    </tr>\n",
       "  </thead>\n",
       "  <tbody>\n",
       "    <tr>\n",
       "      <th rowspan=\"2\" valign=\"top\">California</th>\n",
       "      <th>Orange County</th>\n",
       "      <td>9304</td>\n",
       "      <td>38238</td>\n",
       "      <td>37842</td>\n",
       "      <td>37621</td>\n",
       "      <td>37706</td>\n",
       "      <td>37776</td>\n",
       "      <td>3017866</td>\n",
       "      <td>3056084</td>\n",
       "      <td>3089343</td>\n",
       "      <td>3120180</td>\n",
       "      <td>3144961</td>\n",
       "      <td>3169776</td>\n",
       "    </tr>\n",
       "    <tr>\n",
       "      <th>San Francisco County</th>\n",
       "      <td>2121</td>\n",
       "      <td>8899</td>\n",
       "      <td>8782</td>\n",
       "      <td>9100</td>\n",
       "      <td>8844</td>\n",
       "      <td>9059</td>\n",
       "      <td>805813</td>\n",
       "      <td>816231</td>\n",
       "      <td>829517</td>\n",
       "      <td>840715</td>\n",
       "      <td>852537</td>\n",
       "      <td>864816</td>\n",
       "    </tr>\n",
       "  </tbody>\n",
       "</table>\n",
       "</div>"
      ]
     },
     "execution_count": 49,
     "metadata": {},
     "output_type": "execute_result"
    }
   ],
   "execution_count": 49
  },
  {
   "cell_type": "markdown",
   "metadata": {
    "collapsed": false,
    "id": "mHSLuLXs-Hpp"
   },
   "source": "This is how hierarchical indices work in a nutshell. They are a special part of the `pandas` library that can make management and reasoning about data easier. Of course hierarchical labeling is not just for rows. For example, you can transpose this matrix and now have hierarchical column labels. And projecting a single column which has these labels works exactly the way you would expect it to."
  },
  {
   "cell_type": "markdown",
   "metadata": {
    "collapsed": false,
    "id": "J-HUtW59-Hpp"
   },
   "source": [
    "# Sorting and Min Max"
   ]
  },
  {
   "cell_type": "markdown",
   "metadata": {
    "collapsed": false,
    "id": "kqFpGcSR-Hpq"
   },
   "source": "Data exploration is an important aspect of Data Science. Before we decide do Data Analysis or Machine Learning, we must have an idea of what our data contains. The `pandas` library is equipped with a number of useful functions for this very purpose."
  },
  {
   "cell_type": "markdown",
   "metadata": {
    "collapsed": false,
    "id": "W_g2a89_-Hpq"
   },
   "source": [
    "## Counting Values"
   ]
  },
  {
   "cell_type": "markdown",
   "metadata": {
    "collapsed": false,
    "id": "C0Su5r-Z-Hpq"
   },
   "source": "The `value_counts()` method returns a `Series` containing the counts of unique values. This means, for any column in a `DataFrame`, this method returns the count of unique entries in that column."
  },
  {
   "cell_type": "markdown",
   "metadata": {
    "collapsed": false,
    "id": "WcmTnQ8p-Hpq"
   },
   "source": [
    "The following example uses `value_counts()` to determine which country appears most often."
   ]
  },
  {
   "cell_type": "code",
   "metadata": {
    "colab": {
     "base_uri": "https://localhost:8080/",
     "height": 269
    },
    "id": "1au0-pZG-Hpq",
    "outputId": "89fce8b8-1b34-45f3-efd6-f17787adb323",
    "ExecuteTime": {
     "end_time": "2024-09-24T17:42:07.130148Z",
     "start_time": "2024-09-24T17:42:07.125689Z"
    }
   },
   "source": [
    "import pandas as pd\n",
    "\n",
    "# Make example dataframe\n",
    "df = pd.DataFrame(\n",
    "    [\n",
    "        (1, 'Germany'),\n",
    "        (2, 'France'),\n",
    "        (3, 'Indonesia'),\n",
    "        (4, 'France'),\n",
    "        (5, 'France'),\n",
    "        (6, 'Germany'),\n",
    "        (7, 'UK')\n",
    "    ],\n",
    "    columns=['groupid', 'country'],\n",
    "    index=['a', 'b', 'c', 'd', 'e', 'f', 'g']\n",
    ")\n",
    "\n",
    "df"
   ],
   "outputs": [
    {
     "data": {
      "text/plain": [
       "   groupid    country\n",
       "a        1    Germany\n",
       "b        2     France\n",
       "c        3  Indonesia\n",
       "d        4     France\n",
       "e        5     France\n",
       "f        6    Germany\n",
       "g        7         UK"
      ],
      "text/html": [
       "<div>\n",
       "<style scoped>\n",
       "    .dataframe tbody tr th:only-of-type {\n",
       "        vertical-align: middle;\n",
       "    }\n",
       "\n",
       "    .dataframe tbody tr th {\n",
       "        vertical-align: top;\n",
       "    }\n",
       "\n",
       "    .dataframe thead th {\n",
       "        text-align: right;\n",
       "    }\n",
       "</style>\n",
       "<table border=\"1\" class=\"dataframe\">\n",
       "  <thead>\n",
       "    <tr style=\"text-align: right;\">\n",
       "      <th></th>\n",
       "      <th>groupid</th>\n",
       "      <th>country</th>\n",
       "    </tr>\n",
       "  </thead>\n",
       "  <tbody>\n",
       "    <tr>\n",
       "      <th>a</th>\n",
       "      <td>1</td>\n",
       "      <td>Germany</td>\n",
       "    </tr>\n",
       "    <tr>\n",
       "      <th>b</th>\n",
       "      <td>2</td>\n",
       "      <td>France</td>\n",
       "    </tr>\n",
       "    <tr>\n",
       "      <th>c</th>\n",
       "      <td>3</td>\n",
       "      <td>Indonesia</td>\n",
       "    </tr>\n",
       "    <tr>\n",
       "      <th>d</th>\n",
       "      <td>4</td>\n",
       "      <td>France</td>\n",
       "    </tr>\n",
       "    <tr>\n",
       "      <th>e</th>\n",
       "      <td>5</td>\n",
       "      <td>France</td>\n",
       "    </tr>\n",
       "    <tr>\n",
       "      <th>f</th>\n",
       "      <td>6</td>\n",
       "      <td>Germany</td>\n",
       "    </tr>\n",
       "    <tr>\n",
       "      <th>g</th>\n",
       "      <td>7</td>\n",
       "      <td>UK</td>\n",
       "    </tr>\n",
       "  </tbody>\n",
       "</table>\n",
       "</div>"
      ]
     },
     "execution_count": 50,
     "metadata": {},
     "output_type": "execute_result"
    }
   ],
   "execution_count": 50
  },
  {
   "cell_type": "code",
   "metadata": {
    "colab": {
     "base_uri": "https://localhost:8080/"
    },
    "id": "G5VNA7ie-Hpq",
    "outputId": "31032a4f-2a24-4b54-d167-002d68803f15",
    "ExecuteTime": {
     "end_time": "2024-09-24T17:42:24.527236Z",
     "start_time": "2024-09-24T17:42:24.523187Z"
    }
   },
   "source": [
    "# What you're looking for\n",
    "values = df['country'].value_counts().keys().tolist()\n",
    "counts = df['country'].value_counts().tolist()\n",
    "print(df['country'].value_counts())\n",
    "print(\"\\n\")\n",
    "print(values)\n",
    "print(counts)"
   ],
   "outputs": [
    {
     "name": "stdout",
     "output_type": "stream",
     "text": [
      "country\n",
      "France       3\n",
      "Germany      2\n",
      "Indonesia    1\n",
      "UK           1\n",
      "Name: count, dtype: int64\n",
      "\n",
      "\n",
      "['France', 'Germany', 'Indonesia', 'UK']\n",
      "[3, 2, 1, 1]\n"
     ]
    }
   ],
   "execution_count": 51
  },
  {
   "cell_type": "markdown",
   "metadata": {
    "collapsed": false,
    "id": "Dmi8RklU-Hpq"
   },
   "source": "`'France'` is the country that appears most frequently with a frequency of 3 in the `DataFrame`."
  },
  {
   "cell_type": "markdown",
   "metadata": {
    "collapsed": false,
    "id": "QzKChmRi-Hpr"
   },
   "source": "`pandas`' `keys()` function returns the *info axis* for the `pandas` object. If the `pandas` object is a `Series`, it returns the index. In the given example, applied to `value_counts()`, it returns the corresponding values for the given counts."
  },
  {
   "cell_type": "markdown",
   "metadata": {
    "collapsed": false,
    "id": "-_wNaEmJ-Hpr"
   },
   "source": [
    "## Sorting Index"
   ]
  },
  {
   "cell_type": "markdown",
   "metadata": {
    "collapsed": false,
    "id": "X2_6erHf-Hpr"
   },
   "source": "Sorting can be done in `pandas` by using the `sort_index()` or `sort_values()` function."
  },
  {
   "cell_type": "markdown",
   "metadata": {
    "collapsed": false,
    "id": "mu8u_M9v-Hpr"
   },
   "source": [
    "`pandas`' `sort_index()` function sorts objects by labels along the given axis.\n",
    "Basically the sorting algorithm is applied on the axis labels rather than the actual data in the dataframe and based on that the data is rearranged."
   ]
  },
  {
   "cell_type": "code",
   "metadata": {
    "colab": {
     "base_uri": "https://localhost:8080/",
     "height": 250
    },
    "id": "e1WiLwrB-Hps",
    "outputId": "644f8551-db85-4fa5-aa1a-31856a7445ae",
    "ExecuteTime": {
     "end_time": "2024-09-24T17:42:33.887434Z",
     "start_time": "2024-09-24T17:42:33.880291Z"
    }
   },
   "source": [
    "import pandas as pd\n",
    "\n",
    "df_imdb = pd.read_csv('IMDBdata_hotlist.csv')\n",
    "df_imdb.head()"
   ],
   "outputs": [
    {
     "data": {
      "text/plain": [
       "                Movie_Title  YR_Released  Rating  Num_Reviews   Movie_ID  \\\n",
       "0  The Shawshank Redemption         1994     9.2      1829037  tt0111161   \n",
       "1             The Godfather         1972     9.2      1249333  tt0068646   \n",
       "2    The Godfather: Part II         1974     9.0       860228  tt0071562   \n",
       "3           The Dark Knight         2008     9.0      1808543  tt0468569   \n",
       "4              12 Angry Men         1957     8.9       497242  tt0050083   \n",
       "\n",
       "               Record  Runtime  \n",
       "0  Top 250 Eng Movies    142.0  \n",
       "1  Top 250 Eng Movies    175.0  \n",
       "2  Top 250 Eng Movies    202.0  \n",
       "3  Top 250 Eng Movies    152.0  \n",
       "4  Top 250 Eng Movies     96.0  "
      ],
      "text/html": [
       "<div>\n",
       "<style scoped>\n",
       "    .dataframe tbody tr th:only-of-type {\n",
       "        vertical-align: middle;\n",
       "    }\n",
       "\n",
       "    .dataframe tbody tr th {\n",
       "        vertical-align: top;\n",
       "    }\n",
       "\n",
       "    .dataframe thead th {\n",
       "        text-align: right;\n",
       "    }\n",
       "</style>\n",
       "<table border=\"1\" class=\"dataframe\">\n",
       "  <thead>\n",
       "    <tr style=\"text-align: right;\">\n",
       "      <th></th>\n",
       "      <th>Movie_Title</th>\n",
       "      <th>YR_Released</th>\n",
       "      <th>Rating</th>\n",
       "      <th>Num_Reviews</th>\n",
       "      <th>Movie_ID</th>\n",
       "      <th>Record</th>\n",
       "      <th>Runtime</th>\n",
       "    </tr>\n",
       "  </thead>\n",
       "  <tbody>\n",
       "    <tr>\n",
       "      <th>0</th>\n",
       "      <td>The Shawshank Redemption</td>\n",
       "      <td>1994</td>\n",
       "      <td>9.2</td>\n",
       "      <td>1829037</td>\n",
       "      <td>tt0111161</td>\n",
       "      <td>Top 250 Eng Movies</td>\n",
       "      <td>142.0</td>\n",
       "    </tr>\n",
       "    <tr>\n",
       "      <th>1</th>\n",
       "      <td>The Godfather</td>\n",
       "      <td>1972</td>\n",
       "      <td>9.2</td>\n",
       "      <td>1249333</td>\n",
       "      <td>tt0068646</td>\n",
       "      <td>Top 250 Eng Movies</td>\n",
       "      <td>175.0</td>\n",
       "    </tr>\n",
       "    <tr>\n",
       "      <th>2</th>\n",
       "      <td>The Godfather: Part II</td>\n",
       "      <td>1974</td>\n",
       "      <td>9.0</td>\n",
       "      <td>860228</td>\n",
       "      <td>tt0071562</td>\n",
       "      <td>Top 250 Eng Movies</td>\n",
       "      <td>202.0</td>\n",
       "    </tr>\n",
       "    <tr>\n",
       "      <th>3</th>\n",
       "      <td>The Dark Knight</td>\n",
       "      <td>2008</td>\n",
       "      <td>9.0</td>\n",
       "      <td>1808543</td>\n",
       "      <td>tt0468569</td>\n",
       "      <td>Top 250 Eng Movies</td>\n",
       "      <td>152.0</td>\n",
       "    </tr>\n",
       "    <tr>\n",
       "      <th>4</th>\n",
       "      <td>12 Angry Men</td>\n",
       "      <td>1957</td>\n",
       "      <td>8.9</td>\n",
       "      <td>497242</td>\n",
       "      <td>tt0050083</td>\n",
       "      <td>Top 250 Eng Movies</td>\n",
       "      <td>96.0</td>\n",
       "    </tr>\n",
       "  </tbody>\n",
       "</table>\n",
       "</div>"
      ]
     },
     "execution_count": 52,
     "metadata": {},
     "output_type": "execute_result"
    }
   ],
   "execution_count": 52
  },
  {
   "cell_type": "markdown",
   "metadata": {
    "collapsed": false,
    "id": "xBRYQcFP-Hps"
   },
   "source": "What are the three best reviewed movies in the database? To obtain a ranking of the best, you must be able to sort. Here we sort on the `DataFrame` directly (`inplace=True`), and we want to see the highest ranked films first, so we proceed in descending order, i.e. `ascending=False`."
  },
  {
   "cell_type": "code",
   "metadata": {
    "colab": {
     "base_uri": "https://localhost:8080/",
     "height": 237
    },
    "id": "b77mO-6V-Hpt",
    "outputId": "2852b169-b7b0-4af4-edf8-cac687e844db",
    "ExecuteTime": {
     "end_time": "2024-09-24T17:42:43.792367Z",
     "start_time": "2024-09-24T17:42:43.786670Z"
    }
   },
   "source": [
    "cdf_imdb = df_imdb.copy()\n",
    "cdf_imdb = cdf_imdb.set_index('Rating')\n",
    "cdf_imdb.sort_index(inplace=True, ascending=False)\n",
    "cdf_imdb.head()"
   ],
   "outputs": [
    {
     "data": {
      "text/plain": [
       "                     Movie_Title  YR_Released  Num_Reviews   Movie_ID  \\\n",
       "Rating                                                                  \n",
       "9.2     The Shawshank Redemption         1994      1829037  tt0111161   \n",
       "9.2                The Godfather         1972      1249333  tt0068646   \n",
       "9.0       The Godfather: Part II         1974       860228  tt0071562   \n",
       "9.0              The Dark Knight         2008      1808543  tt0468569   \n",
       "8.9                 12 Angry Men         1957       497242  tt0050083   \n",
       "\n",
       "                    Record  Runtime  \n",
       "Rating                               \n",
       "9.2     Top 250 Eng Movies    142.0  \n",
       "9.2     Top 250 Eng Movies    175.0  \n",
       "9.0     Top 250 Eng Movies    202.0  \n",
       "9.0     Top 250 Eng Movies    152.0  \n",
       "8.9     Top 250 Eng Movies     96.0  "
      ],
      "text/html": [
       "<div>\n",
       "<style scoped>\n",
       "    .dataframe tbody tr th:only-of-type {\n",
       "        vertical-align: middle;\n",
       "    }\n",
       "\n",
       "    .dataframe tbody tr th {\n",
       "        vertical-align: top;\n",
       "    }\n",
       "\n",
       "    .dataframe thead th {\n",
       "        text-align: right;\n",
       "    }\n",
       "</style>\n",
       "<table border=\"1\" class=\"dataframe\">\n",
       "  <thead>\n",
       "    <tr style=\"text-align: right;\">\n",
       "      <th></th>\n",
       "      <th>Movie_Title</th>\n",
       "      <th>YR_Released</th>\n",
       "      <th>Num_Reviews</th>\n",
       "      <th>Movie_ID</th>\n",
       "      <th>Record</th>\n",
       "      <th>Runtime</th>\n",
       "    </tr>\n",
       "    <tr>\n",
       "      <th>Rating</th>\n",
       "      <th></th>\n",
       "      <th></th>\n",
       "      <th></th>\n",
       "      <th></th>\n",
       "      <th></th>\n",
       "      <th></th>\n",
       "    </tr>\n",
       "  </thead>\n",
       "  <tbody>\n",
       "    <tr>\n",
       "      <th>9.2</th>\n",
       "      <td>The Shawshank Redemption</td>\n",
       "      <td>1994</td>\n",
       "      <td>1829037</td>\n",
       "      <td>tt0111161</td>\n",
       "      <td>Top 250 Eng Movies</td>\n",
       "      <td>142.0</td>\n",
       "    </tr>\n",
       "    <tr>\n",
       "      <th>9.2</th>\n",
       "      <td>The Godfather</td>\n",
       "      <td>1972</td>\n",
       "      <td>1249333</td>\n",
       "      <td>tt0068646</td>\n",
       "      <td>Top 250 Eng Movies</td>\n",
       "      <td>175.0</td>\n",
       "    </tr>\n",
       "    <tr>\n",
       "      <th>9.0</th>\n",
       "      <td>The Godfather: Part II</td>\n",
       "      <td>1974</td>\n",
       "      <td>860228</td>\n",
       "      <td>tt0071562</td>\n",
       "      <td>Top 250 Eng Movies</td>\n",
       "      <td>202.0</td>\n",
       "    </tr>\n",
       "    <tr>\n",
       "      <th>9.0</th>\n",
       "      <td>The Dark Knight</td>\n",
       "      <td>2008</td>\n",
       "      <td>1808543</td>\n",
       "      <td>tt0468569</td>\n",
       "      <td>Top 250 Eng Movies</td>\n",
       "      <td>152.0</td>\n",
       "    </tr>\n",
       "    <tr>\n",
       "      <th>8.9</th>\n",
       "      <td>12 Angry Men</td>\n",
       "      <td>1957</td>\n",
       "      <td>497242</td>\n",
       "      <td>tt0050083</td>\n",
       "      <td>Top 250 Eng Movies</td>\n",
       "      <td>96.0</td>\n",
       "    </tr>\n",
       "  </tbody>\n",
       "</table>\n",
       "</div>"
      ]
     },
     "execution_count": 53,
     "metadata": {},
     "output_type": "execute_result"
    }
   ],
   "execution_count": 53
  },
  {
   "cell_type": "markdown",
   "metadata": {
    "collapsed": false,
    "id": "jUTP1AS3-Hpu"
   },
   "source": [
    "Here we show two possibilities how the first three entries can be presented. Either with the `head()` method or with the `iloc` operator that uses slicing."
   ]
  },
  {
   "cell_type": "code",
   "metadata": {
    "colab": {
     "base_uri": "https://localhost:8080/",
     "height": 175
    },
    "id": "H9YsxoEl-Hpu",
    "outputId": "88c2c982-9e7d-4014-f9c9-66edd0a347bf",
    "ExecuteTime": {
     "end_time": "2024-09-24T17:43:00.105768Z",
     "start_time": "2024-09-24T17:43:00.101026Z"
    }
   },
   "source": [
    "# Show the three best movies\n",
    "cdf_imdb.head(3)"
   ],
   "outputs": [
    {
     "data": {
      "text/plain": [
       "                     Movie_Title  YR_Released  Num_Reviews   Movie_ID  \\\n",
       "Rating                                                                  \n",
       "9.2     The Shawshank Redemption         1994      1829037  tt0111161   \n",
       "9.2                The Godfather         1972      1249333  tt0068646   \n",
       "9.0       The Godfather: Part II         1974       860228  tt0071562   \n",
       "\n",
       "                    Record  Runtime  \n",
       "Rating                               \n",
       "9.2     Top 250 Eng Movies    142.0  \n",
       "9.2     Top 250 Eng Movies    175.0  \n",
       "9.0     Top 250 Eng Movies    202.0  "
      ],
      "text/html": [
       "<div>\n",
       "<style scoped>\n",
       "    .dataframe tbody tr th:only-of-type {\n",
       "        vertical-align: middle;\n",
       "    }\n",
       "\n",
       "    .dataframe tbody tr th {\n",
       "        vertical-align: top;\n",
       "    }\n",
       "\n",
       "    .dataframe thead th {\n",
       "        text-align: right;\n",
       "    }\n",
       "</style>\n",
       "<table border=\"1\" class=\"dataframe\">\n",
       "  <thead>\n",
       "    <tr style=\"text-align: right;\">\n",
       "      <th></th>\n",
       "      <th>Movie_Title</th>\n",
       "      <th>YR_Released</th>\n",
       "      <th>Num_Reviews</th>\n",
       "      <th>Movie_ID</th>\n",
       "      <th>Record</th>\n",
       "      <th>Runtime</th>\n",
       "    </tr>\n",
       "    <tr>\n",
       "      <th>Rating</th>\n",
       "      <th></th>\n",
       "      <th></th>\n",
       "      <th></th>\n",
       "      <th></th>\n",
       "      <th></th>\n",
       "      <th></th>\n",
       "    </tr>\n",
       "  </thead>\n",
       "  <tbody>\n",
       "    <tr>\n",
       "      <th>9.2</th>\n",
       "      <td>The Shawshank Redemption</td>\n",
       "      <td>1994</td>\n",
       "      <td>1829037</td>\n",
       "      <td>tt0111161</td>\n",
       "      <td>Top 250 Eng Movies</td>\n",
       "      <td>142.0</td>\n",
       "    </tr>\n",
       "    <tr>\n",
       "      <th>9.2</th>\n",
       "      <td>The Godfather</td>\n",
       "      <td>1972</td>\n",
       "      <td>1249333</td>\n",
       "      <td>tt0068646</td>\n",
       "      <td>Top 250 Eng Movies</td>\n",
       "      <td>175.0</td>\n",
       "    </tr>\n",
       "    <tr>\n",
       "      <th>9.0</th>\n",
       "      <td>The Godfather: Part II</td>\n",
       "      <td>1974</td>\n",
       "      <td>860228</td>\n",
       "      <td>tt0071562</td>\n",
       "      <td>Top 250 Eng Movies</td>\n",
       "      <td>202.0</td>\n",
       "    </tr>\n",
       "  </tbody>\n",
       "</table>\n",
       "</div>"
      ]
     },
     "execution_count": 55,
     "metadata": {},
     "output_type": "execute_result"
    }
   ],
   "execution_count": 55
  },
  {
   "cell_type": "code",
   "metadata": {
    "colab": {
     "base_uri": "https://localhost:8080/",
     "height": 175
    },
    "id": "Y0u79vYn-Hpu",
    "outputId": "303b69f4-6dd7-49c7-af2a-4742ad6bbaa1",
    "ExecuteTime": {
     "end_time": "2024-09-24T17:42:58.863542Z",
     "start_time": "2024-09-24T17:42:58.858454Z"
    }
   },
   "source": [
    "# Show the three best movies\n",
    "cdf_imdb.iloc[:3]"
   ],
   "outputs": [
    {
     "data": {
      "text/plain": [
       "                     Movie_Title  YR_Released  Num_Reviews   Movie_ID  \\\n",
       "Rating                                                                  \n",
       "9.2     The Shawshank Redemption         1994      1829037  tt0111161   \n",
       "9.2                The Godfather         1972      1249333  tt0068646   \n",
       "9.0       The Godfather: Part II         1974       860228  tt0071562   \n",
       "\n",
       "                    Record  Runtime  \n",
       "Rating                               \n",
       "9.2     Top 250 Eng Movies    142.0  \n",
       "9.2     Top 250 Eng Movies    175.0  \n",
       "9.0     Top 250 Eng Movies    202.0  "
      ],
      "text/html": [
       "<div>\n",
       "<style scoped>\n",
       "    .dataframe tbody tr th:only-of-type {\n",
       "        vertical-align: middle;\n",
       "    }\n",
       "\n",
       "    .dataframe tbody tr th {\n",
       "        vertical-align: top;\n",
       "    }\n",
       "\n",
       "    .dataframe thead th {\n",
       "        text-align: right;\n",
       "    }\n",
       "</style>\n",
       "<table border=\"1\" class=\"dataframe\">\n",
       "  <thead>\n",
       "    <tr style=\"text-align: right;\">\n",
       "      <th></th>\n",
       "      <th>Movie_Title</th>\n",
       "      <th>YR_Released</th>\n",
       "      <th>Num_Reviews</th>\n",
       "      <th>Movie_ID</th>\n",
       "      <th>Record</th>\n",
       "      <th>Runtime</th>\n",
       "    </tr>\n",
       "    <tr>\n",
       "      <th>Rating</th>\n",
       "      <th></th>\n",
       "      <th></th>\n",
       "      <th></th>\n",
       "      <th></th>\n",
       "      <th></th>\n",
       "      <th></th>\n",
       "    </tr>\n",
       "  </thead>\n",
       "  <tbody>\n",
       "    <tr>\n",
       "      <th>9.2</th>\n",
       "      <td>The Shawshank Redemption</td>\n",
       "      <td>1994</td>\n",
       "      <td>1829037</td>\n",
       "      <td>tt0111161</td>\n",
       "      <td>Top 250 Eng Movies</td>\n",
       "      <td>142.0</td>\n",
       "    </tr>\n",
       "    <tr>\n",
       "      <th>9.2</th>\n",
       "      <td>The Godfather</td>\n",
       "      <td>1972</td>\n",
       "      <td>1249333</td>\n",
       "      <td>tt0068646</td>\n",
       "      <td>Top 250 Eng Movies</td>\n",
       "      <td>175.0</td>\n",
       "    </tr>\n",
       "    <tr>\n",
       "      <th>9.0</th>\n",
       "      <td>The Godfather: Part II</td>\n",
       "      <td>1974</td>\n",
       "      <td>860228</td>\n",
       "      <td>tt0071562</td>\n",
       "      <td>Top 250 Eng Movies</td>\n",
       "      <td>202.0</td>\n",
       "    </tr>\n",
       "  </tbody>\n",
       "</table>\n",
       "</div>"
      ]
     },
     "execution_count": 54,
     "metadata": {},
     "output_type": "execute_result"
    }
   ],
   "execution_count": 54
  },
  {
   "cell_type": "markdown",
   "metadata": {
    "collapsed": false,
    "id": "8U4iL30Q-Hpv"
   },
   "source": [
    "The best three movies in the database are `The Shawshank Redemption` and `The Godfather` I \\& II"
   ]
  },
  {
   "cell_type": "markdown",
   "metadata": {
    "collapsed": false,
    "id": "Q9ELUYOg-Hpv"
   },
   "source": [
    "## Sorting"
   ]
  },
  {
   "cell_type": "markdown",
   "metadata": {
    "collapsed": false,
    "id": "0EMnLAUa-Hpv"
   },
   "source": [
    "In the previous section we indexed the film list according to the ranking and sorted the ranking list correspondingly.\n",
    "\n",
    "Here we use a very similar function, `sort_values()`, that lets you sort a table by any column. The `by` parameter is the name or list of names to sort by.\n"
   ]
  },
  {
   "cell_type": "code",
   "metadata": {
    "colab": {
     "base_uri": "https://localhost:8080/",
     "height": 572
    },
    "id": "AkjZJq9x-Hpv",
    "outputId": "9648b7d5-00c9-48e6-e24a-7f4754df87f0",
    "ExecuteTime": {
     "end_time": "2024-09-24T17:43:30.788913Z",
     "start_time": "2024-09-24T17:43:30.781967Z"
    }
   },
   "source": [
    "cdf_imdb = df_imdb.copy()\n",
    "cdf_imdb = cdf_imdb.sort_values(by='Rating', ascending=False)\n",
    "cdf_imdb"
   ],
   "outputs": [
    {
     "data": {
      "text/plain": [
       "                      Movie_Title  YR_Released  Rating  Num_Reviews  \\\n",
       "0        The Shawshank Redemption         1994     9.2      1829037   \n",
       "1                   The Godfather         1972     9.2      1249333   \n",
       "2          The Godfather: Part II         1974     9.0       860228   \n",
       "3                 The Dark Knight         2008     9.0      1808543   \n",
       "4                    12 Angry Men         1957     8.9       497242   \n",
       "..                            ...          ...     ...          ...   \n",
       "832                  Pledge This!         2006     1.7        15836   \n",
       "833  Superbabies: Baby Geniuses 2         2004     1.6        26505   \n",
       "834             Daniel the Wizard         2004     1.6        13295   \n",
       "835              Saving Christmas         2014     1.5        12765   \n",
       "836             Code Name: K.O.Z.         2015     1.4        24623   \n",
       "\n",
       "      Movie_ID              Record  Runtime  \n",
       "0    tt0111161  Top 250 Eng Movies    142.0  \n",
       "1    tt0068646  Top 250 Eng Movies    175.0  \n",
       "2    tt0071562  Top 250 Eng Movies    202.0  \n",
       "3    tt0468569  Top 250 Eng Movies    152.0  \n",
       "4    tt0050083  Top 250 Eng Movies     96.0  \n",
       "..         ...                 ...      ...  \n",
       "832  tt0417056   Bottom 250 Movies     91.0  \n",
       "833  tt0270846   Bottom 250 Movies     88.0  \n",
       "834  tt0421051   Bottom 250 Movies     81.0  \n",
       "835  tt4009460   Bottom 250 Movies     80.0  \n",
       "836  tt4458206   Bottom 250 Movies    114.0  \n",
       "\n",
       "[837 rows x 7 columns]"
      ],
      "text/html": [
       "<div>\n",
       "<style scoped>\n",
       "    .dataframe tbody tr th:only-of-type {\n",
       "        vertical-align: middle;\n",
       "    }\n",
       "\n",
       "    .dataframe tbody tr th {\n",
       "        vertical-align: top;\n",
       "    }\n",
       "\n",
       "    .dataframe thead th {\n",
       "        text-align: right;\n",
       "    }\n",
       "</style>\n",
       "<table border=\"1\" class=\"dataframe\">\n",
       "  <thead>\n",
       "    <tr style=\"text-align: right;\">\n",
       "      <th></th>\n",
       "      <th>Movie_Title</th>\n",
       "      <th>YR_Released</th>\n",
       "      <th>Rating</th>\n",
       "      <th>Num_Reviews</th>\n",
       "      <th>Movie_ID</th>\n",
       "      <th>Record</th>\n",
       "      <th>Runtime</th>\n",
       "    </tr>\n",
       "  </thead>\n",
       "  <tbody>\n",
       "    <tr>\n",
       "      <th>0</th>\n",
       "      <td>The Shawshank Redemption</td>\n",
       "      <td>1994</td>\n",
       "      <td>9.2</td>\n",
       "      <td>1829037</td>\n",
       "      <td>tt0111161</td>\n",
       "      <td>Top 250 Eng Movies</td>\n",
       "      <td>142.0</td>\n",
       "    </tr>\n",
       "    <tr>\n",
       "      <th>1</th>\n",
       "      <td>The Godfather</td>\n",
       "      <td>1972</td>\n",
       "      <td>9.2</td>\n",
       "      <td>1249333</td>\n",
       "      <td>tt0068646</td>\n",
       "      <td>Top 250 Eng Movies</td>\n",
       "      <td>175.0</td>\n",
       "    </tr>\n",
       "    <tr>\n",
       "      <th>2</th>\n",
       "      <td>The Godfather: Part II</td>\n",
       "      <td>1974</td>\n",
       "      <td>9.0</td>\n",
       "      <td>860228</td>\n",
       "      <td>tt0071562</td>\n",
       "      <td>Top 250 Eng Movies</td>\n",
       "      <td>202.0</td>\n",
       "    </tr>\n",
       "    <tr>\n",
       "      <th>3</th>\n",
       "      <td>The Dark Knight</td>\n",
       "      <td>2008</td>\n",
       "      <td>9.0</td>\n",
       "      <td>1808543</td>\n",
       "      <td>tt0468569</td>\n",
       "      <td>Top 250 Eng Movies</td>\n",
       "      <td>152.0</td>\n",
       "    </tr>\n",
       "    <tr>\n",
       "      <th>4</th>\n",
       "      <td>12 Angry Men</td>\n",
       "      <td>1957</td>\n",
       "      <td>8.9</td>\n",
       "      <td>497242</td>\n",
       "      <td>tt0050083</td>\n",
       "      <td>Top 250 Eng Movies</td>\n",
       "      <td>96.0</td>\n",
       "    </tr>\n",
       "    <tr>\n",
       "      <th>...</th>\n",
       "      <td>...</td>\n",
       "      <td>...</td>\n",
       "      <td>...</td>\n",
       "      <td>...</td>\n",
       "      <td>...</td>\n",
       "      <td>...</td>\n",
       "      <td>...</td>\n",
       "    </tr>\n",
       "    <tr>\n",
       "      <th>832</th>\n",
       "      <td>Pledge This!</td>\n",
       "      <td>2006</td>\n",
       "      <td>1.7</td>\n",
       "      <td>15836</td>\n",
       "      <td>tt0417056</td>\n",
       "      <td>Bottom 250 Movies</td>\n",
       "      <td>91.0</td>\n",
       "    </tr>\n",
       "    <tr>\n",
       "      <th>833</th>\n",
       "      <td>Superbabies: Baby Geniuses 2</td>\n",
       "      <td>2004</td>\n",
       "      <td>1.6</td>\n",
       "      <td>26505</td>\n",
       "      <td>tt0270846</td>\n",
       "      <td>Bottom 250 Movies</td>\n",
       "      <td>88.0</td>\n",
       "    </tr>\n",
       "    <tr>\n",
       "      <th>834</th>\n",
       "      <td>Daniel the Wizard</td>\n",
       "      <td>2004</td>\n",
       "      <td>1.6</td>\n",
       "      <td>13295</td>\n",
       "      <td>tt0421051</td>\n",
       "      <td>Bottom 250 Movies</td>\n",
       "      <td>81.0</td>\n",
       "    </tr>\n",
       "    <tr>\n",
       "      <th>835</th>\n",
       "      <td>Saving Christmas</td>\n",
       "      <td>2014</td>\n",
       "      <td>1.5</td>\n",
       "      <td>12765</td>\n",
       "      <td>tt4009460</td>\n",
       "      <td>Bottom 250 Movies</td>\n",
       "      <td>80.0</td>\n",
       "    </tr>\n",
       "    <tr>\n",
       "      <th>836</th>\n",
       "      <td>Code Name: K.O.Z.</td>\n",
       "      <td>2015</td>\n",
       "      <td>1.4</td>\n",
       "      <td>24623</td>\n",
       "      <td>tt4458206</td>\n",
       "      <td>Bottom 250 Movies</td>\n",
       "      <td>114.0</td>\n",
       "    </tr>\n",
       "  </tbody>\n",
       "</table>\n",
       "<p>837 rows × 7 columns</p>\n",
       "</div>"
      ]
     },
     "execution_count": 56,
     "metadata": {},
     "output_type": "execute_result"
    }
   ],
   "execution_count": 56
  },
  {
   "cell_type": "markdown",
   "metadata": {
    "collapsed": false,
    "id": "TE462y8U-Hpv"
   },
   "source": [
    "## Min Max"
   ]
  },
  {
   "cell_type": "markdown",
   "metadata": {
    "collapsed": false,
    "id": "biN6F4l2-Hpv"
   },
   "source": "`pandas` has  `min` and `max` functions, used to find the minimum value and maximum value of any given `DataFrame`."
  },
  {
   "cell_type": "code",
   "metadata": {
    "id": "LL3i-Jgo-Hpv",
    "ExecuteTime": {
     "end_time": "2024-09-24T17:43:39.814678Z",
     "start_time": "2024-09-24T17:43:39.810997Z"
    }
   },
   "source": "df = pd.read_csv(\"subject_grades.csv\")",
   "outputs": [],
   "execution_count": 57
  },
  {
   "cell_type": "code",
   "metadata": {
    "colab": {
     "base_uri": "https://localhost:8080/",
     "height": 175
    },
    "id": "RdFep2wE-Hpw",
    "outputId": "aeeb6001-ebc6-4d1e-eeac-955808ca1800",
    "ExecuteTime": {
     "end_time": "2024-09-24T17:43:46.835827Z",
     "start_time": "2024-09-24T17:43:46.831698Z"
    }
   },
   "source": [
    "df.head(4)"
   ],
   "outputs": [
    {
     "data": {
      "text/plain": [
       "   Physics  Biology  Maths\n",
       "0       80       78     70\n",
       "1       60       98     45\n",
       "2       34       56     65\n",
       "3       56       65     32"
      ],
      "text/html": [
       "<div>\n",
       "<style scoped>\n",
       "    .dataframe tbody tr th:only-of-type {\n",
       "        vertical-align: middle;\n",
       "    }\n",
       "\n",
       "    .dataframe tbody tr th {\n",
       "        vertical-align: top;\n",
       "    }\n",
       "\n",
       "    .dataframe thead th {\n",
       "        text-align: right;\n",
       "    }\n",
       "</style>\n",
       "<table border=\"1\" class=\"dataframe\">\n",
       "  <thead>\n",
       "    <tr style=\"text-align: right;\">\n",
       "      <th></th>\n",
       "      <th>Physics</th>\n",
       "      <th>Biology</th>\n",
       "      <th>Maths</th>\n",
       "    </tr>\n",
       "  </thead>\n",
       "  <tbody>\n",
       "    <tr>\n",
       "      <th>0</th>\n",
       "      <td>80</td>\n",
       "      <td>78</td>\n",
       "      <td>70</td>\n",
       "    </tr>\n",
       "    <tr>\n",
       "      <th>1</th>\n",
       "      <td>60</td>\n",
       "      <td>98</td>\n",
       "      <td>45</td>\n",
       "    </tr>\n",
       "    <tr>\n",
       "      <th>2</th>\n",
       "      <td>34</td>\n",
       "      <td>56</td>\n",
       "      <td>65</td>\n",
       "    </tr>\n",
       "    <tr>\n",
       "      <th>3</th>\n",
       "      <td>56</td>\n",
       "      <td>65</td>\n",
       "      <td>32</td>\n",
       "    </tr>\n",
       "  </tbody>\n",
       "</table>\n",
       "</div>"
      ]
     },
     "execution_count": 58,
     "metadata": {},
     "output_type": "execute_result"
    }
   ],
   "execution_count": 58
  },
  {
   "cell_type": "code",
   "metadata": {
    "colab": {
     "base_uri": "https://localhost:8080/",
     "height": 300
    },
    "id": "dEaoBDNj-Hpw",
    "outputId": "6e0348d9-202c-4993-f137-18b5c92af062",
    "ExecuteTime": {
     "end_time": "2024-09-24T17:43:53.171497Z",
     "start_time": "2024-09-24T17:43:53.163615Z"
    }
   },
   "source": [
    "df.describe()"
   ],
   "outputs": [
    {
     "data": {
      "text/plain": [
       "         Physics    Biology      Maths\n",
       "count  20.000000  20.000000  20.000000\n",
       "mean   66.450000  71.200000  69.500000\n",
       "std    22.705147  19.813871  17.276391\n",
       "min    12.000000  23.000000  32.000000\n",
       "25%    53.250000  56.000000  60.000000\n",
       "50%    72.000000  71.500000  68.000000\n",
       "75%    80.000000  82.000000  81.000000\n",
       "max    98.000000  98.000000  99.000000"
      ],
      "text/html": [
       "<div>\n",
       "<style scoped>\n",
       "    .dataframe tbody tr th:only-of-type {\n",
       "        vertical-align: middle;\n",
       "    }\n",
       "\n",
       "    .dataframe tbody tr th {\n",
       "        vertical-align: top;\n",
       "    }\n",
       "\n",
       "    .dataframe thead th {\n",
       "        text-align: right;\n",
       "    }\n",
       "</style>\n",
       "<table border=\"1\" class=\"dataframe\">\n",
       "  <thead>\n",
       "    <tr style=\"text-align: right;\">\n",
       "      <th></th>\n",
       "      <th>Physics</th>\n",
       "      <th>Biology</th>\n",
       "      <th>Maths</th>\n",
       "    </tr>\n",
       "  </thead>\n",
       "  <tbody>\n",
       "    <tr>\n",
       "      <th>count</th>\n",
       "      <td>20.000000</td>\n",
       "      <td>20.000000</td>\n",
       "      <td>20.000000</td>\n",
       "    </tr>\n",
       "    <tr>\n",
       "      <th>mean</th>\n",
       "      <td>66.450000</td>\n",
       "      <td>71.200000</td>\n",
       "      <td>69.500000</td>\n",
       "    </tr>\n",
       "    <tr>\n",
       "      <th>std</th>\n",
       "      <td>22.705147</td>\n",
       "      <td>19.813871</td>\n",
       "      <td>17.276391</td>\n",
       "    </tr>\n",
       "    <tr>\n",
       "      <th>min</th>\n",
       "      <td>12.000000</td>\n",
       "      <td>23.000000</td>\n",
       "      <td>32.000000</td>\n",
       "    </tr>\n",
       "    <tr>\n",
       "      <th>25%</th>\n",
       "      <td>53.250000</td>\n",
       "      <td>56.000000</td>\n",
       "      <td>60.000000</td>\n",
       "    </tr>\n",
       "    <tr>\n",
       "      <th>50%</th>\n",
       "      <td>72.000000</td>\n",
       "      <td>71.500000</td>\n",
       "      <td>68.000000</td>\n",
       "    </tr>\n",
       "    <tr>\n",
       "      <th>75%</th>\n",
       "      <td>80.000000</td>\n",
       "      <td>82.000000</td>\n",
       "      <td>81.000000</td>\n",
       "    </tr>\n",
       "    <tr>\n",
       "      <th>max</th>\n",
       "      <td>98.000000</td>\n",
       "      <td>98.000000</td>\n",
       "      <td>99.000000</td>\n",
       "    </tr>\n",
       "  </tbody>\n",
       "</table>\n",
       "</div>"
      ]
     },
     "execution_count": 59,
     "metadata": {},
     "output_type": "execute_result"
    }
   ],
   "execution_count": 59
  },
  {
   "cell_type": "markdown",
   "metadata": {
    "collapsed": false,
    "id": "mKhYsz54-Hpw"
   },
   "source": "Show descriptive statistics only for the column of `\"Maths\"`:"
  },
  {
   "cell_type": "code",
   "source": [
    "df['Maths'].describe()"
   ],
   "metadata": {
    "colab": {
     "base_uri": "https://localhost:8080/"
    },
    "id": "kTMUUu-5pXkC",
    "outputId": "e0f93a91-dc23-4e44-95dd-d736cadbe02d",
    "ExecuteTime": {
     "end_time": "2024-09-24T17:44:12.628746Z",
     "start_time": "2024-09-24T17:44:12.624176Z"
    }
   },
   "outputs": [
    {
     "data": {
      "text/plain": [
       "count    20.000000\n",
       "mean     69.500000\n",
       "std      17.276391\n",
       "min      32.000000\n",
       "25%      60.000000\n",
       "50%      68.000000\n",
       "75%      81.000000\n",
       "max      99.000000\n",
       "Name: Maths, dtype: float64"
      ]
     },
     "execution_count": 60,
     "metadata": {},
     "output_type": "execute_result"
    }
   ],
   "execution_count": 60
  },
  {
   "cell_type": "code",
   "metadata": {
    "colab": {
     "base_uri": "https://localhost:8080/"
    },
    "id": "Ui7GqlJb-Hpw",
    "outputId": "eb957216-34cc-48d0-e91e-952136972b6d",
    "ExecuteTime": {
     "end_time": "2024-09-24T17:44:18.799605Z",
     "start_time": "2024-09-24T17:44:18.797174Z"
    }
   },
   "source": [
    "maths_mean = df['Maths'].mean()\n",
    "physics_max = df['Physics'].max()\n",
    "biology_min = df['Biology'].min()\n",
    "print(maths_mean)\n",
    "print(physics_max)\n",
    "print(biology_min)"
   ],
   "outputs": [
    {
     "name": "stdout",
     "output_type": "stream",
     "text": [
      "69.5\n",
      "98\n",
      "23\n"
     ]
    }
   ],
   "execution_count": 61
  },
  {
   "cell_type": "markdown",
   "metadata": {
    "collapsed": false,
    "id": "wkgbZZpX-Hpw"
   },
   "source": "Calculate Min und Max per row:"
  },
  {
   "cell_type": "code",
   "metadata": {
    "id": "K5qSeTns-Hpw",
    "ExecuteTime": {
     "end_time": "2024-09-24T17:44:23.615271Z",
     "start_time": "2024-09-24T17:44:23.611694Z"
    }
   },
   "source": [
    "df['Min'] = df.min(axis=1)\n",
    "df['Max'] = df.max(axis=1)"
   ],
   "outputs": [],
   "execution_count": 62
  },
  {
   "cell_type": "code",
   "metadata": {
    "colab": {
     "base_uri": "https://localhost:8080/",
     "height": 206
    },
    "id": "XJ1k_1-V-Hpx",
    "outputId": "1af0d42a-f763-48f4-fd95-d4c6d0124739",
    "ExecuteTime": {
     "end_time": "2024-09-24T17:44:25.453396Z",
     "start_time": "2024-09-24T17:44:25.449223Z"
    }
   },
   "source": [
    "df.head(5)"
   ],
   "outputs": [
    {
     "data": {
      "text/plain": [
       "   Physics  Biology  Maths  Min  Max\n",
       "0       80       78     70   70   80\n",
       "1       60       98     45   45   98\n",
       "2       34       56     65   34   65\n",
       "3       56       65     32   32   65\n",
       "4       98       23     55   23   98"
      ],
      "text/html": [
       "<div>\n",
       "<style scoped>\n",
       "    .dataframe tbody tr th:only-of-type {\n",
       "        vertical-align: middle;\n",
       "    }\n",
       "\n",
       "    .dataframe tbody tr th {\n",
       "        vertical-align: top;\n",
       "    }\n",
       "\n",
       "    .dataframe thead th {\n",
       "        text-align: right;\n",
       "    }\n",
       "</style>\n",
       "<table border=\"1\" class=\"dataframe\">\n",
       "  <thead>\n",
       "    <tr style=\"text-align: right;\">\n",
       "      <th></th>\n",
       "      <th>Physics</th>\n",
       "      <th>Biology</th>\n",
       "      <th>Maths</th>\n",
       "      <th>Min</th>\n",
       "      <th>Max</th>\n",
       "    </tr>\n",
       "  </thead>\n",
       "  <tbody>\n",
       "    <tr>\n",
       "      <th>0</th>\n",
       "      <td>80</td>\n",
       "      <td>78</td>\n",
       "      <td>70</td>\n",
       "      <td>70</td>\n",
       "      <td>80</td>\n",
       "    </tr>\n",
       "    <tr>\n",
       "      <th>1</th>\n",
       "      <td>60</td>\n",
       "      <td>98</td>\n",
       "      <td>45</td>\n",
       "      <td>45</td>\n",
       "      <td>98</td>\n",
       "    </tr>\n",
       "    <tr>\n",
       "      <th>2</th>\n",
       "      <td>34</td>\n",
       "      <td>56</td>\n",
       "      <td>65</td>\n",
       "      <td>34</td>\n",
       "      <td>65</td>\n",
       "    </tr>\n",
       "    <tr>\n",
       "      <th>3</th>\n",
       "      <td>56</td>\n",
       "      <td>65</td>\n",
       "      <td>32</td>\n",
       "      <td>32</td>\n",
       "      <td>65</td>\n",
       "    </tr>\n",
       "    <tr>\n",
       "      <th>4</th>\n",
       "      <td>98</td>\n",
       "      <td>23</td>\n",
       "      <td>55</td>\n",
       "      <td>23</td>\n",
       "      <td>98</td>\n",
       "    </tr>\n",
       "  </tbody>\n",
       "</table>\n",
       "</div>"
      ]
     },
     "execution_count": 63,
     "metadata": {},
     "output_type": "execute_result"
    }
   ],
   "execution_count": 63
  },
  {
   "cell_type": "markdown",
   "metadata": {
    "collapsed": false,
    "id": "BN03gyrh-Hpx"
   },
   "source": "Calculate Min und Max only for `\"Physics\"` and `\"Maths\"` rows:"
  },
  {
   "cell_type": "code",
   "metadata": {
    "id": "mle6fUqe-Hpx",
    "ExecuteTime": {
     "end_time": "2024-09-24T17:44:30.335565Z",
     "start_time": "2024-09-24T17:44:30.332285Z"
    }
   },
   "source": [
    "df['PMMin'] = df.loc[:, ['Physics', 'Maths']].min(axis=1)\n",
    "df['PMMax'] = df.loc[:, ['Physics', 'Maths']].max(axis=1)"
   ],
   "outputs": [],
   "execution_count": 64
  },
  {
   "cell_type": "code",
   "metadata": {
    "colab": {
     "base_uri": "https://localhost:8080/",
     "height": 206
    },
    "id": "sPLDFIpB-Hpx",
    "outputId": "9670f3d8-c9ab-4a84-9cea-6edabb10b995",
    "ExecuteTime": {
     "end_time": "2024-09-24T17:44:31.687888Z",
     "start_time": "2024-09-24T17:44:31.683306Z"
    }
   },
   "source": [
    "df.head(5)"
   ],
   "outputs": [
    {
     "data": {
      "text/plain": [
       "   Physics  Biology  Maths  Min  Max  PMMin  PMMax\n",
       "0       80       78     70   70   80     70     80\n",
       "1       60       98     45   45   98     45     60\n",
       "2       34       56     65   34   65     34     65\n",
       "3       56       65     32   32   65     32     56\n",
       "4       98       23     55   23   98     55     98"
      ],
      "text/html": [
       "<div>\n",
       "<style scoped>\n",
       "    .dataframe tbody tr th:only-of-type {\n",
       "        vertical-align: middle;\n",
       "    }\n",
       "\n",
       "    .dataframe tbody tr th {\n",
       "        vertical-align: top;\n",
       "    }\n",
       "\n",
       "    .dataframe thead th {\n",
       "        text-align: right;\n",
       "    }\n",
       "</style>\n",
       "<table border=\"1\" class=\"dataframe\">\n",
       "  <thead>\n",
       "    <tr style=\"text-align: right;\">\n",
       "      <th></th>\n",
       "      <th>Physics</th>\n",
       "      <th>Biology</th>\n",
       "      <th>Maths</th>\n",
       "      <th>Min</th>\n",
       "      <th>Max</th>\n",
       "      <th>PMMin</th>\n",
       "      <th>PMMax</th>\n",
       "    </tr>\n",
       "  </thead>\n",
       "  <tbody>\n",
       "    <tr>\n",
       "      <th>0</th>\n",
       "      <td>80</td>\n",
       "      <td>78</td>\n",
       "      <td>70</td>\n",
       "      <td>70</td>\n",
       "      <td>80</td>\n",
       "      <td>70</td>\n",
       "      <td>80</td>\n",
       "    </tr>\n",
       "    <tr>\n",
       "      <th>1</th>\n",
       "      <td>60</td>\n",
       "      <td>98</td>\n",
       "      <td>45</td>\n",
       "      <td>45</td>\n",
       "      <td>98</td>\n",
       "      <td>45</td>\n",
       "      <td>60</td>\n",
       "    </tr>\n",
       "    <tr>\n",
       "      <th>2</th>\n",
       "      <td>34</td>\n",
       "      <td>56</td>\n",
       "      <td>65</td>\n",
       "      <td>34</td>\n",
       "      <td>65</td>\n",
       "      <td>34</td>\n",
       "      <td>65</td>\n",
       "    </tr>\n",
       "    <tr>\n",
       "      <th>3</th>\n",
       "      <td>56</td>\n",
       "      <td>65</td>\n",
       "      <td>32</td>\n",
       "      <td>32</td>\n",
       "      <td>65</td>\n",
       "      <td>32</td>\n",
       "      <td>56</td>\n",
       "    </tr>\n",
       "    <tr>\n",
       "      <th>4</th>\n",
       "      <td>98</td>\n",
       "      <td>23</td>\n",
       "      <td>55</td>\n",
       "      <td>23</td>\n",
       "      <td>98</td>\n",
       "      <td>55</td>\n",
       "      <td>98</td>\n",
       "    </tr>\n",
       "  </tbody>\n",
       "</table>\n",
       "</div>"
      ]
     },
     "execution_count": 65,
     "metadata": {},
     "output_type": "execute_result"
    }
   ],
   "execution_count": 65
  },
  {
   "cell_type": "markdown",
   "metadata": {
    "collapsed": false,
    "id": "xkLVqgS--Hpx"
   },
   "source": "## `idxmin()` and `idxmax()`"
  },
  {
   "cell_type": "markdown",
   "metadata": {
    "collapsed": false,
    "id": "pfvTKVWN-Hpx"
   },
   "source": [
    "In a nutshell, those functions will return the ID (the index position) of the smallest `idxmin()` and largest `idxmax()` item."
   ]
  },
  {
   "cell_type": "markdown",
   "metadata": {
    "collapsed": false,
    "id": "M1DdVq7Q-Hpx"
   },
   "source": [
    "For example, to return to the already mentioned reviewed movie database. Let's assume that we only want to find one of the best and one of the worst rated movies, then we can do the following:"
   ]
  },
  {
   "cell_type": "code",
   "metadata": {
    "id": "ibhK-YVU-Hpx",
    "ExecuteTime": {
     "end_time": "2024-09-24T17:45:19.485209Z",
     "start_time": "2024-09-24T17:45:19.480274Z"
    }
   },
   "source": [
    "import pandas as pd\n",
    "\n",
    "cdf_imdb = pd.read_csv('IMDBdata_hotlist.csv')"
   ],
   "outputs": [],
   "execution_count": 66
  },
  {
   "cell_type": "code",
   "metadata": {
    "colab": {
     "base_uri": "https://localhost:8080/"
    },
    "id": "1aWOUw2Z-Hpx",
    "outputId": "4a134e04-2f17-493e-a17e-f1e973038442",
    "ExecuteTime": {
     "end_time": "2024-09-24T17:45:27.884150Z",
     "start_time": "2024-09-24T17:45:27.881091Z"
    }
   },
   "source": [
    "bestindex = cdf_imdb['Rating'].idxmax()\n",
    "\n",
    "# One of the best movies, i.e. highest rating\n",
    "bestmovie = cdf_imdb.iloc[bestindex]['Movie_Title']\n",
    "\n",
    "print(\"One of the best movies is «{}»\".format(bestmovie))"
   ],
   "outputs": [
    {
     "name": "stdout",
     "output_type": "stream",
     "text": [
      "One of the best movies is «The Shawshank Redemption»\n"
     ]
    }
   ],
   "execution_count": 67
  },
  {
   "cell_type": "markdown",
   "metadata": {
    "collapsed": false,
    "id": "M4cuoLAp-Hpy"
   },
   "source": "Here we apply the function `idxmax()` to the `\"Rating\"` column and get the corresponding index of one of the movies with the maximum rating. This index can be used with the `iloc` operator to get the data frame row of the movie. Using operation chaining, we select the movie title column to get the movie name as a string."
  },
  {
   "cell_type": "code",
   "metadata": {
    "colab": {
     "base_uri": "https://localhost:8080/"
    },
    "id": "oqxcLtpg-Hpy",
    "outputId": "2878f228-8774-4fae-b604-0deef2f45658",
    "ExecuteTime": {
     "end_time": "2024-09-24T17:45:41.850774Z",
     "start_time": "2024-09-24T17:45:41.847807Z"
    }
   },
   "source": [
    "print(\"One of the worst movies is «{}»\".format(cdf_imdb.iloc[cdf_imdb['Rating'].idxmin()]['Movie_Title']))"
   ],
   "outputs": [
    {
     "name": "stdout",
     "output_type": "stream",
     "text": [
      "One of the worst movies is «Code Name: K.O.Z.»\n"
     ]
    }
   ],
   "execution_count": 68
  },
  {
   "cell_type": "markdown",
   "metadata": {
    "collapsed": false,
    "id": "6Y2w_GSh-Hpy"
   },
   "source": "Here we use a comprehensive code, essentially using `idxmin` in the style of the previous `idxmax` example. This means that we use `idxmin()` to get the index of one of the movies with the lowest rating."
  },
  {
   "cell_type": "markdown",
   "metadata": {
    "collapsed": false,
    "id": "2O6cw7P0-Hpy"
   },
   "source": [
    "You can also find the function `argmax()` in source code on the Web or elsewhere. But there is not much difference between `idxmax()` and `argmax()`. `idxmax` returns the index name of the maximum value. `argmax` does the same. However, `idxmax` is a `pandas` function, so it can take `Series` and `DataFrame`. `argmax` is a `NumPy` function.\n",
    "\n"
   ]
  },
  {
   "metadata": {},
   "cell_type": "code",
   "source": "",
   "outputs": [],
   "execution_count": null
  }
 ],
 "metadata": {
  "kernelspec": {
   "display_name": "Python 3 (system-wide)",
   "language": "python",
   "metadata": {
    "cocalc": {
     "description": "Python 3 programming language",
     "priority": 100,
     "url": "https://www.python.org/"
    }
   },
   "name": "python3",
   "resource_dir": "/ext/jupyter/kernels/python3"
  },
  "language_info": {
   "codemirror_mode": {
    "name": "ipython",
    "version": 3
   },
   "file_extension": ".py",
   "mimetype": "text/x-python",
   "name": "python",
   "nbconvert_exporter": "python",
   "pygments_lexer": "ipython3",
   "version": "3.8.5"
  },
  "colab": {
   "provenance": [],
   "collapsed_sections": [
    "x8YNnWOD-Hph"
   ]
  }
 },
 "nbformat": 4,
 "nbformat_minor": 0
}
