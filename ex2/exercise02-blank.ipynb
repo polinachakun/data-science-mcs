{
 "cells": [
  {
   "metadata": {},
   "cell_type": "markdown",
   "source": "Note: This is the blank version of Exercise 02. We will discuss it in class on October 1 (Group 1)/October 2 (Group 2).",
   "id": "dd6868d9a740da14"
  },
  {
   "cell_type": "markdown",
   "id": "a19195d2bb16e679",
   "metadata": {},
   "source": [
    "# Task 1 - Simple Linear Regression\n",
    "\n",
    "- a) Perform a simple linear regression on the `Auto.csv` dataset. Use `mpg` as the response variable and `horsepower` as the predictor variable.\n",
    "    - i) Is there a relationship between the predictor and the response?\n",
    "    - ii) How strong is the relationship between the predictor and the response?\n",
    "    - iii) Is the relationship between the predictor and the response positive or negative?\n",
    "    - iv) What is the predicted `mpg` associated with a `horsepower` of 98? What are the associated 95% confidence and prediction intervals?\n",
    "- b) Plot the response and the predictor. Display the least squares regression line.\n",
    "- c) Perform a multiple linear regression on the dataset. Use `mpg` as the response variable and both `horsepower` and `weight` as the predictor variables. Use `statsmodels` to solve this task (instead of doing it manually). Does this model perform better than the simple linear regression?"
   ]
  },
  {
   "cell_type": "code",
   "id": "c40aae2023569979",
   "metadata": {
    "ExecuteTime": {
     "end_time": "2024-09-25T13:13:01.709573Z",
     "start_time": "2024-09-25T13:13:01.268820Z"
    }
   },
   "source": [
    "import pandas as pd\n",
    "\n",
    "auto_df = pd.read_csv('Auto.csv')\n",
    "\n",
    "auto_df"
   ],
   "outputs": [
    {
     "data": {
      "text/plain": [
       "      mpg  cylinders  displacement horsepower  weight  acceleration  year  \\\n",
       "0    18.0          8         307.0        130    3504          12.0    70   \n",
       "1    15.0          8         350.0        165    3693          11.5    70   \n",
       "2    18.0          8         318.0        150    3436          11.0    70   \n",
       "3    16.0          8         304.0        150    3433          12.0    70   \n",
       "4    17.0          8         302.0        140    3449          10.5    70   \n",
       "..    ...        ...           ...        ...     ...           ...   ...   \n",
       "392  27.0          4         140.0         86    2790          15.6    82   \n",
       "393  44.0          4          97.0         52    2130          24.6    82   \n",
       "394  32.0          4         135.0         84    2295          11.6    82   \n",
       "395  28.0          4         120.0         79    2625          18.6    82   \n",
       "396  31.0          4         119.0         82    2720          19.4    82   \n",
       "\n",
       "     origin                       name  \n",
       "0         1  chevrolet chevelle malibu  \n",
       "1         1          buick skylark 320  \n",
       "2         1         plymouth satellite  \n",
       "3         1              amc rebel sst  \n",
       "4         1                ford torino  \n",
       "..      ...                        ...  \n",
       "392       1            ford mustang gl  \n",
       "393       2                  vw pickup  \n",
       "394       1              dodge rampage  \n",
       "395       1                ford ranger  \n",
       "396       1                 chevy s-10  \n",
       "\n",
       "[397 rows x 9 columns]"
      ],
      "text/html": [
       "<div>\n",
       "<style scoped>\n",
       "    .dataframe tbody tr th:only-of-type {\n",
       "        vertical-align: middle;\n",
       "    }\n",
       "\n",
       "    .dataframe tbody tr th {\n",
       "        vertical-align: top;\n",
       "    }\n",
       "\n",
       "    .dataframe thead th {\n",
       "        text-align: right;\n",
       "    }\n",
       "</style>\n",
       "<table border=\"1\" class=\"dataframe\">\n",
       "  <thead>\n",
       "    <tr style=\"text-align: right;\">\n",
       "      <th></th>\n",
       "      <th>mpg</th>\n",
       "      <th>cylinders</th>\n",
       "      <th>displacement</th>\n",
       "      <th>horsepower</th>\n",
       "      <th>weight</th>\n",
       "      <th>acceleration</th>\n",
       "      <th>year</th>\n",
       "      <th>origin</th>\n",
       "      <th>name</th>\n",
       "    </tr>\n",
       "  </thead>\n",
       "  <tbody>\n",
       "    <tr>\n",
       "      <th>0</th>\n",
       "      <td>18.0</td>\n",
       "      <td>8</td>\n",
       "      <td>307.0</td>\n",
       "      <td>130</td>\n",
       "      <td>3504</td>\n",
       "      <td>12.0</td>\n",
       "      <td>70</td>\n",
       "      <td>1</td>\n",
       "      <td>chevrolet chevelle malibu</td>\n",
       "    </tr>\n",
       "    <tr>\n",
       "      <th>1</th>\n",
       "      <td>15.0</td>\n",
       "      <td>8</td>\n",
       "      <td>350.0</td>\n",
       "      <td>165</td>\n",
       "      <td>3693</td>\n",
       "      <td>11.5</td>\n",
       "      <td>70</td>\n",
       "      <td>1</td>\n",
       "      <td>buick skylark 320</td>\n",
       "    </tr>\n",
       "    <tr>\n",
       "      <th>2</th>\n",
       "      <td>18.0</td>\n",
       "      <td>8</td>\n",
       "      <td>318.0</td>\n",
       "      <td>150</td>\n",
       "      <td>3436</td>\n",
       "      <td>11.0</td>\n",
       "      <td>70</td>\n",
       "      <td>1</td>\n",
       "      <td>plymouth satellite</td>\n",
       "    </tr>\n",
       "    <tr>\n",
       "      <th>3</th>\n",
       "      <td>16.0</td>\n",
       "      <td>8</td>\n",
       "      <td>304.0</td>\n",
       "      <td>150</td>\n",
       "      <td>3433</td>\n",
       "      <td>12.0</td>\n",
       "      <td>70</td>\n",
       "      <td>1</td>\n",
       "      <td>amc rebel sst</td>\n",
       "    </tr>\n",
       "    <tr>\n",
       "      <th>4</th>\n",
       "      <td>17.0</td>\n",
       "      <td>8</td>\n",
       "      <td>302.0</td>\n",
       "      <td>140</td>\n",
       "      <td>3449</td>\n",
       "      <td>10.5</td>\n",
       "      <td>70</td>\n",
       "      <td>1</td>\n",
       "      <td>ford torino</td>\n",
       "    </tr>\n",
       "    <tr>\n",
       "      <th>...</th>\n",
       "      <td>...</td>\n",
       "      <td>...</td>\n",
       "      <td>...</td>\n",
       "      <td>...</td>\n",
       "      <td>...</td>\n",
       "      <td>...</td>\n",
       "      <td>...</td>\n",
       "      <td>...</td>\n",
       "      <td>...</td>\n",
       "    </tr>\n",
       "    <tr>\n",
       "      <th>392</th>\n",
       "      <td>27.0</td>\n",
       "      <td>4</td>\n",
       "      <td>140.0</td>\n",
       "      <td>86</td>\n",
       "      <td>2790</td>\n",
       "      <td>15.6</td>\n",
       "      <td>82</td>\n",
       "      <td>1</td>\n",
       "      <td>ford mustang gl</td>\n",
       "    </tr>\n",
       "    <tr>\n",
       "      <th>393</th>\n",
       "      <td>44.0</td>\n",
       "      <td>4</td>\n",
       "      <td>97.0</td>\n",
       "      <td>52</td>\n",
       "      <td>2130</td>\n",
       "      <td>24.6</td>\n",
       "      <td>82</td>\n",
       "      <td>2</td>\n",
       "      <td>vw pickup</td>\n",
       "    </tr>\n",
       "    <tr>\n",
       "      <th>394</th>\n",
       "      <td>32.0</td>\n",
       "      <td>4</td>\n",
       "      <td>135.0</td>\n",
       "      <td>84</td>\n",
       "      <td>2295</td>\n",
       "      <td>11.6</td>\n",
       "      <td>82</td>\n",
       "      <td>1</td>\n",
       "      <td>dodge rampage</td>\n",
       "    </tr>\n",
       "    <tr>\n",
       "      <th>395</th>\n",
       "      <td>28.0</td>\n",
       "      <td>4</td>\n",
       "      <td>120.0</td>\n",
       "      <td>79</td>\n",
       "      <td>2625</td>\n",
       "      <td>18.6</td>\n",
       "      <td>82</td>\n",
       "      <td>1</td>\n",
       "      <td>ford ranger</td>\n",
       "    </tr>\n",
       "    <tr>\n",
       "      <th>396</th>\n",
       "      <td>31.0</td>\n",
       "      <td>4</td>\n",
       "      <td>119.0</td>\n",
       "      <td>82</td>\n",
       "      <td>2720</td>\n",
       "      <td>19.4</td>\n",
       "      <td>82</td>\n",
       "      <td>1</td>\n",
       "      <td>chevy s-10</td>\n",
       "    </tr>\n",
       "  </tbody>\n",
       "</table>\n",
       "<p>397 rows × 9 columns</p>\n",
       "</div>"
      ]
     },
     "execution_count": 1,
     "metadata": {},
     "output_type": "execute_result"
    }
   ],
   "execution_count": 1
  },
  {
   "cell_type": "markdown",
   "id": "2546c5b4d17eff56",
   "metadata": {},
   "source": [
    "i) Is there a relationship between the predictor and the response?"
   ]
  },
  {
   "metadata": {},
   "cell_type": "code",
   "source": "",
   "id": "a04f0bb2f972d970",
   "outputs": [],
   "execution_count": null
  },
  {
   "cell_type": "markdown",
   "id": "42fab47a4e1dcc67",
   "metadata": {},
   "source": [
    "ii) How strong is the relationship between the predictor and the response?"
   ]
  },
  {
   "metadata": {},
   "cell_type": "code",
   "source": "",
   "id": "364ee14b4e0b3516",
   "outputs": [],
   "execution_count": null
  },
  {
   "metadata": {},
   "cell_type": "markdown",
   "source": "iii) Is the relationship between the predictor and the response positive or negative?",
   "id": "b4ea5022a526af73"
  },
  {
   "metadata": {},
   "cell_type": "code",
   "source": "",
   "id": "17c377d63990b7c9",
   "outputs": [],
   "execution_count": null
  },
  {
   "metadata": {},
   "cell_type": "markdown",
   "source": "iv) What is the predicted `mpg` associated with a `horsepower` of 98? What are the associated 95% confidence and prediction intervals?",
   "id": "5c9b3560a9f32f99"
  },
  {
   "metadata": {},
   "cell_type": "code",
   "source": "",
   "id": "3e054db282bc5bf2",
   "outputs": [],
   "execution_count": null
  },
  {
   "cell_type": "markdown",
   "id": "be3bec98769682ea",
   "metadata": {},
   "source": [
    "b) Plot the response and the predictor. Display the least squares regression line."
   ]
  },
  {
   "metadata": {},
   "cell_type": "code",
   "source": "",
   "id": "47835e1cea47ac7c",
   "outputs": [],
   "execution_count": null
  },
  {
   "cell_type": "markdown",
   "id": "5fc372ffde12f1d6",
   "metadata": {},
   "source": [
    "c) Perform a multiple linear regression on the dataset. Use `mpg` as the response variable and both `horsepower` and `weight` as the predictor variables. Use `statsmodels` to solve this task (instead of doing it manually). Does this model perform better than the simple linear regression?"
   ]
  },
  {
   "metadata": {},
   "cell_type": "code",
   "source": "",
   "id": "26a15f39ad2f375c",
   "outputs": [],
   "execution_count": null
  },
  {
   "cell_type": "markdown",
   "id": "ad57d1acfba0c21f",
   "metadata": {},
   "source": [
    "# Task 2 - Pokemon Linear Regression\n",
    "\n",
    "- a) Perform a simple linear regression on the `pokemon.csv` dataset. Use `generation` as the response variable and `speed` as the predictor variable. Use `statsmodels` to solve this task.\n",
    "    - i) Is there a relationship between the predictor and the response?\n",
    "    - ii) How strong is the relationship between the predictor and the response?\n",
    "    - iii) Is the relationship between the predictor and the response positive or negative?\n",
    "- b) 💬 Discuss in pairs: How can you improve the model or build a new, better model?"
   ]
  },
  {
   "cell_type": "code",
   "id": "d3950d2861f4fade",
   "metadata": {},
   "source": [
    "pokemon_df = pd.read_csv('pokemon.csv')\n",
    "pokemon_df"
   ],
   "outputs": [],
   "execution_count": null
  },
  {
   "metadata": {},
   "cell_type": "markdown",
   "source": "b) How can you improve the model or build a new, better model?",
   "id": "95aeb0ac51c7c1e6"
  },
  {
   "metadata": {},
   "cell_type": "code",
   "source": "",
   "id": "c625fe35a8ac7d1c",
   "outputs": [],
   "execution_count": null
  },
  {
   "cell_type": "markdown",
   "id": "b373daf6716e81df",
   "metadata": {},
   "source": [
    "# Task 3 - Databases\n",
    "\n",
    "In this task we have access to the Spotify database (not really, but let's pretend it's the actual Spotify database - it's a dataset taken from [Kaggle](https://www.kaggle.com/datasets/maharshipandya/-spotify-tracks-dataset)).\n",
    "\n",
    "The focus of this course is not on databases, but they are something you will encounter in Data Science projects. If you want to learn more about databases, there is a course called *Advanced Databases* that you can take!\n",
    "\n",
    "We will pretend like we know nothing about the database and will try to explore it.\n",
    "\n",
    "\n",
    "- a) Load the database into a DataFrame. You can use [`pd.read_sql`](https://pandas.pydata.org/pandas-docs/stable/reference/api/pandas.read_sql.html) to do this.\n",
    "- b) 💬 Discuss in pairs: Do you notice any issues? If so, what are they?\n",
    "    - There are multiple things that could be improved in this DataFrame. Depending on what step(s) you would do next with this data you can ignore them, or you have to find ways to fix or work around them.\n",
    "    - In this scenario, we want to train a model that can detect if a text is explicit or not - we want to train a model on this data using the `explicit` and `track_name` columns. There is one main issue that we need to fix before we can do this.\n",
    "    - *Hint*: There is a cell provided that highlights the issue. Try to find it without using it first - in a real project checking for potential issues in your data is a step that you need to do without any help.\n",
    "- c) Fix the issue(s) you have found.\n"
   ]
  },
  {
   "cell_type": "code",
   "id": "a0e61f606abbeee5",
   "metadata": {},
   "source": [
    "# the cell here may not display anything, depending on how you run the notebook - if it doesn't work you can ignore it\n",
    "# it should work if you open your jupyter notebook in a browser\n",
    "from IPython.display import display, HTML\n",
    "\n",
    "spotify_embed_code = \"\"\"\n",
    "<iframe style=\"border-radius:12px\" src=\"https://open.spotify.com/embed/track/3QeOoGlEnOfsgghQvsLenS?utm_source=generator&theme=0\" width=\"100%\" height=\"352\" frameBorder=\"0\" allowfullscreen=\"\" allow=\"autoplay; clipboard-write; encrypted-media; fullscreen; picture-in-picture\" loading=\"lazy\"></iframe>\n",
    "\"\"\"\n",
    "display(HTML(spotify_embed_code))"
   ],
   "outputs": [],
   "execution_count": null
  },
  {
   "cell_type": "markdown",
   "id": "b38f5bb06eba2af2",
   "metadata": {},
   "source": [
    "In our case the database is a very simple `sqlite` database. It's just one file - `database.db`. Normally databases are much more complex and consist of multiple files and sharing them is not as trivial as it is in our case."
   ]
  },
  {
   "cell_type": "code",
   "id": "2f9beb7b28b8d056",
   "metadata": {},
   "source": [
    "import sqlite3\n",
    "\n",
    "conn = sqlite3.connect('database.db')\n",
    "cursor = conn.cursor()\n",
    "\n",
    "cursor.execute(\"SELECT name FROM sqlite_master WHERE type='table';\")\n",
    "tables = cursor.fetchall()\n",
    "tables"
   ],
   "outputs": [],
   "execution_count": null
  },
  {
   "cell_type": "code",
   "id": "860bc2569563269d",
   "metadata": {},
   "source": [
    "# get all column names\n",
    "cursor.execute(\"PRAGMA table_info(spotify)\")\n",
    "columns = cursor.fetchall()\n",
    "columns"
   ],
   "outputs": [],
   "execution_count": null
  },
  {
   "cell_type": "markdown",
   "id": "c18643407b2ddcfd",
   "metadata": {},
   "source": [
    "Solution a):"
   ]
  },
  {
   "metadata": {},
   "cell_type": "code",
   "source": "spotify_df = ...",
   "id": "8a901dfe3056f78d",
   "outputs": [],
   "execution_count": null
  },
  {
   "cell_type": "markdown",
   "id": "ff4f9d4e7c329c68",
   "metadata": {},
   "source": [
    "Task b) hint cell:"
   ]
  },
  {
   "cell_type": "code",
   "id": "cfd430fbb8832ae4",
   "metadata": {},
   "source": "# spotify_df[spotify_df['artists'] == 'Nightwish']",
   "outputs": [],
   "execution_count": null
  },
  {
   "metadata": {},
   "cell_type": "markdown",
   "source": "Solution b):\n",
   "id": "18ba66c60045268e"
  },
  {
   "metadata": {},
   "cell_type": "code",
   "source": "",
   "id": "9257e31b4ba3313b",
   "outputs": [],
   "execution_count": null
  },
  {
   "cell_type": "markdown",
   "id": "59081e1e5249b5d7",
   "metadata": {},
   "source": [
    "Solution c):"
   ]
  },
  {
   "cell_type": "code",
   "id": "4f015b2a79eeb910",
   "metadata": {},
   "source": [],
   "outputs": [],
   "execution_count": null
  }
 ],
 "metadata": {
  "kernelspec": {
   "display_name": "Python 3 (ipykernel)",
   "language": "python",
   "name": "python3"
  },
  "language_info": {
   "codemirror_mode": {
    "name": "ipython",
    "version": 3
   },
   "file_extension": ".py",
   "mimetype": "text/x-python",
   "name": "python",
   "nbconvert_exporter": "python",
   "pygments_lexer": "ipython3",
   "version": "3.11.10"
  }
 },
 "nbformat": 4,
 "nbformat_minor": 5
}
